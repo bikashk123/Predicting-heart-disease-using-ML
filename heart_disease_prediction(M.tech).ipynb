{
 "cells": [
  {
   "cell_type": "code",
   "execution_count": 1,
   "metadata": {},
   "outputs": [],
   "source": [
    "import numpy as np\n",
    "import pandas as pd\n",
    "from pandas.plotting import scatter_matrix\n",
    "import seaborn as sns\n",
    "import matplotlib.pyplot as plt"
   ]
  },
  {
   "cell_type": "code",
   "execution_count": 2,
   "metadata": {},
   "outputs": [],
   "source": [
    "from sklearn.model_selection import train_test_split\n",
    "from sklearn.metrics import confusion_matrix ,accuracy_score\n",
    "from sklearn.metrics import classification_report\n",
    "from sklearn.model_selection import cross_val_score\n",
    "from warnings import filterwarnings\n",
    "filterwarnings('ignore')"
   ]
  },
  {
   "cell_type": "code",
   "execution_count": 3,
   "metadata": {},
   "outputs": [],
   "source": [
    "from sklearn.linear_model import LogisticRegression\n",
    "from sklearn.neighbors import KNeighborsClassifier\n",
    "from sklearn.svm import SVC\n",
    "from sklearn.naive_bayes import BernoulliNB\n",
    "from sklearn.ensemble import RandomForestClassifier\n",
    "from sklearn.model_selection import GridSearchCV\n",
    "from sklearn.model_selection import RandomizedSearchCV"
   ]
  },
  {
   "cell_type": "code",
   "execution_count": 4,
   "metadata": {},
   "outputs": [],
   "source": [
    "heart_data1=pd.read_csv('file.csv')\n",
    "heart_data2=pd.read_csv('cleveland.csv')"
   ]
  },
  {
   "cell_type": "code",
   "execution_count": 5,
   "metadata": {},
   "outputs": [],
   "source": [
    "#0 absence diagnosis, 1 presence diagnosis\n",
    "Diagnosis={1:0,2:1}\n",
    "heart_data1['Diagnosis']= heart_data1['Diagnosis'].map(Diagnosis) "
   ]
  },
  {
   "cell_type": "code",
   "execution_count": 6,
   "metadata": {},
   "outputs": [],
   "source": [
    "Diagnosis={0:0,1:1,2:1,3:1,4:1}\n",
    "heart_data2['Diagnosis']= heart_data2['Diagnosis'].map(Diagnosis) "
   ]
  },
  {
   "cell_type": "code",
   "execution_count": 7,
   "metadata": {},
   "outputs": [
    {
     "data": {
      "text/plain": [
       "age                   573\n",
       "sex                   573\n",
       "cp                    573\n",
       "restbps               573\n",
       "chol                  573\n",
       "fbs                   573\n",
       "restecg               573\n",
       "maximum_heart_rate    573\n",
       "exang                 573\n",
       "oldpeak               573\n",
       "slope                 573\n",
       "major_vessels         569\n",
       "thal                  571\n",
       "Diagnosis             573\n",
       "dtype: int64"
      ]
     },
     "execution_count": 7,
     "metadata": {},
     "output_type": "execute_result"
    }
   ],
   "source": [
    "frames = [heart_data1, heart_data2]\n",
    "data = pd.concat(frames)\n",
    "data.count()"
   ]
  },
  {
   "cell_type": "markdown",
   "metadata": {},
   "source": [
    "# Data Preprocessing"
   ]
  },
  {
   "cell_type": "code",
   "execution_count": 8,
   "metadata": {},
   "outputs": [
    {
     "data": {
      "text/plain": [
       "2"
      ]
     },
     "execution_count": 8,
     "metadata": {},
     "output_type": "execute_result"
    }
   ],
   "source": [
    "data.isnull().any().sum()"
   ]
  },
  {
   "cell_type": "code",
   "execution_count": 9,
   "metadata": {},
   "outputs": [
    {
     "data": {
      "text/plain": [
       "(567, 14)"
      ]
     },
     "execution_count": 9,
     "metadata": {},
     "output_type": "execute_result"
    }
   ],
   "source": [
    "heart_data=data.dropna()\n",
    "heart_data.shape"
   ]
  },
  {
   "cell_type": "code",
   "execution_count": 10,
   "metadata": {},
   "outputs": [
    {
     "data": {
      "text/html": [
       "<div>\n",
       "<style scoped>\n",
       "    .dataframe tbody tr th:only-of-type {\n",
       "        vertical-align: middle;\n",
       "    }\n",
       "\n",
       "    .dataframe tbody tr th {\n",
       "        vertical-align: top;\n",
       "    }\n",
       "\n",
       "    .dataframe thead th {\n",
       "        text-align: right;\n",
       "    }\n",
       "</style>\n",
       "<table border=\"1\" class=\"dataframe\">\n",
       "  <thead>\n",
       "    <tr style=\"text-align: right;\">\n",
       "      <th></th>\n",
       "      <th>age</th>\n",
       "      <th>sex</th>\n",
       "      <th>cp</th>\n",
       "      <th>restbps</th>\n",
       "      <th>chol</th>\n",
       "      <th>fbs</th>\n",
       "      <th>restecg</th>\n",
       "      <th>maximum_heart_rate</th>\n",
       "      <th>exang</th>\n",
       "      <th>oldpeak</th>\n",
       "      <th>slope</th>\n",
       "      <th>major_vessels</th>\n",
       "      <th>thal</th>\n",
       "      <th>Diagnosis</th>\n",
       "    </tr>\n",
       "  </thead>\n",
       "  <tbody>\n",
       "    <tr>\n",
       "      <td>0</td>\n",
       "      <td>70.0</td>\n",
       "      <td>1.0</td>\n",
       "      <td>4.0</td>\n",
       "      <td>130.0</td>\n",
       "      <td>322.0</td>\n",
       "      <td>0.0</td>\n",
       "      <td>2.0</td>\n",
       "      <td>109.0</td>\n",
       "      <td>0.0</td>\n",
       "      <td>2.4</td>\n",
       "      <td>2.0</td>\n",
       "      <td>3.0</td>\n",
       "      <td>3.0</td>\n",
       "      <td>1</td>\n",
       "    </tr>\n",
       "    <tr>\n",
       "      <td>1</td>\n",
       "      <td>67.0</td>\n",
       "      <td>0.0</td>\n",
       "      <td>3.0</td>\n",
       "      <td>115.0</td>\n",
       "      <td>564.0</td>\n",
       "      <td>0.0</td>\n",
       "      <td>2.0</td>\n",
       "      <td>160.0</td>\n",
       "      <td>0.0</td>\n",
       "      <td>1.6</td>\n",
       "      <td>2.0</td>\n",
       "      <td>0.0</td>\n",
       "      <td>7.0</td>\n",
       "      <td>0</td>\n",
       "    </tr>\n",
       "    <tr>\n",
       "      <td>2</td>\n",
       "      <td>57.0</td>\n",
       "      <td>1.0</td>\n",
       "      <td>2.0</td>\n",
       "      <td>124.0</td>\n",
       "      <td>261.0</td>\n",
       "      <td>0.0</td>\n",
       "      <td>0.0</td>\n",
       "      <td>141.0</td>\n",
       "      <td>0.0</td>\n",
       "      <td>0.3</td>\n",
       "      <td>1.0</td>\n",
       "      <td>0.0</td>\n",
       "      <td>7.0</td>\n",
       "      <td>1</td>\n",
       "    </tr>\n",
       "    <tr>\n",
       "      <td>3</td>\n",
       "      <td>64.0</td>\n",
       "      <td>1.0</td>\n",
       "      <td>4.0</td>\n",
       "      <td>128.0</td>\n",
       "      <td>263.0</td>\n",
       "      <td>0.0</td>\n",
       "      <td>0.0</td>\n",
       "      <td>105.0</td>\n",
       "      <td>1.0</td>\n",
       "      <td>0.2</td>\n",
       "      <td>2.0</td>\n",
       "      <td>1.0</td>\n",
       "      <td>7.0</td>\n",
       "      <td>0</td>\n",
       "    </tr>\n",
       "    <tr>\n",
       "      <td>4</td>\n",
       "      <td>74.0</td>\n",
       "      <td>0.0</td>\n",
       "      <td>2.0</td>\n",
       "      <td>120.0</td>\n",
       "      <td>269.0</td>\n",
       "      <td>0.0</td>\n",
       "      <td>2.0</td>\n",
       "      <td>121.0</td>\n",
       "      <td>1.0</td>\n",
       "      <td>0.2</td>\n",
       "      <td>1.0</td>\n",
       "      <td>1.0</td>\n",
       "      <td>3.0</td>\n",
       "      <td>0</td>\n",
       "    </tr>\n",
       "  </tbody>\n",
       "</table>\n",
       "</div>"
      ],
      "text/plain": [
       "    age  sex   cp  restbps   chol  fbs  restecg  maximum_heart_rate  exang  \\\n",
       "0  70.0  1.0  4.0    130.0  322.0  0.0      2.0               109.0    0.0   \n",
       "1  67.0  0.0  3.0    115.0  564.0  0.0      2.0               160.0    0.0   \n",
       "2  57.0  1.0  2.0    124.0  261.0  0.0      0.0               141.0    0.0   \n",
       "3  64.0  1.0  4.0    128.0  263.0  0.0      0.0               105.0    1.0   \n",
       "4  74.0  0.0  2.0    120.0  269.0  0.0      2.0               121.0    1.0   \n",
       "\n",
       "   oldpeak  slope  major_vessels  thal  Diagnosis  \n",
       "0      2.4    2.0            3.0   3.0          1  \n",
       "1      1.6    2.0            0.0   7.0          0  \n",
       "2      0.3    1.0            0.0   7.0          1  \n",
       "3      0.2    2.0            1.0   7.0          0  \n",
       "4      0.2    1.0            1.0   3.0          0  "
      ]
     },
     "execution_count": 10,
     "metadata": {},
     "output_type": "execute_result"
    }
   ],
   "source": [
    "data1=heart_data\n",
    "data1.head()"
   ]
  },
  {
   "cell_type": "code",
   "execution_count": 11,
   "metadata": {},
   "outputs": [],
   "source": [
    "data2=pd.get_dummies(data1,prefix=None, prefix_sep='_', dummy_na=False, columns=['cp','restecg','slope','major_vessels','thal'])"
   ]
  },
  {
   "cell_type": "code",
   "execution_count": 12,
   "metadata": {},
   "outputs": [
    {
     "data": {
      "text/plain": [
       "Index(['age', 'sex', 'restbps', 'chol', 'fbs', 'maximum_heart_rate', 'exang',\n",
       "       'oldpeak', 'Diagnosis', 'cp_1.0', 'cp_2.0', 'cp_3.0', 'cp_4.0',\n",
       "       'restecg_0.0', 'restecg_1.0', 'restecg_2.0', 'slope_1.0', 'slope_2.0',\n",
       "       'slope_3.0', 'major_vessels_0.0', 'major_vessels_1.0',\n",
       "       'major_vessels_2.0', 'major_vessels_3.0', 'thal_3.0', 'thal_6.0',\n",
       "       'thal_7.0'],\n",
       "      dtype='object')"
      ]
     },
     "execution_count": 12,
     "metadata": {},
     "output_type": "execute_result"
    }
   ],
   "source": [
    "data2.columns"
   ]
  },
  {
   "cell_type": "code",
   "execution_count": 13,
   "metadata": {},
   "outputs": [
    {
     "data": {
      "text/plain": [
       "(567, 26)"
      ]
     },
     "execution_count": 13,
     "metadata": {},
     "output_type": "execute_result"
    }
   ],
   "source": [
    "data2.shape"
   ]
  },
  {
   "cell_type": "code",
   "execution_count": 14,
   "metadata": {},
   "outputs": [],
   "source": [
    "data3=data2.drop(['sex','Diagnosis', 'fbs','exang','cp_1.0', 'cp_2.0', 'cp_3.0', 'cp_4.0',\n",
    "                  'restecg_0.0', 'restecg_1.0', 'restecg_2.0', 'slope_1.0', 'slope_2.0',\n",
    "       'slope_3.0', 'major_vessels_0.0', 'major_vessels_1.0','major_vessels_2.0',\n",
    "                  'major_vessels_3.0', 'thal_3.0', 'thal_6.0',\n",
    "       'thal_7.0'],axis=1) "
   ]
  },
  {
   "cell_type": "code",
   "execution_count": 15,
   "metadata": {},
   "outputs": [
    {
     "data": {
      "text/html": [
       "<div>\n",
       "<style scoped>\n",
       "    .dataframe tbody tr th:only-of-type {\n",
       "        vertical-align: middle;\n",
       "    }\n",
       "\n",
       "    .dataframe tbody tr th {\n",
       "        vertical-align: top;\n",
       "    }\n",
       "\n",
       "    .dataframe thead th {\n",
       "        text-align: right;\n",
       "    }\n",
       "</style>\n",
       "<table border=\"1\" class=\"dataframe\">\n",
       "  <thead>\n",
       "    <tr style=\"text-align: right;\">\n",
       "      <th></th>\n",
       "      <th>age</th>\n",
       "      <th>restbps</th>\n",
       "      <th>chol</th>\n",
       "      <th>maximum_heart_rate</th>\n",
       "      <th>oldpeak</th>\n",
       "    </tr>\n",
       "  </thead>\n",
       "  <tbody>\n",
       "    <tr>\n",
       "      <td>0</td>\n",
       "      <td>70.0</td>\n",
       "      <td>130.0</td>\n",
       "      <td>322.0</td>\n",
       "      <td>109.0</td>\n",
       "      <td>2.4</td>\n",
       "    </tr>\n",
       "    <tr>\n",
       "      <td>1</td>\n",
       "      <td>67.0</td>\n",
       "      <td>115.0</td>\n",
       "      <td>564.0</td>\n",
       "      <td>160.0</td>\n",
       "      <td>1.6</td>\n",
       "    </tr>\n",
       "    <tr>\n",
       "      <td>2</td>\n",
       "      <td>57.0</td>\n",
       "      <td>124.0</td>\n",
       "      <td>261.0</td>\n",
       "      <td>141.0</td>\n",
       "      <td>0.3</td>\n",
       "    </tr>\n",
       "    <tr>\n",
       "      <td>3</td>\n",
       "      <td>64.0</td>\n",
       "      <td>128.0</td>\n",
       "      <td>263.0</td>\n",
       "      <td>105.0</td>\n",
       "      <td>0.2</td>\n",
       "    </tr>\n",
       "    <tr>\n",
       "      <td>4</td>\n",
       "      <td>74.0</td>\n",
       "      <td>120.0</td>\n",
       "      <td>269.0</td>\n",
       "      <td>121.0</td>\n",
       "      <td>0.2</td>\n",
       "    </tr>\n",
       "  </tbody>\n",
       "</table>\n",
       "</div>"
      ],
      "text/plain": [
       "    age  restbps   chol  maximum_heart_rate  oldpeak\n",
       "0  70.0    130.0  322.0               109.0      2.4\n",
       "1  67.0    115.0  564.0               160.0      1.6\n",
       "2  57.0    124.0  261.0               141.0      0.3\n",
       "3  64.0    128.0  263.0               105.0      0.2\n",
       "4  74.0    120.0  269.0               121.0      0.2"
      ]
     },
     "execution_count": 15,
     "metadata": {},
     "output_type": "execute_result"
    }
   ],
   "source": [
    "data3.head()"
   ]
  },
  {
   "cell_type": "code",
   "execution_count": 16,
   "metadata": {},
   "outputs": [],
   "source": [
    "from sklearn.preprocessing import MinMaxScaler\n",
    "names = data3.columns\n",
    "scaler = MinMaxScaler(feature_range=(0,1))\n",
    "data4 = scaler.fit_transform(data3)\n",
    "data4 = pd.DataFrame(data4, columns=names)"
   ]
  },
  {
   "cell_type": "code",
   "execution_count": 17,
   "metadata": {},
   "outputs": [],
   "source": [
    "data5=data2.drop(['age','restbps','chol','maximum_heart_rate','oldpeak'],axis=1)"
   ]
  },
  {
   "cell_type": "code",
   "execution_count": 18,
   "metadata": {},
   "outputs": [
    {
     "data": {
      "text/plain": [
       "((567, 5), (567, 21))"
      ]
     },
     "execution_count": 18,
     "metadata": {},
     "output_type": "execute_result"
    }
   ],
   "source": [
    "data4.shape,data5.shape"
   ]
  },
  {
   "cell_type": "code",
   "execution_count": 19,
   "metadata": {},
   "outputs": [
    {
     "data": {
      "text/plain": [
       "Index(['age', 'restbps', 'chol', 'maximum_heart_rate', 'oldpeak'], dtype='object')"
      ]
     },
     "execution_count": 19,
     "metadata": {},
     "output_type": "execute_result"
    }
   ],
   "source": [
    "data4.columns"
   ]
  },
  {
   "cell_type": "code",
   "execution_count": 20,
   "metadata": {},
   "outputs": [
    {
     "data": {
      "text/plain": [
       "Index(['sex', 'fbs', 'exang', 'Diagnosis', 'cp_1.0', 'cp_2.0', 'cp_3.0',\n",
       "       'cp_4.0', 'restecg_0.0', 'restecg_1.0', 'restecg_2.0', 'slope_1.0',\n",
       "       'slope_2.0', 'slope_3.0', 'major_vessels_0.0', 'major_vessels_1.0',\n",
       "       'major_vessels_2.0', 'major_vessels_3.0', 'thal_3.0', 'thal_6.0',\n",
       "       'thal_7.0'],\n",
       "      dtype='object')"
      ]
     },
     "execution_count": 20,
     "metadata": {},
     "output_type": "execute_result"
    }
   ],
   "source": [
    "data5.columns"
   ]
  },
  {
   "cell_type": "code",
   "execution_count": 21,
   "metadata": {},
   "outputs": [
    {
     "name": "stdout",
     "output_type": "stream",
     "text": [
      "<class 'pandas.core.frame.DataFrame'>\n",
      "<class 'pandas.core.frame.DataFrame'>\n"
     ]
    }
   ],
   "source": [
    "print(type(data5))\n",
    "print(type(data4))"
   ]
  },
  {
   "cell_type": "code",
   "execution_count": 22,
   "metadata": {},
   "outputs": [],
   "source": [
    "data4.reset_index(drop=True, inplace=True)\n",
    "data5.reset_index(drop=True, inplace=True)\n",
    "df = pd.concat([data4, data5], axis=1)"
   ]
  },
  {
   "cell_type": "code",
   "execution_count": 23,
   "metadata": {},
   "outputs": [
    {
     "data": {
      "text/plain": [
       "(567, 26)"
      ]
     },
     "execution_count": 23,
     "metadata": {},
     "output_type": "execute_result"
    }
   ],
   "source": [
    "df.shape"
   ]
  },
  {
   "cell_type": "code",
   "execution_count": 24,
   "metadata": {},
   "outputs": [
    {
     "data": {
      "text/plain": [
       "0    310\n",
       "1    257\n",
       "Name: Diagnosis, dtype: int64"
      ]
     },
     "execution_count": 24,
     "metadata": {},
     "output_type": "execute_result"
    }
   ],
   "source": [
    "count = df.Diagnosis.value_counts()\n",
    "count"
   ]
  },
  {
   "cell_type": "code",
   "execution_count": 25,
   "metadata": {},
   "outputs": [
    {
     "data": {
      "text/html": [
       "<div>\n",
       "<style scoped>\n",
       "    .dataframe tbody tr th:only-of-type {\n",
       "        vertical-align: middle;\n",
       "    }\n",
       "\n",
       "    .dataframe tbody tr th {\n",
       "        vertical-align: top;\n",
       "    }\n",
       "\n",
       "    .dataframe thead th {\n",
       "        text-align: right;\n",
       "    }\n",
       "</style>\n",
       "<table border=\"1\" class=\"dataframe\">\n",
       "  <thead>\n",
       "    <tr style=\"text-align: right;\">\n",
       "      <th></th>\n",
       "      <th>age</th>\n",
       "      <th>restbps</th>\n",
       "      <th>chol</th>\n",
       "      <th>maximum_heart_rate</th>\n",
       "      <th>oldpeak</th>\n",
       "      <th>sex</th>\n",
       "      <th>fbs</th>\n",
       "      <th>exang</th>\n",
       "      <th>Diagnosis</th>\n",
       "      <th>cp_1.0</th>\n",
       "      <th>...</th>\n",
       "      <th>slope_1.0</th>\n",
       "      <th>slope_2.0</th>\n",
       "      <th>slope_3.0</th>\n",
       "      <th>major_vessels_0.0</th>\n",
       "      <th>major_vessels_1.0</th>\n",
       "      <th>major_vessels_2.0</th>\n",
       "      <th>major_vessels_3.0</th>\n",
       "      <th>thal_3.0</th>\n",
       "      <th>thal_6.0</th>\n",
       "      <th>thal_7.0</th>\n",
       "    </tr>\n",
       "  </thead>\n",
       "  <tbody>\n",
       "    <tr>\n",
       "      <td>count</td>\n",
       "      <td>567.000000</td>\n",
       "      <td>567.000000</td>\n",
       "      <td>567.000000</td>\n",
       "      <td>567.000000</td>\n",
       "      <td>567.000000</td>\n",
       "      <td>567.000000</td>\n",
       "      <td>567.000000</td>\n",
       "      <td>567.000000</td>\n",
       "      <td>567.000000</td>\n",
       "      <td>567.000000</td>\n",
       "      <td>...</td>\n",
       "      <td>567.000000</td>\n",
       "      <td>567.000000</td>\n",
       "      <td>567.000000</td>\n",
       "      <td>567.000000</td>\n",
       "      <td>567.000000</td>\n",
       "      <td>567.000000</td>\n",
       "      <td>567.000000</td>\n",
       "      <td>567.000000</td>\n",
       "      <td>567.000000</td>\n",
       "      <td>567.000000</td>\n",
       "    </tr>\n",
       "    <tr>\n",
       "      <td>mean</td>\n",
       "      <td>0.531048</td>\n",
       "      <td>0.354031</td>\n",
       "      <td>0.279566</td>\n",
       "      <td>0.600280</td>\n",
       "      <td>0.169824</td>\n",
       "      <td>0.677249</td>\n",
       "      <td>0.146384</td>\n",
       "      <td>0.328042</td>\n",
       "      <td>0.453263</td>\n",
       "      <td>0.075838</td>\n",
       "      <td>...</td>\n",
       "      <td>0.474427</td>\n",
       "      <td>0.456790</td>\n",
       "      <td>0.068783</td>\n",
       "      <td>0.589065</td>\n",
       "      <td>0.216931</td>\n",
       "      <td>0.125220</td>\n",
       "      <td>0.068783</td>\n",
       "      <td>0.557319</td>\n",
       "      <td>0.056437</td>\n",
       "      <td>0.386243</td>\n",
       "    </tr>\n",
       "    <tr>\n",
       "      <td>std</td>\n",
       "      <td>0.188962</td>\n",
       "      <td>0.167878</td>\n",
       "      <td>0.118303</td>\n",
       "      <td>0.175788</td>\n",
       "      <td>0.186322</td>\n",
       "      <td>0.467941</td>\n",
       "      <td>0.353803</td>\n",
       "      <td>0.469915</td>\n",
       "      <td>0.498250</td>\n",
       "      <td>0.264972</td>\n",
       "      <td>...</td>\n",
       "      <td>0.499787</td>\n",
       "      <td>0.498569</td>\n",
       "      <td>0.253308</td>\n",
       "      <td>0.492438</td>\n",
       "      <td>0.412519</td>\n",
       "      <td>0.331261</td>\n",
       "      <td>0.253308</td>\n",
       "      <td>0.497142</td>\n",
       "      <td>0.230968</td>\n",
       "      <td>0.487317</td>\n",
       "    </tr>\n",
       "    <tr>\n",
       "      <td>min</td>\n",
       "      <td>0.000000</td>\n",
       "      <td>0.000000</td>\n",
       "      <td>0.000000</td>\n",
       "      <td>0.000000</td>\n",
       "      <td>0.000000</td>\n",
       "      <td>0.000000</td>\n",
       "      <td>0.000000</td>\n",
       "      <td>0.000000</td>\n",
       "      <td>0.000000</td>\n",
       "      <td>0.000000</td>\n",
       "      <td>...</td>\n",
       "      <td>0.000000</td>\n",
       "      <td>0.000000</td>\n",
       "      <td>0.000000</td>\n",
       "      <td>0.000000</td>\n",
       "      <td>0.000000</td>\n",
       "      <td>0.000000</td>\n",
       "      <td>0.000000</td>\n",
       "      <td>0.000000</td>\n",
       "      <td>0.000000</td>\n",
       "      <td>0.000000</td>\n",
       "    </tr>\n",
       "    <tr>\n",
       "      <td>25%</td>\n",
       "      <td>0.395833</td>\n",
       "      <td>0.245283</td>\n",
       "      <td>0.196347</td>\n",
       "      <td>0.473282</td>\n",
       "      <td>0.000000</td>\n",
       "      <td>0.000000</td>\n",
       "      <td>0.000000</td>\n",
       "      <td>0.000000</td>\n",
       "      <td>0.000000</td>\n",
       "      <td>0.000000</td>\n",
       "      <td>...</td>\n",
       "      <td>0.000000</td>\n",
       "      <td>0.000000</td>\n",
       "      <td>0.000000</td>\n",
       "      <td>0.000000</td>\n",
       "      <td>0.000000</td>\n",
       "      <td>0.000000</td>\n",
       "      <td>0.000000</td>\n",
       "      <td>0.000000</td>\n",
       "      <td>0.000000</td>\n",
       "      <td>0.000000</td>\n",
       "    </tr>\n",
       "    <tr>\n",
       "      <td>50%</td>\n",
       "      <td>0.541667</td>\n",
       "      <td>0.339623</td>\n",
       "      <td>0.269406</td>\n",
       "      <td>0.625954</td>\n",
       "      <td>0.129032</td>\n",
       "      <td>1.000000</td>\n",
       "      <td>0.000000</td>\n",
       "      <td>0.000000</td>\n",
       "      <td>0.000000</td>\n",
       "      <td>0.000000</td>\n",
       "      <td>...</td>\n",
       "      <td>0.000000</td>\n",
       "      <td>0.000000</td>\n",
       "      <td>0.000000</td>\n",
       "      <td>1.000000</td>\n",
       "      <td>0.000000</td>\n",
       "      <td>0.000000</td>\n",
       "      <td>0.000000</td>\n",
       "      <td>1.000000</td>\n",
       "      <td>0.000000</td>\n",
       "      <td>0.000000</td>\n",
       "    </tr>\n",
       "    <tr>\n",
       "      <td>75%</td>\n",
       "      <td>0.666667</td>\n",
       "      <td>0.433962</td>\n",
       "      <td>0.344749</td>\n",
       "      <td>0.725191</td>\n",
       "      <td>0.258065</td>\n",
       "      <td>1.000000</td>\n",
       "      <td>0.000000</td>\n",
       "      <td>1.000000</td>\n",
       "      <td>1.000000</td>\n",
       "      <td>0.000000</td>\n",
       "      <td>...</td>\n",
       "      <td>1.000000</td>\n",
       "      <td>1.000000</td>\n",
       "      <td>0.000000</td>\n",
       "      <td>1.000000</td>\n",
       "      <td>0.000000</td>\n",
       "      <td>0.000000</td>\n",
       "      <td>0.000000</td>\n",
       "      <td>1.000000</td>\n",
       "      <td>0.000000</td>\n",
       "      <td>1.000000</td>\n",
       "    </tr>\n",
       "    <tr>\n",
       "      <td>max</td>\n",
       "      <td>1.000000</td>\n",
       "      <td>1.000000</td>\n",
       "      <td>1.000000</td>\n",
       "      <td>1.000000</td>\n",
       "      <td>1.000000</td>\n",
       "      <td>1.000000</td>\n",
       "      <td>1.000000</td>\n",
       "      <td>1.000000</td>\n",
       "      <td>1.000000</td>\n",
       "      <td>1.000000</td>\n",
       "      <td>...</td>\n",
       "      <td>1.000000</td>\n",
       "      <td>1.000000</td>\n",
       "      <td>1.000000</td>\n",
       "      <td>1.000000</td>\n",
       "      <td>1.000000</td>\n",
       "      <td>1.000000</td>\n",
       "      <td>1.000000</td>\n",
       "      <td>1.000000</td>\n",
       "      <td>1.000000</td>\n",
       "      <td>1.000000</td>\n",
       "    </tr>\n",
       "  </tbody>\n",
       "</table>\n",
       "<p>8 rows × 26 columns</p>\n",
       "</div>"
      ],
      "text/plain": [
       "              age     restbps        chol  maximum_heart_rate     oldpeak  \\\n",
       "count  567.000000  567.000000  567.000000          567.000000  567.000000   \n",
       "mean     0.531048    0.354031    0.279566            0.600280    0.169824   \n",
       "std      0.188962    0.167878    0.118303            0.175788    0.186322   \n",
       "min      0.000000    0.000000    0.000000            0.000000    0.000000   \n",
       "25%      0.395833    0.245283    0.196347            0.473282    0.000000   \n",
       "50%      0.541667    0.339623    0.269406            0.625954    0.129032   \n",
       "75%      0.666667    0.433962    0.344749            0.725191    0.258065   \n",
       "max      1.000000    1.000000    1.000000            1.000000    1.000000   \n",
       "\n",
       "              sex         fbs       exang   Diagnosis      cp_1.0  ...  \\\n",
       "count  567.000000  567.000000  567.000000  567.000000  567.000000  ...   \n",
       "mean     0.677249    0.146384    0.328042    0.453263    0.075838  ...   \n",
       "std      0.467941    0.353803    0.469915    0.498250    0.264972  ...   \n",
       "min      0.000000    0.000000    0.000000    0.000000    0.000000  ...   \n",
       "25%      0.000000    0.000000    0.000000    0.000000    0.000000  ...   \n",
       "50%      1.000000    0.000000    0.000000    0.000000    0.000000  ...   \n",
       "75%      1.000000    0.000000    1.000000    1.000000    0.000000  ...   \n",
       "max      1.000000    1.000000    1.000000    1.000000    1.000000  ...   \n",
       "\n",
       "        slope_1.0   slope_2.0   slope_3.0  major_vessels_0.0  \\\n",
       "count  567.000000  567.000000  567.000000         567.000000   \n",
       "mean     0.474427    0.456790    0.068783           0.589065   \n",
       "std      0.499787    0.498569    0.253308           0.492438   \n",
       "min      0.000000    0.000000    0.000000           0.000000   \n",
       "25%      0.000000    0.000000    0.000000           0.000000   \n",
       "50%      0.000000    0.000000    0.000000           1.000000   \n",
       "75%      1.000000    1.000000    0.000000           1.000000   \n",
       "max      1.000000    1.000000    1.000000           1.000000   \n",
       "\n",
       "       major_vessels_1.0  major_vessels_2.0  major_vessels_3.0    thal_3.0  \\\n",
       "count         567.000000         567.000000         567.000000  567.000000   \n",
       "mean            0.216931           0.125220           0.068783    0.557319   \n",
       "std             0.412519           0.331261           0.253308    0.497142   \n",
       "min             0.000000           0.000000           0.000000    0.000000   \n",
       "25%             0.000000           0.000000           0.000000    0.000000   \n",
       "50%             0.000000           0.000000           0.000000    1.000000   \n",
       "75%             0.000000           0.000000           0.000000    1.000000   \n",
       "max             1.000000           1.000000           1.000000    1.000000   \n",
       "\n",
       "         thal_6.0    thal_7.0  \n",
       "count  567.000000  567.000000  \n",
       "mean     0.056437    0.386243  \n",
       "std      0.230968    0.487317  \n",
       "min      0.000000    0.000000  \n",
       "25%      0.000000    0.000000  \n",
       "50%      0.000000    0.000000  \n",
       "75%      0.000000    1.000000  \n",
       "max      1.000000    1.000000  \n",
       "\n",
       "[8 rows x 26 columns]"
      ]
     },
     "execution_count": 25,
     "metadata": {},
     "output_type": "execute_result"
    }
   ],
   "source": [
    "df.describe()"
   ]
  },
  {
   "cell_type": "code",
   "execution_count": 26,
   "metadata": {},
   "outputs": [],
   "source": [
    "df['sex'] = df['sex'].apply(pd.to_numeric)"
   ]
  },
  {
   "cell_type": "code",
   "execution_count": 27,
   "metadata": {},
   "outputs": [
    {
     "data": {
      "text/plain": [
       "age                   float64\n",
       "restbps               float64\n",
       "chol                  float64\n",
       "maximum_heart_rate    float64\n",
       "oldpeak               float64\n",
       "sex                   float64\n",
       "fbs                   float64\n",
       "exang                 float64\n",
       "Diagnosis               int64\n",
       "cp_1.0                  uint8\n",
       "cp_2.0                  uint8\n",
       "cp_3.0                  uint8\n",
       "cp_4.0                  uint8\n",
       "restecg_0.0             uint8\n",
       "restecg_1.0             uint8\n",
       "restecg_2.0             uint8\n",
       "slope_1.0               uint8\n",
       "slope_2.0               uint8\n",
       "slope_3.0               uint8\n",
       "major_vessels_0.0       uint8\n",
       "major_vessels_1.0       uint8\n",
       "major_vessels_2.0       uint8\n",
       "major_vessels_3.0       uint8\n",
       "thal_3.0                uint8\n",
       "thal_6.0                uint8\n",
       "thal_7.0                uint8\n",
       "dtype: object"
      ]
     },
     "execution_count": 27,
     "metadata": {},
     "output_type": "execute_result"
    }
   ],
   "source": [
    "df.dtypes"
   ]
  },
  {
   "cell_type": "code",
   "execution_count": 28,
   "metadata": {},
   "outputs": [
    {
     "data": {
      "text/plain": [
       "Text(0, 0.5, 'count')"
      ]
     },
     "execution_count": 28,
     "metadata": {},
     "output_type": "execute_result"
    },
    {
     "data": {
      "image/png": "[encoded data removed]",
      "text/plain": [
       "<Figure size 432x288 with 1 Axes>"
      ]
     },
     "metadata": {
      "needs_background": "light"
     },
     "output_type": "display_data"
    }
   ],
   "source": [
    "count.plot(kind='bar')\n",
    "plt.title(\"Absence(0) and Presence(1) of Heart disease \")\n",
    "plt.xlabel(\"Diagnosis\")\n",
    "plt.ylabel(\"count\")\n",
    "#heart_data.hist(\"Diagnosis\")"
   ]
  },
  {
   "cell_type": "code",
   "execution_count": 29,
   "metadata": {},
   "outputs": [],
   "source": [
    "x=df.drop('Diagnosis',axis=1) #independent variable\n",
    "y=df['Diagnosis']         #dependent variable/output"
   ]
  },
  {
   "cell_type": "code",
   "execution_count": 30,
   "metadata": {},
   "outputs": [
    {
     "data": {
      "text/plain": [
       "((567, 25), (567,))"
      ]
     },
     "execution_count": 30,
     "metadata": {},
     "output_type": "execute_result"
    }
   ],
   "source": [
    "x.shape, y.shape"
   ]
  },
  {
   "cell_type": "code",
   "execution_count": 31,
   "metadata": {},
   "outputs": [],
   "source": [
    "x_train,x_test,y_train,y_test=train_test_split(x,y,test_size=0.25,random_state=0)"
   ]
  },
  {
   "cell_type": "code",
   "execution_count": 32,
   "metadata": {},
   "outputs": [
    {
     "name": "stdout",
     "output_type": "stream",
     "text": [
      "x_train (425, 25)\n",
      "x_test  (142, 25)\n",
      "y_train (425,)\n",
      "y_test  (142,)\n"
     ]
    }
   ],
   "source": [
    "print('x_train',x_train.shape)\n",
    "print('x_test ',x_test.shape)\n",
    "print('y_train',y_train.shape)\n",
    "print('y_test ',y_test.shape)"
   ]
  },
  {
   "cell_type": "markdown",
   "metadata": {},
   "source": [
    "# Modeling"
   ]
  },
  {
   "cell_type": "code",
   "execution_count": 33,
   "metadata": {},
   "outputs": [],
   "source": [
    "names=[] \n",
    "score=[]\n",
    "error=[]\n",
    "prec=[]\n",
    "recall=[]\n",
    "crossval=[]\n",
    "spec=[]"
   ]
  },
  {
   "cell_type": "markdown",
   "metadata": {},
   "source": [
    "# Logistic Regression"
   ]
  },
  {
   "cell_type": "code",
   "execution_count": 34,
   "metadata": {},
   "outputs": [
    {
     "name": "stdout",
     "output_type": "stream",
     "text": [
      "LogisticRegression(C=0.0001, class_weight=None, dual=False, fit_intercept=True,\n",
      "                   intercept_scaling=1, l1_ratio=None, max_iter=100,\n",
      "                   multi_class='warn', n_jobs=None, penalty='l2',\n",
      "                   random_state=None, solver='warn', tol=0.0001, verbose=0,\n",
      "                   warm_start=False)\n",
      "precision:-  0.8305084745762712\n"
     ]
    }
   ],
   "source": [
    "tuned_parameter=[{'C':[10**-4,10**-2,10**0,10**2,10**4]}]\n",
    "model_LR=GridSearchCV(LogisticRegression(),tuned_parameter,scoring='precision',n_jobs=-1,cv=10)\n",
    "model_LR.fit(x_train,y_train)\n",
    "print(model_LR.best_estimator_)\n",
    "print('precision:- ',model_LR.score(x_test,y_test))"
   ]
  },
  {
   "cell_type": "code",
   "execution_count": 35,
   "metadata": {},
   "outputs": [
    {
     "name": "stdout",
     "output_type": "stream",
     "text": [
      "[[75 10]\n",
      " [ 8 49]]\n",
      "Train Accuracy : 85.412 %\n",
      "Test Accuracy  : 87.324 %\n",
      "classification report of Log-Reg \n",
      "               precision    recall  f1-score   support\n",
      "\n",
      "           0       0.90      0.88      0.89        85\n",
      "           1       0.83      0.86      0.84        57\n",
      "\n",
      "    accuracy                           0.87       142\n",
      "   macro avg       0.87      0.87      0.87       142\n",
      "weighted avg       0.87      0.87      0.87       142\n",
      "\n",
      "0.1267605633802817\n"
     ]
    }
   ],
   "source": [
    "y_pred=model_LR.predict(x_test)\n",
    "cm=confusion_matrix(y_test,y_pred)\n",
    "TN = cm[0, 0]\n",
    "TP = cm[1, 1]\n",
    "FN = cm[1, 0]\n",
    "FP = cm[0, 1]\n",
    "print(cm)\n",
    "print(\"Train Accuracy :\",round(accuracy_score(y_train,model_LR.predict(x_train)),5)*100,'%')\n",
    "print(\"Test Accuracy  :\",round(accuracy_score(y_test,y_pred),5)*100,'%')\n",
    "print(\"classification report of Log-Reg \\n\",classification_report(y_test,y_pred))\n",
    "names.append(\"model_LR\")\n",
    "score.append(accuracy_score(y_test,y_pred))\n",
    "classification_error = (FP + FN) / float(TP + TN + FP + FN)\n",
    "print(classification_error)\n",
    "error.append(classification_error)"
   ]
  },
  {
   "cell_type": "code",
   "execution_count": 36,
   "metadata": {},
   "outputs": [
    {
     "name": "stdout",
     "output_type": "stream",
     "text": [
      "precision of logistic regression:-  0.8305084745762712\n",
      "sensitivity of logistic regression:-  0.8596491228070176\n",
      "Specificity of logistic regression:-  0.8823529411764706\n"
     ]
    }
   ],
   "source": [
    "precision=TP/float(TP+FP)\n",
    "sensitivity=TP/float(TP+FN)\n",
    "Specificity=TN/float(TN+FP)\n",
    "print(\"precision of logistic regression:- \",precision) \n",
    "print(\"sensitivity of logistic regression:- \",sensitivity) #recall\n",
    "print(\"Specificity of logistic regression:- \",Specificity) #recall\n",
    "prec.append(precision)\n",
    "recall.append(sensitivity)\n",
    "spec.append(Specificity)"
   ]
  },
  {
   "cell_type": "code",
   "execution_count": 37,
   "metadata": {},
   "outputs": [
    {
     "name": "stdout",
     "output_type": "stream",
     "text": [
      "mean acc:-  0.8805340557275543\n",
      "std-dev:  0.045525155706713664\n"
     ]
    }
   ],
   "source": [
    "#cv=10 fold cross-validation\n",
    "accuracy=cross_val_score(estimator=model_LR,X=x_train,y=y_train,cv=10) \n",
    "print('mean acc:- ',accuracy.mean()) #mean of 10 accuracies of accuracies vector\n",
    "print('std-dev: ',accuracy.std())  #standard deviation\n",
    "crossval.append(accuracy.mean())"
   ]
  },
  {
   "cell_type": "markdown",
   "metadata": {},
   "source": [
    "# K-NN"
   ]
  },
  {
   "cell_type": "code",
   "execution_count": 38,
   "metadata": {},
   "outputs": [
    {
     "name": "stdout",
     "output_type": "stream",
     "text": [
      "KNeighborsClassifier(algorithm='auto', leaf_size=30, metric='minkowski',\n",
      "                     metric_params=None, n_jobs=None, n_neighbors=1, p=2,\n",
      "                     weights='uniform')\n",
      "0.9107142857142857\n"
     ]
    }
   ],
   "source": [
    "params = {'n_neighbors':[i for i in range(1,35,2)]}\n",
    "model_knn=GridSearchCV(KNeighborsClassifier(),params,scoring='precision',cv=10,n_jobs=-1)\n",
    "model_knn.fit(x_train,y_train)\n",
    "print(model_knn.best_estimator_)\n",
    "print(model_knn.score(x_test,y_test))"
   ]
  },
  {
   "cell_type": "code",
   "execution_count": 39,
   "metadata": {},
   "outputs": [
    {
     "name": "stdout",
     "output_type": "stream",
     "text": [
      "[[80  5]\n",
      " [ 6 51]]\n",
      "Train Accuracy : 100.0 %\n",
      "Test Accuracy  : 92.254 %\n",
      "classification report of  KNN\n",
      "               precision    recall  f1-score   support\n",
      "\n",
      "           0       0.93      0.94      0.94        85\n",
      "           1       0.91      0.89      0.90        57\n",
      "\n",
      "    accuracy                           0.92       142\n",
      "   macro avg       0.92      0.92      0.92       142\n",
      "weighted avg       0.92      0.92      0.92       142\n",
      "\n",
      "0.07746478873239436\n"
     ]
    }
   ],
   "source": [
    "y_pred=model_knn.predict(x_test)\n",
    "cm=confusion_matrix(y_test,y_pred)\n",
    "TN = cm[0, 0]\n",
    "TP = cm[1, 1]\n",
    "FN = cm[1, 0]\n",
    "FP = cm[0, 1]\n",
    "print(cm)\n",
    "print(\"Train Accuracy :\",round(accuracy_score(y_train,model_knn.predict(x_train)),5)*100,'%')\n",
    "print(\"Test Accuracy  :\",round(accuracy_score(y_test,y_pred),5)*100,'%')\n",
    "print(\"classification report of  KNN\\n\",classification_report(y_test,y_pred))\n",
    "names.append(\"model_knn\")\n",
    "score.append(accuracy_score(y_test,y_pred))\n",
    "classification_error = (FP + FN) / float(TP + TN + FP + FN)\n",
    "print(classification_error)\n",
    "error.append(classification_error)"
   ]
  },
  {
   "cell_type": "code",
   "execution_count": 40,
   "metadata": {},
   "outputs": [
    {
     "name": "stdout",
     "output_type": "stream",
     "text": [
      "precision of KNN:-  0.9107142857142857\n",
      "sensitivity of KNN:-  0.8947368421052632\n",
      "Specificity of KNN:-  0.9411764705882353\n"
     ]
    }
   ],
   "source": [
    "precision=TP/float(TP+FP)\n",
    "sensitivity=TP/float(TP+FN)\n",
    "Specificity=TN/float(TN+FP)\n",
    "print(\"precision of KNN:- \",precision) \n",
    "print(\"sensitivity of KNN:- \",sensitivity) #recall\n",
    "print(\"Specificity of KNN:- \",Specificity) #recall\n",
    "prec.append(precision)\n",
    "recall.append(sensitivity)\n",
    "spec.append(Specificity)"
   ]
  },
  {
   "cell_type": "code",
   "execution_count": 41,
   "metadata": {},
   "outputs": [
    {
     "name": "stdout",
     "output_type": "stream",
     "text": [
      "mean acc:-  0.9431892230576441\n",
      "std-dev:  0.04878132459866498\n"
     ]
    }
   ],
   "source": [
    "#cv=10 fold cross-validation\n",
    "accuracy=cross_val_score(estimator=model_knn,X=x_train,y=y_train,cv=10) \n",
    "print('mean acc:- ',accuracy.mean()) #mean of 10 accuracies of accuracies vector\n",
    "print('std-dev: ',accuracy.std())  #standard deviation\n",
    "crossval.append(accuracy.mean())"
   ]
  },
  {
   "cell_type": "markdown",
   "metadata": {},
   "source": [
    "# SVM"
   ]
  },
  {
   "cell_type": "code",
   "execution_count": 42,
   "metadata": {},
   "outputs": [
    {
     "name": "stdout",
     "output_type": "stream",
     "text": [
      "SVC(C=100, cache_size=200, class_weight=None, coef0=0.0,\n",
      "    decision_function_shape='ovr', degree=3, gamma='auto_deprecated',\n",
      "    kernel='rbf', max_iter=-1, probability=False, random_state=None,\n",
      "    shrinking=True, tol=0.001, verbose=False)\n",
      "0.8253968253968254\n"
     ]
    }
   ],
   "source": [
    "parameter=[{'C':[10**-4,10**-2,10**0,10**2,10**4]}]\n",
    "model_svm=GridSearchCV(SVC(),parameter,scoring='precision',n_jobs=-1,cv=10)\n",
    "model_svm.fit(x_train,y_train)\n",
    "print(model_svm.best_estimator_)\n",
    "print(model_svm.score(x_test,y_test))"
   ]
  },
  {
   "cell_type": "code",
   "execution_count": 43,
   "metadata": {},
   "outputs": [
    {
     "name": "stdout",
     "output_type": "stream",
     "text": [
      "[[74 11]\n",
      " [ 5 52]]\n",
      "Train Accuracy : 95.765 %\n",
      "Test Accuracy  : 88.732 %\n",
      "classification report of Svm\n",
      "               precision    recall  f1-score   support\n",
      "\n",
      "           0       0.94      0.87      0.90        85\n",
      "           1       0.83      0.91      0.87        57\n",
      "\n",
      "    accuracy                           0.89       142\n",
      "   macro avg       0.88      0.89      0.88       142\n",
      "weighted avg       0.89      0.89      0.89       142\n",
      "\n",
      "0.11267605633802817\n"
     ]
    }
   ],
   "source": [
    "y_pred=model_svm.predict(x_test)\n",
    "cm=confusion_matrix(y_test,y_pred)\n",
    "TN = cm[0, 0]\n",
    "TP = cm[1, 1]\n",
    "FN = cm[1, 0]\n",
    "FP = cm[0, 1]\n",
    "print(cm)\n",
    "print(\"Train Accuracy :\",round(accuracy_score(y_train,model_svm.predict(x_train)),5)*100,'%')\n",
    "print(\"Test Accuracy  :\",round(accuracy_score(y_test,y_pred),5)*100,'%')\n",
    "print(\"classification report of Svm\\n\",classification_report(y_test,y_pred))\n",
    "names.append(\"model_svm\")\n",
    "score.append(accuracy_score(y_test,y_pred))\n",
    "classification_error = (FP + FN) / float(TP + TN + FP + FN)\n",
    "print(classification_error)\n",
    "error.append(classification_error)"
   ]
  },
  {
   "cell_type": "code",
   "execution_count": 44,
   "metadata": {},
   "outputs": [
    {
     "name": "stdout",
     "output_type": "stream",
     "text": [
      "precision of SVM:-  0.8253968253968254\n",
      "sensitivity of SVM:-  0.9122807017543859\n",
      "Specificity of SVM:-  0.8705882352941177\n"
     ]
    }
   ],
   "source": [
    "precision=TP/float(TP+FP)\n",
    "sensitivity=TP/float(TP+FN)\n",
    "print(\"precision of SVM:- \",precision) \n",
    "print(\"sensitivity of SVM:- \",sensitivity) #recall\n",
    "prec.append(precision)\n",
    "recall.append(sensitivity)\n",
    "Specificity=TN/float(TN+FP)\n",
    "print(\"Specificity of SVM:- \",Specificity) #recall\n",
    "spec.append(Specificity)"
   ]
  },
  {
   "cell_type": "code",
   "execution_count": 45,
   "metadata": {},
   "outputs": [
    {
     "name": "stdout",
     "output_type": "stream",
     "text": [
      "mean acc:-  90.461 %\n",
      "std-dev:  7.638 %\n"
     ]
    }
   ],
   "source": [
    "#cv=10 fold cross-validation\n",
    "accuracy=cross_val_score(estimator=model_svm,X=x_train,y=y_train,cv=10) \n",
    "print('mean acc:- ',round(accuracy.mean(),5)*100,'%') #mean of 10 accuracies of accuracies vector\n",
    "print('std-dev: ',round(accuracy.std(),5)*100,'%')  #standard deviation\n",
    "crossval.append(accuracy.mean())"
   ]
  },
  {
   "cell_type": "markdown",
   "metadata": {},
   "source": [
    "# Naive Bayes"
   ]
  },
  {
   "cell_type": "code",
   "execution_count": 46,
   "metadata": {},
   "outputs": [
    {
     "data": {
      "text/plain": [
       "BernoulliNB(alpha=1.0, binarize=0.0, class_prior=None, fit_prior=True)"
      ]
     },
     "execution_count": 46,
     "metadata": {},
     "output_type": "execute_result"
    }
   ],
   "source": [
    "model_nb=BernoulliNB()\n",
    "model_nb.fit(x_train,y_train)"
   ]
  },
  {
   "cell_type": "code",
   "execution_count": 47,
   "metadata": {},
   "outputs": [],
   "source": [
    "y_pred=model_nb.predict(x_test)"
   ]
  },
  {
   "cell_type": "code",
   "execution_count": 48,
   "metadata": {},
   "outputs": [
    {
     "name": "stdout",
     "output_type": "stream",
     "text": [
      "Confusion matrix:\n",
      " [[68 17]\n",
      " [ 6 51]]\n",
      "Train Accuracy : 84.941 %\n",
      "Test Accuracy  : 83.80300000000001 %\n",
      "classification report of Naive Bayes\n",
      "               precision    recall  f1-score   support\n",
      "\n",
      "           0       0.92      0.80      0.86        85\n",
      "           1       0.75      0.89      0.82        57\n",
      "\n",
      "    accuracy                           0.84       142\n",
      "   macro avg       0.83      0.85      0.84       142\n",
      "weighted avg       0.85      0.84      0.84       142\n",
      "\n",
      "0.1619718309859155\n"
     ]
    }
   ],
   "source": [
    "cm=confusion_matrix(y_test,y_pred)\n",
    "TN = cm[0, 0]\n",
    "TP = cm[1, 1]\n",
    "FN = cm[1, 0]\n",
    "FP = cm[0, 1]\n",
    "print(\"Confusion matrix:\\n\",cm)\n",
    "print(\"Train Accuracy :\",round(accuracy_score(y_train,model_nb.predict(x_train)),5)*100,'%')\n",
    "print(\"Test Accuracy  :\",round(accuracy_score(y_test,y_pred),5)*100,'%')\n",
    "print(\"classification report of Naive Bayes\\n\",classification_report(y_test,y_pred))\n",
    "names.append(\"model_nb\")\n",
    "score.append(accuracy_score(y_test,y_pred))\n",
    "classification_error = (FP + FN) / float(TP + TN + FP + FN)\n",
    "print(classification_error)\n",
    "error.append(classification_error)"
   ]
  },
  {
   "cell_type": "code",
   "execution_count": 49,
   "metadata": {},
   "outputs": [
    {
     "name": "stdout",
     "output_type": "stream",
     "text": [
      "precision of Naive_bayes:-  0.75\n",
      "sensitivity of Naive_bayes:-  0.8947368421052632\n",
      "Specificity of Naive Bayes:-  0.8\n"
     ]
    }
   ],
   "source": [
    "precision=TP/float(TP+FP)\n",
    "sensitivity=TP/float(TP+FN)\n",
    "print(\"precision of Naive_bayes:- \",precision) \n",
    "print(\"sensitivity of Naive_bayes:- \",sensitivity) #recall\n",
    "prec.append(precision)\n",
    "recall.append(sensitivity)\n",
    "Specificity=TN/float(TN+FP)\n",
    "print(\"Specificity of Naive Bayes:- \",Specificity) #recall\n",
    "spec.append(Specificity)"
   ]
  },
  {
   "cell_type": "code",
   "execution_count": 50,
   "metadata": {},
   "outputs": [
    {
     "name": "stdout",
     "output_type": "stream",
     "text": [
      "mean acc:-  83.295 %\n",
      "std-dev:  5.492 %\n"
     ]
    }
   ],
   "source": [
    "#cv=10 fold cross-validation\n",
    "accuracy=cross_val_score(estimator=model_nb,X=x_train,y=y_train,cv=10) \n",
    "print('mean acc:- ',round(accuracy.mean(),5)*100,'%') #mean of 10 accuracies of accuracies vector\n",
    "print('std-dev: ',round(accuracy.std(),5)*100,'%')  #standard deviation\n",
    "crossval.append(accuracy.mean())"
   ]
  },
  {
   "cell_type": "markdown",
   "metadata": {},
   "source": [
    "# Random Forest"
   ]
  },
  {
   "cell_type": "code",
   "execution_count": 51,
   "metadata": {},
   "outputs": [],
   "source": [
    "# Number of trees in random forest\n",
    "n_estimators = [int(x) for x in np.linspace(start = 200, stop = 2000, num = 10)]\n",
    "max_features = ['auto', 'sqrt'] # Number of features to consider at every split\n",
    "max_depth = [int(x) for x in np.linspace(10, 110, num = 11)] # Maximum number of levels in tree\n",
    "max_depth.append(None)\n",
    "min_samples_split = [2, 5, 10] # Minimum number of samples required to split a node\n",
    "min_samples_leaf = [1, 2, 4] # Minimum number of samples required at each leaf node\n",
    "bootstrap = [True, False]# Method of selecting samples for training each tree"
   ]
  },
  {
   "cell_type": "code",
   "execution_count": 52,
   "metadata": {},
   "outputs": [],
   "source": [
    "random_grid = {'n_estimators': n_estimators, 'max_features': max_features,'max_depth': max_depth,\n",
    "               'min_samples_split': min_samples_split, 'min_samples_leaf': min_samples_leaf,\n",
    "               'bootstrap': bootstrap}"
   ]
  },
  {
   "cell_type": "code",
   "execution_count": 53,
   "metadata": {},
   "outputs": [
    {
     "name": "stdout",
     "output_type": "stream",
     "text": [
      "{'n_estimators': [200, 400, 600, 800, 1000, 1200, 1400, 1600, 1800, 2000], 'max_features': ['auto', 'sqrt'], 'max_depth': [10, 20, 30, 40, 50, 60, 70, 80, 90, 100, 110, None], 'min_samples_split': [2, 5, 10], 'min_samples_leaf': [1, 2, 4], 'bootstrap': [True, False]}\n"
     ]
    }
   ],
   "source": [
    "print(random_grid)"
   ]
  },
  {
   "cell_type": "code",
   "execution_count": 54,
   "metadata": {},
   "outputs": [
    {
     "name": "stdout",
     "output_type": "stream",
     "text": [
      "Fitting 3 folds for each of 100 candidates, totalling 300 fits\n"
     ]
    },
    {
     "name": "stderr",
     "output_type": "stream",
     "text": [
      "[Parallel(n_jobs=-1)]: Using backend LokyBackend with 4 concurrent workers.\n",
      "[Parallel(n_jobs=-1)]: Done  33 tasks      | elapsed:   28.0s\n",
      "[Parallel(n_jobs=-1)]: Done 154 tasks      | elapsed:  2.3min\n",
      "[Parallel(n_jobs=-1)]: Done 300 out of 300 | elapsed:  4.6min finished\n"
     ]
    },
    {
     "data": {
      "text/plain": [
       "RandomizedSearchCV(cv=3, error_score='raise-deprecating',\n",
       "                   estimator=RandomForestClassifier(bootstrap=True,\n",
       "                                                    class_weight=None,\n",
       "                                                    criterion='gini',\n",
       "                                                    max_depth=None,\n",
       "                                                    max_features='auto',\n",
       "                                                    max_leaf_nodes=None,\n",
       "                                                    min_impurity_decrease=0.0,\n",
       "                                                    min_impurity_split=None,\n",
       "                                                    min_samples_leaf=1,\n",
       "                                                    min_samples_split=2,\n",
       "                                                    min_weight_fraction_leaf=0.0,\n",
       "                                                    n_estimators='warn',\n",
       "                                                    n_jobs=None,\n",
       "                                                    oob_sc...\n",
       "                   param_distributions={'bootstrap': [True, False],\n",
       "                                        'max_depth': [10, 20, 30, 40, 50, 60,\n",
       "                                                      70, 80, 90, 100, 110,\n",
       "                                                      None],\n",
       "                                        'max_features': ['auto', 'sqrt'],\n",
       "                                        'min_samples_leaf': [1, 2, 4],\n",
       "                                        'min_samples_split': [2, 5, 10],\n",
       "                                        'n_estimators': [200, 400, 600, 800,\n",
       "                                                         1000, 1200, 1400, 1600,\n",
       "                                                         1800, 2000]},\n",
       "                   pre_dispatch='2*n_jobs', random_state=42, refit=True,\n",
       "                   return_train_score=False, scoring=None, verbose=2)"
      ]
     },
     "execution_count": 54,
     "metadata": {},
     "output_type": "execute_result"
    }
   ],
   "source": [
    "# Random search of parameters, using 10 fold cross validation, \n",
    "# search across 100 different combinations, and use all available cores\n",
    "model_rf = RandomizedSearchCV(estimator = RandomForestClassifier(), param_distributions = random_grid, n_iter = 100, cv = 3, verbose=2, random_state=42, n_jobs = -1)# Fit the random search model\n",
    "model_rf.fit(x_train, y_train)"
   ]
  },
  {
   "cell_type": "code",
   "execution_count": 55,
   "metadata": {},
   "outputs": [],
   "source": [
    "y_pred=model_rf.predict(x_test)"
   ]
  },
  {
   "cell_type": "code",
   "execution_count": 56,
   "metadata": {},
   "outputs": [
    {
     "name": "stdout",
     "output_type": "stream",
     "text": [
      "Confusion matrix:\n",
      " [[77  8]\n",
      " [ 3 54]]\n",
      "Train Accuracy : 100.0 %\n",
      "Test Accuracy  : 92.254 %\n",
      "classification report of Random Forest\n",
      "               precision    recall  f1-score   support\n",
      "\n",
      "           0       0.96      0.91      0.93        85\n",
      "           1       0.87      0.95      0.91        57\n",
      "\n",
      "    accuracy                           0.92       142\n",
      "   macro avg       0.92      0.93      0.92       142\n",
      "weighted avg       0.93      0.92      0.92       142\n",
      "\n",
      "0.07746478873239436\n"
     ]
    }
   ],
   "source": [
    "cm=confusion_matrix(y_test,y_pred)\n",
    "TN = cm[0, 0]\n",
    "TP = cm[1, 1]\n",
    "FN = cm[1, 0]\n",
    "FP = cm[0, 1]\n",
    "print(\"Confusion matrix:\\n\",cm)\n",
    "print(\"Train Accuracy :\",round(accuracy_score(y_train,model_rf.predict(x_train)),5)*100,'%')\n",
    "print(\"Test Accuracy  :\",round(accuracy_score(y_test,y_pred),5)*100,'%')\n",
    "print(\"classification report of Random Forest\\n\",classification_report(y_test,y_pred))\n",
    "names.append(\"model_rf\")\n",
    "score.append(accuracy_score(y_test,y_pred))\n",
    "classification_error = (FP + FN) / float(TP + TN + FP + FN)\n",
    "print(classification_error)\n",
    "error.append(classification_error)"
   ]
  },
  {
   "cell_type": "code",
   "execution_count": 57,
   "metadata": {},
   "outputs": [
    {
     "name": "stdout",
     "output_type": "stream",
     "text": [
      "precision of Random Forest:-  0.8709677419354839\n",
      "sensitivity of Random Forest:-  0.9473684210526315\n",
      "Specificity of Random Forest:-  0.9058823529411765\n"
     ]
    }
   ],
   "source": [
    "precision=TP/float(TP+FP)\n",
    "sensitivity=TP/float(TP+FN)\n",
    "print(\"precision of Random Forest:- \",precision) \n",
    "print(\"sensitivity of Random Forest:- \",sensitivity) #recall\n",
    "prec.append(precision)\n",
    "recall.append(sensitivity)\n",
    "Specificity=TN/float(TN+FP)\n",
    "print(\"Specificity of Random Forest:- \",Specificity) #recall\n",
    "spec.append(Specificity)"
   ]
  },
  {
   "cell_type": "code",
   "execution_count": 58,
   "metadata": {},
   "outputs": [
    {
     "name": "stdout",
     "output_type": "stream",
     "text": [
      "Fitting 3 folds for each of 100 candidates, totalling 300 fits\n"
     ]
    },
    {
     "name": "stderr",
     "output_type": "stream",
     "text": [
      "[Parallel(n_jobs=-1)]: Using backend LokyBackend with 4 concurrent workers.\n",
      "[Parallel(n_jobs=-1)]: Done  33 tasks      | elapsed:   27.4s\n",
      "[Parallel(n_jobs=-1)]: Done 154 tasks      | elapsed:  2.1min\n",
      "[Parallel(n_jobs=-1)]: Done 300 out of 300 | elapsed:  4.1min finished\n"
     ]
    },
    {
     "name": "stdout",
     "output_type": "stream",
     "text": [
      "Fitting 3 folds for each of 100 candidates, totalling 300 fits\n"
     ]
    },
    {
     "name": "stderr",
     "output_type": "stream",
     "text": [
      "[Parallel(n_jobs=-1)]: Using backend LokyBackend with 4 concurrent workers.\n",
      "[Parallel(n_jobs=-1)]: Done  33 tasks      | elapsed:   27.7s\n",
      "[Parallel(n_jobs=-1)]: Done 154 tasks      | elapsed:  2.1min\n",
      "[Parallel(n_jobs=-1)]: Done 300 out of 300 | elapsed:  4.1min finished\n"
     ]
    },
    {
     "name": "stdout",
     "output_type": "stream",
     "text": [
      "Fitting 3 folds for each of 100 candidates, totalling 300 fits\n"
     ]
    },
    {
     "name": "stderr",
     "output_type": "stream",
     "text": [
      "[Parallel(n_jobs=-1)]: Using backend LokyBackend with 4 concurrent workers.\n",
      "[Parallel(n_jobs=-1)]: Done  33 tasks      | elapsed:   28.3s\n",
      "[Parallel(n_jobs=-1)]: Done 154 tasks      | elapsed:  2.2min\n",
      "[Parallel(n_jobs=-1)]: Done 300 out of 300 | elapsed:  4.3min finished\n"
     ]
    },
    {
     "name": "stdout",
     "output_type": "stream",
     "text": [
      "mean acc:-  91.754 %\n",
      "std-dev:  3.7769999999999997 %\n"
     ]
    }
   ],
   "source": [
    "#cv=10 fold cross-validation\n",
    "accuracy=cross_val_score(estimator=model_rf,X=x_train,y=y_train,cv=3) \n",
    "print('mean acc:- ',round(accuracy.mean(),5)*100,'%') #mean of 10 accuracies of accuracies vector\n",
    "print('std-dev: ',round(accuracy.std(),5)*100,'%')  #standard deviation\n",
    "crossval.append(accuracy.mean())"
   ]
  },
  {
   "cell_type": "markdown",
   "metadata": {},
   "source": [
    "# Plot Result"
   ]
  },
  {
   "cell_type": "code",
   "execution_count": 59,
   "metadata": {},
   "outputs": [
    {
     "data": {
      "text/plain": [
       "Text(0, 0.5, 'performance% ')"
      ]
     },
     "execution_count": 59,
     "metadata": {},
     "output_type": "execute_result"
    },
    {
     "data": {
      "image/png": "[encoded data removed]",
      "text/plain": [
       "<Figure size 432x288 with 1 Axes>"
      ]
     },
     "metadata": {
      "needs_background": "light"
     },
     "output_type": "display_data"
    }
   ],
   "source": [
    "plt.title(\"Comparison of various Models using Cross validation\\n\",fontweight=\"bold\")\n",
    "plt.ylim([0.70,1.0])\n",
    "plt.bar(names,recall,width=0.5)\n",
    "plt.xlabel('Model')\n",
    "plt.ylabel('performance% ')"
   ]
  },
  {
   "cell_type": "code",
   "execution_count": 60,
   "metadata": {},
   "outputs": [
    {
     "data": {
      "image/png": "[encoded data removed]",
      "text/plain": [
       "<Figure size 432x288 with 1 Axes>"
      ]
     },
     "metadata": {
      "needs_background": "light"
     },
     "output_type": "display_data"
    }
   ],
   "source": [
    "plt.figure(figsize=(6,4))\n",
    "plt.ylim([0.0,1])\n",
    "plt.plot(names,score,'-o',label=\"Accuracy\",color='blue')\n",
    "#plt.plot(names,error,'-d',label=\"Error\",color='black')\n",
    "plt.xlabel(\"Models\")\n",
    "plt.ylabel(\"Evaluation Parameters %\")\n",
    "plt.grid(True)\n",
    "plt.legend()\n",
    "plt.title(\"Comparison of accuracy of various Models\\n\",fontweight=\"bold\")\n",
    "plt.show()"
   ]
  },
  {
   "cell_type": "code",
   "execution_count": 61,
   "metadata": {},
   "outputs": [
    {
     "data": {
      "image/png": "[encoded data removed]",
      "text/plain": [
       "<Figure size 432x360 with 1 Axes>"
      ]
     },
     "metadata": {
      "needs_background": "light"
     },
     "output_type": "display_data"
    }
   ],
   "source": [
    "plt.figure(figsize=(6,5))\n",
    "plt.ylim([0.0,1])\n",
    "#plt.plot(names,prec,'-o',label=\"Precision\",color='blue')\n",
    "plt.plot(names,recall,'-d',label=\"Recall\",color='blue')\n",
    "plt.xlabel(\"Models\")\n",
    "plt.ylabel(\"Evaluation Parameters %\")\n",
    "plt.grid(True)\n",
    "plt.legend()\n",
    "plt.title(\"Recall/Sensitivity of various Models\\n\",fontweight=\"bold\")\n",
    "plt.show()"
   ]
  },
  {
   "cell_type": "code",
   "execution_count": 62,
   "metadata": {},
   "outputs": [
    {
     "data": {
      "text/plain": [
       "Text(0, 0.5, 'Sensitvity% ')"
      ]
     },
     "execution_count": 62,
     "metadata": {},
     "output_type": "execute_result"
    },
    {
     "data": {
      "image/png": "[encoded data removed]",
      "text/plain": [
       "<Figure size 432x288 with 1 Axes>"
      ]
     },
     "metadata": {
      "needs_background": "light"
     },
     "output_type": "display_data"
    }
   ],
   "source": [
    "plt.title(\"Comparison of Sensitvity/Recall of various Models\\n\",fontweight=\"bold\")\n",
    "plt.ylim([0.70,1.0])\n",
    "plt.bar(names,recall,width=0.5)\n",
    "plt.xlabel('Model')\n",
    "plt.ylabel('Sensitvity% ')"
   ]
  },
  {
   "cell_type": "code",
   "execution_count": 63,
   "metadata": {},
   "outputs": [
    {
     "data": {
      "text/plain": [
       "Text(0, 0.5, 'Specificity% ')"
      ]
     },
     "execution_count": 63,
     "metadata": {},
     "output_type": "execute_result"
    },
    {
     "data": {
      "image/png": "[encoded data removed]",
      "text/plain": [
       "<Figure size 432x288 with 1 Axes>"
      ]
     },
     "metadata": {
      "needs_background": "light"
     },
     "output_type": "display_data"
    }
   ],
   "source": [
    "plt.title(\"Comparison of Specificity/TNR of various Models\\n\",fontweight=\"bold\")\n",
    "plt.ylim([0.70,1.0])\n",
    "plt.bar(names,spec,width=0.5)\n",
    "plt.xlabel('Model')\n",
    "plt.ylabel('Specificity% ')"
   ]
  },
  {
   "cell_type": "markdown",
   "metadata": {},
   "source": [
    "# Feature Selection"
   ]
  },
  {
   "cell_type": "markdown",
   "metadata": {},
   "source": [
    "# Chi2 "
   ]
  },
  {
   "cell_type": "code",
   "execution_count": 64,
   "metadata": {},
   "outputs": [],
   "source": [
    "name=[]\n",
    "sens=[]\n",
    "score=[]\n",
    "spec=[]"
   ]
  },
  {
   "cell_type": "code",
   "execution_count": 65,
   "metadata": {},
   "outputs": [],
   "source": [
    "from sklearn.feature_selection import chi2"
   ]
  },
  {
   "cell_type": "code",
   "execution_count": 66,
   "metadata": {},
   "outputs": [],
   "source": [
    "fscore=chi2(x_train,y_train)"
   ]
  },
  {
   "cell_type": "code",
   "execution_count": 67,
   "metadata": {},
   "outputs": [],
   "source": [
    "p_value=pd.Series(fscore[1],index=x_train.columns)\n",
    "p_value.sort_values(ascending=True,inplace=True)"
   ]
  },
  {
   "cell_type": "code",
   "execution_count": 68,
   "metadata": {},
   "outputs": [
    {
     "data": {
      "text/plain": [
       "cp_4.0                1.210626e-15\n",
       "thal_7.0              6.596837e-14\n",
       "exang                 6.222303e-13\n",
       "thal_3.0              3.040154e-12\n",
       "major_vessels_0.0     6.349540e-10\n",
       "slope_1.0             6.517324e-09\n",
       "slope_2.0             1.803759e-08\n",
       "cp_3.0                4.734455e-08\n",
       "cp_2.0                2.651777e-06\n",
       "major_vessels_1.0     5.439834e-06\n",
       "major_vessels_2.0     9.899790e-06\n",
       "oldpeak               6.803489e-05\n",
       "sex                   1.934930e-04\n",
       "major_vessels_3.0     3.005976e-04\n",
       "restecg_0.0           1.872971e-03\n",
       "restecg_2.0           2.075893e-03\n",
       "thal_6.0              7.862025e-03\n",
       "cp_1.0                2.277473e-02\n",
       "maximum_heart_rate    5.019622e-02\n",
       "age                   1.854883e-01\n",
       "slope_3.0             2.975662e-01\n",
       "restbps               3.126973e-01\n",
       "chol                  4.862371e-01\n",
       "restecg_1.0           5.620826e-01\n",
       "fbs                   9.383268e-01\n",
       "dtype: float64"
      ]
     },
     "execution_count": 68,
     "metadata": {},
     "output_type": "execute_result"
    }
   ],
   "source": [
    "p_value"
   ]
  },
  {
   "cell_type": "code",
   "execution_count": 69,
   "metadata": {},
   "outputs": [
    {
     "data": {
      "text/plain": [
       "<matplotlib.axes._subplots.AxesSubplot at 0x7fa397e6d250>"
      ]
     },
     "execution_count": 69,
     "metadata": {},
     "output_type": "execute_result"
    },
    {
     "data": {
      "image/png": "[encoded data removed]",
      "text/plain": [
       "<Figure size 432x288 with 1 Axes>"
      ]
     },
     "metadata": {
      "needs_background": "light"
     },
     "output_type": "display_data"
    }
   ],
   "source": [
    "p_value.plot.bar()"
   ]
  },
  {
   "cell_type": "code",
   "execution_count": 70,
   "metadata": {},
   "outputs": [],
   "source": [
    "x_train_chi2=x_train[['cp_4.0','thal_7.0','exang','thal_3.0','major_vessels_0.0','slope_1.0','slope_2.0','cp_3.0','cp_2.0'\n",
    "                  ,'major_vessels_1.0','major_vessels_2.0','oldpeak','sex','major_vessels_3.0','restecg_0.0','restecg_2.0']]\n",
    "x_test_chi2=x_test[['cp_4.0','thal_7.0','exang','thal_3.0','major_vessels_0.0','slope_1.0','slope_2.0','cp_3.0','cp_2.0'\n",
    "                  ,'major_vessels_1.0','major_vessels_2.0','oldpeak','sex','major_vessels_3.0','restecg_0.0','restecg_2.0']]"
   ]
  },
  {
   "cell_type": "code",
   "execution_count": 71,
   "metadata": {},
   "outputs": [],
   "source": [
    "#Logistic Regression(Using Chi2) "
   ]
  },
  {
   "cell_type": "code",
   "execution_count": 72,
   "metadata": {},
   "outputs": [
    {
     "data": {
      "text/plain": [
       "LogisticRegression(C=0.0001, class_weight=None, dual=False, fit_intercept=True,\n",
       "                   intercept_scaling=1, l1_ratio=None, max_iter=100,\n",
       "                   multi_class='warn', n_jobs=None, penalty='l2',\n",
       "                   random_state=None, solver='warn', tol=0.0001, verbose=0,\n",
       "                   warm_start=False)"
      ]
     },
     "execution_count": 72,
     "metadata": {},
     "output_type": "execute_result"
    }
   ],
   "source": [
    "model_LR=LogisticRegression(C=0.0001, class_weight=None, dual=False, fit_intercept=True,\n",
    "                   intercept_scaling=1, l1_ratio=None, max_iter=100,\n",
    "                   multi_class='warn', n_jobs=None, penalty='l2',\n",
    "                   random_state=None, solver='warn', tol=0.0001, verbose=0,\n",
    "                   warm_start=False)\n",
    "model_LR.fit(x_train_chi2,y_train)"
   ]
  },
  {
   "cell_type": "code",
   "execution_count": 73,
   "metadata": {},
   "outputs": [
    {
     "name": "stdout",
     "output_type": "stream",
     "text": [
      "[[72 13]\n",
      " [ 8 49]]\n",
      "Train Accuracy : 84.47099999999999 %\n",
      "Test Accuracy  : 85.211 %\n",
      "classification report of Log-Reg \n",
      "               precision    recall  f1-score   support\n",
      "\n",
      "           0       0.90      0.85      0.87        85\n",
      "           1       0.79      0.86      0.82        57\n",
      "\n",
      "    accuracy                           0.85       142\n",
      "   macro avg       0.85      0.85      0.85       142\n",
      "weighted avg       0.86      0.85      0.85       142\n",
      "\n",
      "0.14788732394366197\n"
     ]
    }
   ],
   "source": [
    "y_pred=model_LR.predict(x_test_chi2)\n",
    "cm=confusion_matrix(y_test,y_pred)\n",
    "TN = cm[0, 0]\n",
    "TP = cm[1, 1]\n",
    "FN = cm[1, 0]\n",
    "FP = cm[0, 1]\n",
    "print(cm)\n",
    "print(\"Train Accuracy :\",round(accuracy_score(y_train,model_LR.predict(x_train_chi2)),5)*100,'%')\n",
    "print(\"Test Accuracy  :\",round(accuracy_score(y_test,y_pred),5)*100,'%')\n",
    "print(\"classification report of Log-Reg \\n\",classification_report(y_test,y_pred))\n",
    "name.append(\"model_LR\")\n",
    "score.append(accuracy_score(y_test,y_pred))\n",
    "classification_error = (FP + FN) / float(TP + TN + FP + FN)\n",
    "print(classification_error)"
   ]
  },
  {
   "cell_type": "code",
   "execution_count": 74,
   "metadata": {},
   "outputs": [
    {
     "name": "stdout",
     "output_type": "stream",
     "text": [
      "sensitivity of logistic regression:-  0.8596491228070176\n",
      "Specificity of logistic regression:-  0.8470588235294118\n"
     ]
    }
   ],
   "source": [
    "sensitivity=TP/float(TP+FN)\n",
    "#print(\"precision of logistic regression:- \",precision) \n",
    "print(\"sensitivity of logistic regression:- \",sensitivity) #recall\n",
    "sens.append(sensitivity)\n",
    "Specificity=TN/float(TN+FP)\n",
    "print(\"Specificity of logistic regression:- \",Specificity) #recall\n",
    "spec.append(Specificity)"
   ]
  },
  {
   "cell_type": "code",
   "execution_count": 75,
   "metadata": {},
   "outputs": [],
   "source": [
    "#K-NN(Using Chi2)"
   ]
  },
  {
   "cell_type": "code",
   "execution_count": 76,
   "metadata": {},
   "outputs": [
    {
     "data": {
      "text/plain": [
       "KNeighborsClassifier(algorithm='auto', leaf_size=30, metric='minkowski',\n",
       "                     metric_params=None, n_jobs=None, n_neighbors=1, p=2,\n",
       "                     weights='uniform')"
      ]
     },
     "execution_count": 76,
     "metadata": {},
     "output_type": "execute_result"
    }
   ],
   "source": [
    "model_knn=KNeighborsClassifier(algorithm='auto', leaf_size=30, metric='minkowski',\n",
    "                     metric_params=None, n_jobs=None, n_neighbors=1, p=2,\n",
    "                     weights='uniform')\n",
    "model_knn.fit(x_train_chi2,y_train)"
   ]
  },
  {
   "cell_type": "code",
   "execution_count": 77,
   "metadata": {},
   "outputs": [
    {
     "name": "stdout",
     "output_type": "stream",
     "text": [
      "[[75 10]\n",
      " [ 4 53]]\n",
      "Train Accuracy : 97.41199999999999 %\n",
      "Test Accuracy  : 90.141 %\n",
      "classification report of Log-Reg \n",
      "               precision    recall  f1-score   support\n",
      "\n",
      "           0       0.95      0.88      0.91        85\n",
      "           1       0.84      0.93      0.88        57\n",
      "\n",
      "    accuracy                           0.90       142\n",
      "   macro avg       0.90      0.91      0.90       142\n",
      "weighted avg       0.91      0.90      0.90       142\n",
      "\n",
      "0.09859154929577464\n"
     ]
    }
   ],
   "source": [
    "y_pred=model_knn.predict(x_test_chi2)\n",
    "cm=confusion_matrix(y_test,y_pred)\n",
    "TN = cm[0, 0]\n",
    "TP = cm[1, 1]\n",
    "FN = cm[1, 0]\n",
    "FP = cm[0, 1]\n",
    "print(cm)\n",
    "print(\"Train Accuracy :\",round(accuracy_score(y_train,model_knn.predict(x_train_chi2)),5)*100,'%')\n",
    "print(\"Test Accuracy  :\",round(accuracy_score(y_test,y_pred),5)*100,'%')\n",
    "print(\"classification report of Log-Reg \\n\",classification_report(y_test,y_pred))\n",
    "name.append(\"model_knn\")\n",
    "score.append(accuracy_score(y_test,y_pred))\n",
    "classification_error = (FP + FN) / float(TP + TN + FP + FN)\n",
    "print(classification_error)"
   ]
  },
  {
   "cell_type": "code",
   "execution_count": 78,
   "metadata": {},
   "outputs": [
    {
     "name": "stdout",
     "output_type": "stream",
     "text": [
      "precision of KNN:-  0.8412698412698413\n",
      "sensitivity of KNN:-  0.9298245614035088\n",
      "Specificity of KNN:-  0.8823529411764706\n"
     ]
    }
   ],
   "source": [
    "precision=TP/float(TP+FP)\n",
    "sensitivity=TP/float(TP+FN)\n",
    "print(\"precision of KNN:- \",precision) \n",
    "print(\"sensitivity of KNN:- \",sensitivity) #recall\n",
    "sens.append(sensitivity)\n",
    "Specificity=TN/float(TN+FP)\n",
    "print(\"Specificity of KNN:- \",Specificity) #recall\n",
    "spec.append(Specificity)"
   ]
  },
  {
   "cell_type": "code",
   "execution_count": 79,
   "metadata": {},
   "outputs": [],
   "source": [
    "#SVM(Using Chi2)"
   ]
  },
  {
   "cell_type": "code",
   "execution_count": 80,
   "metadata": {},
   "outputs": [
    {
     "data": {
      "text/plain": [
       "SVC(C=100, cache_size=200, class_weight=None, coef0=0.0,\n",
       "    decision_function_shape='ovr', degree=3, gamma='auto_deprecated',\n",
       "    kernel='rbf', max_iter=-1, probability=False, random_state=None,\n",
       "    shrinking=True, tol=0.001, verbose=False)"
      ]
     },
     "execution_count": 80,
     "metadata": {},
     "output_type": "execute_result"
    }
   ],
   "source": [
    "model_svm=SVC(C=100, cache_size=200, class_weight=None, coef0=0.0,\n",
    "    decision_function_shape='ovr', degree=3, gamma='auto_deprecated',\n",
    "    kernel='rbf', max_iter=-1, probability=False, random_state=None,\n",
    "    shrinking=True, tol=0.001, verbose=False)\n",
    "model_svm.fit(x_train_chi2,y_train)"
   ]
  },
  {
   "cell_type": "code",
   "execution_count": 81,
   "metadata": {},
   "outputs": [
    {
     "name": "stdout",
     "output_type": "stream",
     "text": [
      "[[74 11]\n",
      " [ 7 50]]\n",
      "Train Accuracy : 93.41199999999999 %\n",
      "Test Accuracy  : 87.324 %\n",
      "classification report of Svm\n",
      "               precision    recall  f1-score   support\n",
      "\n",
      "           0       0.91      0.87      0.89        85\n",
      "           1       0.82      0.88      0.85        57\n",
      "\n",
      "    accuracy                           0.87       142\n",
      "   macro avg       0.87      0.87      0.87       142\n",
      "weighted avg       0.88      0.87      0.87       142\n",
      "\n",
      "0.1267605633802817\n"
     ]
    }
   ],
   "source": [
    "y_pred=model_svm.predict(x_test_chi2)\n",
    "cm=confusion_matrix(y_test,y_pred)\n",
    "TN = cm[0, 0]\n",
    "TP = cm[1, 1]\n",
    "FN = cm[1, 0]\n",
    "FP = cm[0, 1]\n",
    "print(cm)\n",
    "print(\"Train Accuracy :\",round(accuracy_score(y_train,model_svm.predict(x_train_chi2)),5)*100,'%')\n",
    "print(\"Test Accuracy  :\",round(accuracy_score(y_test,y_pred),5)*100,'%')\n",
    "print(\"classification report of Svm\\n\",classification_report(y_test,y_pred))\n",
    "name.append(\"model_svm\")\n",
    "score.append(accuracy_score(y_test,y_pred))\n",
    "classification_error = (FP + FN) / float(TP + TN + FP + FN)\n",
    "print(classification_error)"
   ]
  },
  {
   "cell_type": "code",
   "execution_count": 82,
   "metadata": {},
   "outputs": [
    {
     "name": "stdout",
     "output_type": "stream",
     "text": [
      "precision of SVM:-  0.819672131147541\n",
      "sensitivity of SVM:-  0.8771929824561403\n",
      "Specificity of SVM:-  0.8705882352941177\n"
     ]
    }
   ],
   "source": [
    "precision=TP/float(TP+FP)\n",
    "sensitivity=TP/float(TP+FN)\n",
    "print(\"precision of SVM:- \",precision) \n",
    "print(\"sensitivity of SVM:- \",sensitivity) #recall\n",
    "sens.append(sensitivity)\n",
    "Specificity=TN/float(TN+FP)\n",
    "print(\"Specificity of SVM:- \",Specificity) #recall\n",
    "spec.append(Specificity)"
   ]
  },
  {
   "cell_type": "code",
   "execution_count": 83,
   "metadata": {},
   "outputs": [],
   "source": [
    "#Naive Bayes(Using Chi2)"
   ]
  },
  {
   "cell_type": "code",
   "execution_count": 84,
   "metadata": {},
   "outputs": [
    {
     "data": {
      "text/plain": [
       "BernoulliNB(alpha=1.0, binarize=0.0, class_prior=None, fit_prior=True)"
      ]
     },
     "execution_count": 84,
     "metadata": {},
     "output_type": "execute_result"
    }
   ],
   "source": [
    "model_nb=BernoulliNB(alpha=1.0, binarize=0.0, class_prior=None, fit_prior=True)\n",
    "model_nb.fit(x_train_chi2,y_train)"
   ]
  },
  {
   "cell_type": "code",
   "execution_count": 85,
   "metadata": {},
   "outputs": [
    {
     "name": "stdout",
     "output_type": "stream",
     "text": [
      "Confusion matrix:\n",
      " [[67 18]\n",
      " [ 7 50]]\n",
      "Train Accuracy : 84.0 %\n",
      "Test Accuracy  : 82.394 %\n",
      "classification report of Naive Bayes\n",
      "               precision    recall  f1-score   support\n",
      "\n",
      "           0       0.91      0.79      0.84        85\n",
      "           1       0.74      0.88      0.80        57\n",
      "\n",
      "    accuracy                           0.82       142\n",
      "   macro avg       0.82      0.83      0.82       142\n",
      "weighted avg       0.84      0.82      0.83       142\n",
      "\n",
      "0.176056338028169\n"
     ]
    }
   ],
   "source": [
    "y_pred=model_nb.predict(x_test_chi2)\n",
    "cm=confusion_matrix(y_test,y_pred)\n",
    "TN = cm[0, 0]\n",
    "TP = cm[1, 1]\n",
    "FN = cm[1, 0]\n",
    "FP = cm[0, 1]\n",
    "print(\"Confusion matrix:\\n\",cm)\n",
    "print(\"Train Accuracy :\",round(accuracy_score(y_train,model_nb.predict(x_train_chi2)),5)*100,'%')\n",
    "print(\"Test Accuracy  :\",round(accuracy_score(y_test,y_pred),5)*100,'%')\n",
    "print(\"classification report of Naive Bayes\\n\",classification_report(y_test,y_pred))\n",
    "name.append(\"model_nb\")\n",
    "score.append(accuracy_score(y_test,y_pred))\n",
    "classification_error = (FP + FN) / float(TP + TN + FP + FN)\n",
    "print(classification_error)"
   ]
  },
  {
   "cell_type": "code",
   "execution_count": 86,
   "metadata": {},
   "outputs": [
    {
     "name": "stdout",
     "output_type": "stream",
     "text": [
      "precision of Naive_bayes:-  0.7352941176470589\n",
      "sensitivity of Naive_bayes:-  0.8771929824561403\n",
      "Specificity of Naive Bayes:-  0.788235294117647\n"
     ]
    }
   ],
   "source": [
    "precision=TP/float(TP+FP)\n",
    "sensitivity=TP/float(TP+FN)\n",
    "print(\"precision of Naive_bayes:- \",precision) \n",
    "print(\"sensitivity of Naive_bayes:- \",sensitivity) #recall\n",
    "sens.append(sensitivity)\n",
    "Specificity=TN/float(TN+FP)\n",
    "print(\"Specificity of Naive Bayes:- \",Specificity) #recall\n",
    "spec.append(Specificity)"
   ]
  },
  {
   "cell_type": "code",
   "execution_count": 87,
   "metadata": {},
   "outputs": [],
   "source": [
    "#Random Forest(Using Chi2)"
   ]
  },
  {
   "cell_type": "code",
   "execution_count": 88,
   "metadata": {},
   "outputs": [],
   "source": [
    "# Number of trees in random forest\n",
    "n_estimators = [int(x) for x in np.linspace(start = 200, stop = 2000, num = 10)]\n",
    "max_features = ['auto', 'sqrt'] # Number of features to consider at every split\n",
    "max_depth = [int(x) for x in np.linspace(10, 110, num = 11)] # Maximum number of levels in tree\n",
    "max_depth.append(None)\n",
    "min_samples_split = [2, 5, 10] # Minimum number of samples required to split a node\n",
    "min_samples_leaf = [1, 2, 4] # Minimum number of samples required at each leaf node\n",
    "bootstrap = [True, False]# Method of selecting samples for training each tree"
   ]
  },
  {
   "cell_type": "code",
   "execution_count": 89,
   "metadata": {},
   "outputs": [],
   "source": [
    "random_grid = {'n_estimators': n_estimators, 'max_features': max_features,'max_depth': max_depth,\n",
    "               'min_samples_split': min_samples_split, 'min_samples_leaf': min_samples_leaf,\n",
    "               'bootstrap': bootstrap}"
   ]
  },
  {
   "cell_type": "code",
   "execution_count": 90,
   "metadata": {},
   "outputs": [
    {
     "name": "stdout",
     "output_type": "stream",
     "text": [
      "Fitting 3 folds for each of 100 candidates, totalling 300 fits\n"
     ]
    },
    {
     "name": "stderr",
     "output_type": "stream",
     "text": [
      "[Parallel(n_jobs=-1)]: Using backend LokyBackend with 4 concurrent workers.\n",
      "[Parallel(n_jobs=-1)]: Done  33 tasks      | elapsed:   27.6s\n",
      "[Parallel(n_jobs=-1)]: Done 154 tasks      | elapsed:  2.2min\n",
      "[Parallel(n_jobs=-1)]: Done 300 out of 300 | elapsed:  4.3min finished\n"
     ]
    },
    {
     "data": {
      "text/plain": [
       "RandomizedSearchCV(cv=3, error_score='raise-deprecating',\n",
       "                   estimator=RandomForestClassifier(bootstrap=True,\n",
       "                                                    class_weight=None,\n",
       "                                                    criterion='gini',\n",
       "                                                    max_depth=None,\n",
       "                                                    max_features='auto',\n",
       "                                                    max_leaf_nodes=None,\n",
       "                                                    min_impurity_decrease=0.0,\n",
       "                                                    min_impurity_split=None,\n",
       "                                                    min_samples_leaf=1,\n",
       "                                                    min_samples_split=2,\n",
       "                                                    min_weight_fraction_leaf=0.0,\n",
       "                                                    n_estimators='warn',\n",
       "                                                    n_jobs=None,\n",
       "                                                    oob_sc...\n",
       "                   param_distributions={'bootstrap': [True, False],\n",
       "                                        'max_depth': [10, 20, 30, 40, 50, 60,\n",
       "                                                      70, 80, 90, 100, 110,\n",
       "                                                      None],\n",
       "                                        'max_features': ['auto', 'sqrt'],\n",
       "                                        'min_samples_leaf': [1, 2, 4],\n",
       "                                        'min_samples_split': [2, 5, 10],\n",
       "                                        'n_estimators': [200, 400, 600, 800,\n",
       "                                                         1000, 1200, 1400, 1600,\n",
       "                                                         1800, 2000]},\n",
       "                   pre_dispatch='2*n_jobs', random_state=42, refit=True,\n",
       "                   return_train_score=False, scoring=None, verbose=2)"
      ]
     },
     "execution_count": 90,
     "metadata": {},
     "output_type": "execute_result"
    }
   ],
   "source": [
    "# Random search of parameters, using 10 fold cross validation, \n",
    "# search across 100 different combinations, and use all available cores\n",
    "model_rf = RandomizedSearchCV(estimator = RandomForestClassifier(), param_distributions = random_grid, n_iter = 100, cv = 3, verbose=2, random_state=42, n_jobs = -1)# Fit the random search model\n",
    "model_rf.fit(x_train_chi2, y_train)"
   ]
  },
  {
   "cell_type": "code",
   "execution_count": 91,
   "metadata": {},
   "outputs": [
    {
     "name": "stdout",
     "output_type": "stream",
     "text": [
      "Confusion matrix:\n",
      " [[76  9]\n",
      " [ 5 52]]\n",
      "Train Accuracy : 97.882 %\n",
      "Test Accuracy  : 90.141 %\n",
      "classification report of Random Forest\n",
      "               precision    recall  f1-score   support\n",
      "\n",
      "           0       0.94      0.89      0.92        85\n",
      "           1       0.85      0.91      0.88        57\n",
      "\n",
      "    accuracy                           0.90       142\n",
      "   macro avg       0.90      0.90      0.90       142\n",
      "weighted avg       0.90      0.90      0.90       142\n",
      "\n",
      "0.09859154929577464\n"
     ]
    }
   ],
   "source": [
    "y_pred=model_rf.predict(x_test_chi2)\n",
    "cm=confusion_matrix(y_test,y_pred)\n",
    "TN = cm[0, 0]\n",
    "TP = cm[1, 1]\n",
    "FN = cm[1, 0]\n",
    "FP = cm[0, 1]\n",
    "print(\"Confusion matrix:\\n\",cm)\n",
    "print(\"Train Accuracy :\",round(accuracy_score(y_train,model_rf.predict(x_train_chi2)),5)*100,'%')\n",
    "print(\"Test Accuracy  :\",round(accuracy_score(y_test,y_pred),5)*100,'%')\n",
    "print(\"classification report of Random Forest\\n\",classification_report(y_test,y_pred))\n",
    "name.append(\"model_rf\")\n",
    "score.append(accuracy_score(y_test,y_pred))\n",
    "classification_error = (FP + FN) / float(TP + TN + FP + FN)\n",
    "print(classification_error)"
   ]
  },
  {
   "cell_type": "code",
   "execution_count": 92,
   "metadata": {},
   "outputs": [
    {
     "name": "stdout",
     "output_type": "stream",
     "text": [
      "precision of Random Forest:-  0.8524590163934426\n",
      "sensitivity of Random Forest:-  0.9122807017543859\n",
      "Specificity of Random Forest:-  0.8941176470588236\n"
     ]
    }
   ],
   "source": [
    "precision=TP/float(TP+FP)\n",
    "sensitivity=TP/float(TP+FN)\n",
    "print(\"precision of Random Forest:- \",precision) \n",
    "print(\"sensitivity of Random Forest:- \",sensitivity) #recall\n",
    "sens.append(sensitivity)\n",
    "Specificity=TN/float(TN+FP)\n",
    "print(\"Specificity of Random Forest:- \",Specificity) #recall\n",
    "spec.append(Specificity)"
   ]
  },
  {
   "cell_type": "markdown",
   "metadata": {},
   "source": [
    "# Plot Chi2 Result"
   ]
  },
  {
   "cell_type": "code",
   "execution_count": 93,
   "metadata": {},
   "outputs": [
    {
     "data": {
      "text/plain": [
       "Text(0, 0.5, 'Sensitvity%')"
      ]
     },
     "execution_count": 93,
     "metadata": {},
     "output_type": "execute_result"
    },
    {
     "data": {
      "image/png": "[encoded data removed]",
      "text/plain": [
       "<Figure size 432x288 with 1 Axes>"
      ]
     },
     "metadata": {
      "needs_background": "light"
     },
     "output_type": "display_data"
    }
   ],
   "source": [
    "plt.title(\"Comparison of Sensitvity/Recall of various Models using chi2 method\\n\",fontweight=\"bold\")\n",
    "plt.ylim([0.70,1.0])\n",
    "plt.bar(name,sens,width=0.5)\n",
    "plt.xlabel('Model')\n",
    "plt.ylabel('Sensitvity%')"
   ]
  },
  {
   "cell_type": "code",
   "execution_count": 94,
   "metadata": {},
   "outputs": [
    {
     "data": {
      "text/plain": [
       "Text(0, 0.5, 'Specificity%')"
      ]
     },
     "execution_count": 94,
     "metadata": {},
     "output_type": "execute_result"
    },
    {
     "data": {
      "image/png": "[encoded data removed]",
      "text/plain": [
       "<Figure size 432x288 with 1 Axes>"
      ]
     },
     "metadata": {
      "needs_background": "light"
     },
     "output_type": "display_data"
    }
   ],
   "source": [
    "plt.title(\"Comparison of Specificity/TNR of various Models using chi2 method\\n\",fontweight=\"bold\")\n",
    "plt.ylim([0.70,1.0])\n",
    "plt.bar(name,spec,width=0.5)\n",
    "plt.xlabel('Model')\n",
    "plt.ylabel('Specificity%')"
   ]
  },
  {
   "cell_type": "markdown",
   "metadata": {},
   "source": [
    "# Wrapper Method"
   ]
  },
  {
   "cell_type": "code",
   "execution_count": 95,
   "metadata": {},
   "outputs": [],
   "source": [
    "from sklearn.metrics import roc_auc_score\n",
    "from mlxtend.feature_selection import SequentialFeatureSelector as SFS "
   ]
  },
  {
   "cell_type": "markdown",
   "metadata": {},
   "source": [
    "# Step Forward Selction Method "
   ]
  },
  {
   "cell_type": "code",
   "execution_count": 96,
   "metadata": {},
   "outputs": [],
   "source": [
    "model=[]\n",
    "recall=[]\n",
    "spec1=[]"
   ]
  },
  {
   "cell_type": "code",
   "execution_count": 97,
   "metadata": {},
   "outputs": [],
   "source": [
    "# Logistic Regression (Step Forward)"
   ]
  },
  {
   "cell_type": "code",
   "execution_count": 98,
   "metadata": {},
   "outputs": [
    {
     "name": "stderr",
     "output_type": "stream",
     "text": [
      "[Parallel(n_jobs=-1)]: Using backend LokyBackend with 4 concurrent workers.\n",
      "[Parallel(n_jobs=-1)]: Done  25 out of  25 | elapsed:    1.3s finished\n",
      "\n",
      "[2020-06-23 14:16:10] Features: 1/25 -- score: 0.7671266090636573[Parallel(n_jobs=-1)]: Using backend LokyBackend with 4 concurrent workers.\n",
      "[Parallel(n_jobs=-1)]: Done  24 out of  24 | elapsed:    0.3s finished\n",
      "\n",
      "[2020-06-23 14:16:10] Features: 2/25 -- score: 0.7671266090636573[Parallel(n_jobs=-1)]: Using backend LokyBackend with 4 concurrent workers.\n",
      "[Parallel(n_jobs=-1)]: Done   4 out of  23 | elapsed:    0.0s remaining:    0.2s\n",
      "[Parallel(n_jobs=-1)]: Done  23 out of  23 | elapsed:    0.2s finished\n",
      "\n",
      "[2020-06-23 14:16:10] Features: 3/25 -- score: 0.769463057661788[Parallel(n_jobs=-1)]: Using backend LokyBackend with 4 concurrent workers.\n",
      "[Parallel(n_jobs=-1)]: Done   3 out of  22 | elapsed:    0.0s remaining:    0.2s\n",
      "[Parallel(n_jobs=-1)]: Done  22 out of  22 | elapsed:    0.2s finished\n",
      "\n",
      "[2020-06-23 14:16:10] Features: 4/25 -- score: 0.7718215482278259[Parallel(n_jobs=-1)]: Using backend LokyBackend with 4 concurrent workers.\n",
      "[Parallel(n_jobs=-1)]: Done   3 out of  21 | elapsed:    0.0s remaining:    0.3s\n",
      "[Parallel(n_jobs=-1)]: Done  21 out of  21 | elapsed:    0.3s finished\n",
      "\n",
      "[2020-06-23 14:16:11] Features: 5/25 -- score: 0.7765385293599012[Parallel(n_jobs=-1)]: Using backend LokyBackend with 4 concurrent workers.\n",
      "[Parallel(n_jobs=-1)]: Done  20 out of  20 | elapsed:    0.2s finished\n",
      "\n",
      "[2020-06-23 14:16:11] Features: 6/25 -- score: 0.778897019925939[Parallel(n_jobs=-1)]: Using backend LokyBackend with 4 concurrent workers.\n",
      "[Parallel(n_jobs=-1)]: Done  19 out of  19 | elapsed:    0.2s finished\n",
      "\n",
      "[2020-06-23 14:16:11] Features: 7/25 -- score: 0.7812555104919767[Parallel(n_jobs=-1)]: Using backend LokyBackend with 4 concurrent workers.\n",
      "[Parallel(n_jobs=-1)]: Done  18 out of  18 | elapsed:    0.2s finished\n",
      "\n",
      "[2020-06-23 14:16:11] Features: 8/25 -- score: 0.7812555104919767[Parallel(n_jobs=-1)]: Using backend LokyBackend with 4 concurrent workers.\n",
      "[Parallel(n_jobs=-1)]: Done  17 out of  17 | elapsed:    0.2s finished\n",
      "\n",
      "[2020-06-23 14:16:11] Features: 9/25 -- score: 0.7812555104919767[Parallel(n_jobs=-1)]: Using backend LokyBackend with 4 concurrent workers.\n",
      "[Parallel(n_jobs=-1)]: Done  16 out of  16 | elapsed:    0.2s finished\n",
      "\n",
      "[2020-06-23 14:16:12] Features: 10/25 -- score: 0.7812555104919767[Parallel(n_jobs=-1)]: Using backend LokyBackend with 4 concurrent workers.\n",
      "[Parallel(n_jobs=-1)]: Done   8 out of  15 | elapsed:    0.1s remaining:    0.1s\n",
      "[Parallel(n_jobs=-1)]: Done  15 out of  15 | elapsed:    0.2s finished\n",
      "\n",
      "[2020-06-23 14:16:12] Features: 11/25 -- score: 0.7788970199259391[Parallel(n_jobs=-1)]: Using backend LokyBackend with 4 concurrent workers.\n",
      "[Parallel(n_jobs=-1)]: Done   7 out of  14 | elapsed:    0.1s remaining:    0.1s\n",
      "[Parallel(n_jobs=-1)]: Done  14 out of  14 | elapsed:    0.1s finished\n",
      "\n",
      "[2020-06-23 14:16:12] Features: 12/25 -- score: 0.7788749779580322[Parallel(n_jobs=-1)]: Using backend LokyBackend with 4 concurrent workers.\n",
      "[Parallel(n_jobs=-1)]: Done   6 out of  13 | elapsed:    0.1s remaining:    0.1s\n",
      "[Parallel(n_jobs=-1)]: Done  13 out of  13 | elapsed:    0.1s remaining:    0.0s\n",
      "[Parallel(n_jobs=-1)]: Done  13 out of  13 | elapsed:    0.1s finished\n",
      "\n",
      "[2020-06-23 14:16:12] Features: 13/25 -- score: 0.7741579968259568[Parallel(n_jobs=-1)]: Using backend LokyBackend with 4 concurrent workers.\n",
      "[Parallel(n_jobs=-1)]: Done   5 out of  12 | elapsed:    0.0s remaining:    0.1s\n",
      "[Parallel(n_jobs=-1)]: Done  12 out of  12 | elapsed:    0.1s remaining:    0.0s\n",
      "[Parallel(n_jobs=-1)]: Done  12 out of  12 | elapsed:    0.1s finished\n",
      "\n",
      "[2020-06-23 14:16:12] Features: 14/25 -- score: 0.7764944454240874[Parallel(n_jobs=-1)]: Using backend LokyBackend with 4 concurrent workers.\n",
      "[Parallel(n_jobs=-1)]: Done   4 out of  11 | elapsed:    0.0s remaining:    0.1s\n",
      "[Parallel(n_jobs=-1)]: Done  11 out of  11 | elapsed:    0.1s finished\n",
      "\n",
      "[2020-06-23 14:16:12] Features: 15/25 -- score: 0.7765164873919943[Parallel(n_jobs=-1)]: Using backend LokyBackend with 4 concurrent workers.\n",
      "[Parallel(n_jobs=-1)]: Done   3 out of  10 | elapsed:    0.0s remaining:    0.1s\n",
      "[Parallel(n_jobs=-1)]: Done  10 out of  10 | elapsed:    0.1s finished\n",
      "\n",
      "[2020-06-23 14:16:12] Features: 16/25 -- score: 0.7998809733733028[Parallel(n_jobs=-1)]: Using backend LokyBackend with 4 concurrent workers.\n",
      "[Parallel(n_jobs=-1)]: Done   7 out of   9 | elapsed:    0.1s remaining:    0.0s\n",
      "[Parallel(n_jobs=-1)]: Done   9 out of   9 | elapsed:    0.1s finished\n",
      "\n",
      "[2020-06-23 14:16:12] Features: 17/25 -- score: 0.825824369599718[Parallel(n_jobs=-1)]: Using backend LokyBackend with 4 concurrent workers.\n",
      "[Parallel(n_jobs=-1)]: Done   6 out of   8 | elapsed:    0.1s remaining:    0.0s\n",
      "[Parallel(n_jobs=-1)]: Done   8 out of   8 | elapsed:    0.1s finished\n",
      "\n",
      "[2020-06-23 14:16:13] Features: 18/25 -- score: 0.837727032269441[Parallel(n_jobs=-1)]: Using backend LokyBackend with 4 concurrent workers.\n",
      "[Parallel(n_jobs=-1)]: Done   4 out of   7 | elapsed:    0.1s remaining:    0.0s\n",
      "[Parallel(n_jobs=-1)]: Done   7 out of   7 | elapsed:    0.1s finished\n",
      "\n",
      "[2020-06-23 14:16:13] Features: 19/25 -- score: 0.8376829483336272[Parallel(n_jobs=-1)]: Using backend LokyBackend with 4 concurrent workers.\n",
      "[Parallel(n_jobs=-1)]: Done   3 out of   6 | elapsed:    0.0s remaining:    0.0s\n",
      "[Parallel(n_jobs=-1)]: Done   6 out of   6 | elapsed:    0.1s finished\n",
      "\n",
      "[2020-06-23 14:16:13] Features: 20/25 -- score: 0.8518559336977605[Parallel(n_jobs=-1)]: Using backend LokyBackend with 4 concurrent workers.\n",
      "[Parallel(n_jobs=-1)]: Done   5 out of   5 | elapsed:    0.1s finished\n",
      "\n",
      "[2020-06-23 14:16:13] Features: 21/25 -- score: 0.8494754011638159[Parallel(n_jobs=-1)]: Using backend LokyBackend with 4 concurrent workers.\n",
      "[Parallel(n_jobs=-1)]: Done   4 out of   4 | elapsed:    0.0s finished\n",
      "\n",
      "[2020-06-23 14:16:13] Features: 22/25 -- score: 0.8447143360959266[Parallel(n_jobs=-1)]: Using backend LokyBackend with 4 concurrent workers.\n",
      "[Parallel(n_jobs=-1)]: Done   3 out of   3 | elapsed:    0.0s finished\n",
      "\n",
      "[2020-06-23 14:16:13] Features: 23/25 -- score: 0.8447143360959266[Parallel(n_jobs=-1)]: Using backend LokyBackend with 4 concurrent workers.\n",
      "[Parallel(n_jobs=-1)]: Done   2 out of   2 | elapsed:    0.0s finished\n",
      "\n",
      "[2020-06-23 14:16:13] Features: 24/25 -- score: 0.8423558455298888[Parallel(n_jobs=-1)]: Using backend LokyBackend with 4 concurrent workers.\n",
      "[Parallel(n_jobs=-1)]: Done   1 out of   1 | elapsed:    0.0s finished\n",
      "\n",
      "[2020-06-23 14:16:13] Features: 25/25 -- score: 0.8423778874977957"
     ]
    }
   ],
   "source": [
    "sfs=SFS(LogisticRegression(C=0.0001, class_weight=None, dual=False, fit_intercept=True,\n",
    "                   intercept_scaling=1,  max_iter=100,\n",
    "                    n_jobs=None, penalty='l2',\n",
    "                   random_state=42, tol=0.0001, verbose=0,\n",
    "                   warm_start=False),\n",
    "        k_features=(1,25), forward=True, floating=False, verbose=2,\n",
    "        scoring='accuracy',cv=4, n_jobs=-1).fit(x_train,y_train)"
   ]
  },
  {
   "cell_type": "code",
   "execution_count": 99,
   "metadata": {},
   "outputs": [
    {
     "name": "stdout",
     "output_type": "stream",
     "text": [
      "('age', 'restbps', 'chol', 'oldpeak', 'sex', 'fbs', 'exang', 'cp_1.0', 'cp_2.0', 'cp_4.0', 'restecg_0.0', 'restecg_1.0', 'slope_2.0', 'slope_3.0', 'major_vessels_0.0', 'major_vessels_1.0', 'major_vessels_2.0', 'major_vessels_3.0', 'thal_3.0', 'thal_6.0')\n",
      "[0, 1, 2, 4, 5, 6, 7, 8, 9, 11, 12, 13, 16, 17, 18, 19, 20, 21, 22, 23]\n",
      "0.8518559336977605\n"
     ]
    }
   ],
   "source": [
    "print(sfs.k_feature_names_)\n",
    "feat_cols = list(sfs.k_feature_idx_)\n",
    "print(feat_cols)\n",
    "print(sfs.k_score_)"
   ]
  },
  {
   "cell_type": "code",
   "execution_count": 100,
   "metadata": {},
   "outputs": [
    {
     "data": {
      "text/html": [
       "<div>\n",
       "<style scoped>\n",
       "    .dataframe tbody tr th:only-of-type {\n",
       "        vertical-align: middle;\n",
       "    }\n",
       "\n",
       "    .dataframe tbody tr th {\n",
       "        vertical-align: top;\n",
       "    }\n",
       "\n",
       "    .dataframe thead th {\n",
       "        text-align: right;\n",
       "    }\n",
       "</style>\n",
       "<table border=\"1\" class=\"dataframe\">\n",
       "  <thead>\n",
       "    <tr style=\"text-align: right;\">\n",
       "      <th></th>\n",
       "      <th>feature_idx</th>\n",
       "      <th>cv_scores</th>\n",
       "      <th>avg_score</th>\n",
       "      <th>feature_names</th>\n",
       "      <th>ci_bound</th>\n",
       "      <th>std_dev</th>\n",
       "      <th>std_err</th>\n",
       "    </tr>\n",
       "  </thead>\n",
       "  <tbody>\n",
       "    <tr>\n",
       "      <td>1</td>\n",
       "      <td>(11,)</td>\n",
       "      <td>[0.7383177570093458, 0.8113207547169812, 0.764...</td>\n",
       "      <td>0.767127</td>\n",
       "      <td>(cp_4.0,)</td>\n",
       "      <td>0.043502</td>\n",
       "      <td>0.0271382</td>\n",
       "      <td>0.0156682</td>\n",
       "    </tr>\n",
       "    <tr>\n",
       "      <td>2</td>\n",
       "      <td>(0, 11)</td>\n",
       "      <td>[0.7383177570093458, 0.8113207547169812, 0.764...</td>\n",
       "      <td>0.767127</td>\n",
       "      <td>(age, cp_4.0)</td>\n",
       "      <td>0.043502</td>\n",
       "      <td>0.0271382</td>\n",
       "      <td>0.0156682</td>\n",
       "    </tr>\n",
       "    <tr>\n",
       "      <td>3</td>\n",
       "      <td>(0, 11, 21)</td>\n",
       "      <td>[0.7476635514018691, 0.8113207547169812, 0.764...</td>\n",
       "      <td>0.769463</td>\n",
       "      <td>(age, cp_4.0, major_vessels_3.0)</td>\n",
       "      <td>0.0398571</td>\n",
       "      <td>0.0248644</td>\n",
       "      <td>0.0143555</td>\n",
       "    </tr>\n",
       "    <tr>\n",
       "      <td>4</td>\n",
       "      <td>(0, 4, 11, 21)</td>\n",
       "      <td>[0.7476635514018691, 0.8207547169811321, 0.764...</td>\n",
       "      <td>0.771822</td>\n",
       "      <td>(age, oldpeak, cp_4.0, major_vessels_3.0)</td>\n",
       "      <td>0.0462472</td>\n",
       "      <td>0.0288508</td>\n",
       "      <td>0.016657</td>\n",
       "    </tr>\n",
       "    <tr>\n",
       "      <td>5</td>\n",
       "      <td>(0, 4, 11, 21, 23)</td>\n",
       "      <td>[0.7476635514018691, 0.8301886792452831, 0.764...</td>\n",
       "      <td>0.776539</td>\n",
       "      <td>(age, oldpeak, cp_4.0, major_vessels_3.0, thal...</td>\n",
       "      <td>0.050811</td>\n",
       "      <td>0.0316978</td>\n",
       "      <td>0.0183007</td>\n",
       "    </tr>\n",
       "    <tr>\n",
       "      <td>6</td>\n",
       "      <td>(0, 4, 8, 11, 21, 23)</td>\n",
       "      <td>[0.7476635514018691, 0.8301886792452831, 0.773...</td>\n",
       "      <td>0.778897</td>\n",
       "      <td>(age, oldpeak, cp_1.0, cp_4.0, major_vessels_3...</td>\n",
       "      <td>0.0497443</td>\n",
       "      <td>0.0310324</td>\n",
       "      <td>0.0179165</td>\n",
       "    </tr>\n",
       "    <tr>\n",
       "      <td>7</td>\n",
       "      <td>(0, 1, 4, 8, 11, 21, 23)</td>\n",
       "      <td>[0.7476635514018691, 0.8301886792452831, 0.773...</td>\n",
       "      <td>0.781256</td>\n",
       "      <td>(age, restbps, oldpeak, cp_1.0, cp_4.0, major_...</td>\n",
       "      <td>0.0483595</td>\n",
       "      <td>0.0301685</td>\n",
       "      <td>0.0174178</td>\n",
       "    </tr>\n",
       "    <tr>\n",
       "      <td>8</td>\n",
       "      <td>(0, 1, 2, 4, 8, 11, 21, 23)</td>\n",
       "      <td>[0.7476635514018691, 0.8301886792452831, 0.773...</td>\n",
       "      <td>0.781256</td>\n",
       "      <td>(age, restbps, chol, oldpeak, cp_1.0, cp_4.0, ...</td>\n",
       "      <td>0.0483595</td>\n",
       "      <td>0.0301685</td>\n",
       "      <td>0.0174178</td>\n",
       "    </tr>\n",
       "    <tr>\n",
       "      <td>9</td>\n",
       "      <td>(0, 1, 2, 4, 8, 11, 13, 21, 23)</td>\n",
       "      <td>[0.7476635514018691, 0.8301886792452831, 0.773...</td>\n",
       "      <td>0.781256</td>\n",
       "      <td>(age, restbps, chol, oldpeak, cp_1.0, cp_4.0, ...</td>\n",
       "      <td>0.0483595</td>\n",
       "      <td>0.0301685</td>\n",
       "      <td>0.0174178</td>\n",
       "    </tr>\n",
       "    <tr>\n",
       "      <td>10</td>\n",
       "      <td>(0, 1, 2, 4, 8, 11, 13, 17, 21, 23)</td>\n",
       "      <td>[0.7476635514018691, 0.8301886792452831, 0.773...</td>\n",
       "      <td>0.781256</td>\n",
       "      <td>(age, restbps, chol, oldpeak, cp_1.0, cp_4.0, ...</td>\n",
       "      <td>0.0483595</td>\n",
       "      <td>0.0301685</td>\n",
       "      <td>0.0174178</td>\n",
       "    </tr>\n",
       "    <tr>\n",
       "      <td>11</td>\n",
       "      <td>(0, 1, 2, 4, 8, 11, 13, 17, 20, 21, 23)</td>\n",
       "      <td>[0.7476635514018691, 0.7924528301886793, 0.783...</td>\n",
       "      <td>0.778897</td>\n",
       "      <td>(age, restbps, chol, oldpeak, cp_1.0, cp_4.0, ...</td>\n",
       "      <td>0.0295579</td>\n",
       "      <td>0.0184394</td>\n",
       "      <td>0.010646</td>\n",
       "    </tr>\n",
       "    <tr>\n",
       "      <td>12</td>\n",
       "      <td>(0, 1, 2, 4, 8, 9, 11, 13, 17, 20, 21, 23)</td>\n",
       "      <td>[0.7570093457943925, 0.8113207547169812, 0.764...</td>\n",
       "      <td>0.778875</td>\n",
       "      <td>(age, restbps, chol, oldpeak, cp_1.0, cp_2.0, ...</td>\n",
       "      <td>0.0336703</td>\n",
       "      <td>0.0210048</td>\n",
       "      <td>0.0121271</td>\n",
       "    </tr>\n",
       "    <tr>\n",
       "      <td>13</td>\n",
       "      <td>(0, 1, 2, 4, 6, 8, 9, 11, 13, 17, 20, 21, 23)</td>\n",
       "      <td>[0.7570093457943925, 0.8018867924528302, 0.754...</td>\n",
       "      <td>0.774158</td>\n",
       "      <td>(age, restbps, chol, oldpeak, fbs, cp_1.0, cp_...</td>\n",
       "      <td>0.031242</td>\n",
       "      <td>0.0194899</td>\n",
       "      <td>0.0112525</td>\n",
       "    </tr>\n",
       "    <tr>\n",
       "      <td>14</td>\n",
       "      <td>(0, 1, 2, 4, 6, 8, 9, 11, 12, 13, 17, 20, 21, 23)</td>\n",
       "      <td>[0.7663551401869159, 0.8113207547169812, 0.764...</td>\n",
       "      <td>0.776494</td>\n",
       "      <td>(age, restbps, chol, oldpeak, fbs, cp_1.0, cp_...</td>\n",
       "      <td>0.0322634</td>\n",
       "      <td>0.0201271</td>\n",
       "      <td>0.0116204</td>\n",
       "    </tr>\n",
       "    <tr>\n",
       "      <td>15</td>\n",
       "      <td>(0, 1, 2, 4, 6, 8, 9, 11, 12, 13, 17, 19, 20, ...</td>\n",
       "      <td>[0.7570093457943925, 0.8207547169811321, 0.764...</td>\n",
       "      <td>0.776516</td>\n",
       "      <td>(age, restbps, chol, oldpeak, fbs, cp_1.0, cp_...</td>\n",
       "      <td>0.0412076</td>\n",
       "      <td>0.0257068</td>\n",
       "      <td>0.0148418</td>\n",
       "    </tr>\n",
       "    <tr>\n",
       "      <td>16</td>\n",
       "      <td>(0, 1, 2, 4, 6, 8, 9, 11, 12, 13, 17, 19, 20, ...</td>\n",
       "      <td>[0.8504672897196262, 0.7924528301886793, 0.764...</td>\n",
       "      <td>0.799881</td>\n",
       "      <td>(age, restbps, chol, oldpeak, fbs, cp_1.0, cp_...</td>\n",
       "      <td>0.0503472</td>\n",
       "      <td>0.0314085</td>\n",
       "      <td>0.0181337</td>\n",
       "    </tr>\n",
       "    <tr>\n",
       "      <td>17</td>\n",
       "      <td>(0, 1, 2, 4, 6, 7, 8, 9, 11, 12, 13, 17, 19, 2...</td>\n",
       "      <td>[0.8504672897196262, 0.8207547169811321, 0.811...</td>\n",
       "      <td>0.825824</td>\n",
       "      <td>(age, restbps, chol, oldpeak, fbs, exang, cp_1...</td>\n",
       "      <td>0.0236274</td>\n",
       "      <td>0.0147397</td>\n",
       "      <td>0.00850995</td>\n",
       "    </tr>\n",
       "    <tr>\n",
       "      <td>18</td>\n",
       "      <td>(0, 1, 2, 4, 6, 7, 8, 9, 11, 12, 13, 16, 17, 1...</td>\n",
       "      <td>[0.8037383177570093, 0.8207547169811321, 0.877...</td>\n",
       "      <td>0.837727</td>\n",
       "      <td>(age, restbps, chol, oldpeak, fbs, exang, cp_1...</td>\n",
       "      <td>0.0449286</td>\n",
       "      <td>0.0280281</td>\n",
       "      <td>0.016182</td>\n",
       "    </tr>\n",
       "    <tr>\n",
       "      <td>19</td>\n",
       "      <td>(0, 1, 2, 4, 6, 7, 8, 9, 11, 12, 13, 16, 17, 1...</td>\n",
       "      <td>[0.822429906542056, 0.839622641509434, 0.82075...</td>\n",
       "      <td>0.837683</td>\n",
       "      <td>(age, restbps, chol, oldpeak, fbs, exang, cp_1...</td>\n",
       "      <td>0.0303884</td>\n",
       "      <td>0.0189574</td>\n",
       "      <td>0.0109451</td>\n",
       "    </tr>\n",
       "    <tr>\n",
       "      <td>20</td>\n",
       "      <td>(0, 1, 2, 4, 5, 6, 7, 8, 9, 11, 12, 13, 16, 17...</td>\n",
       "      <td>[0.8130841121495327, 0.8867924528301887, 0.830...</td>\n",
       "      <td>0.851856</td>\n",
       "      <td>(age, restbps, chol, oldpeak, sex, fbs, exang,...</td>\n",
       "      <td>0.0496903</td>\n",
       "      <td>0.0309986</td>\n",
       "      <td>0.0178971</td>\n",
       "    </tr>\n",
       "    <tr>\n",
       "      <td>21</td>\n",
       "      <td>(0, 1, 2, 4, 5, 6, 7, 8, 9, 10, 11, 12, 13, 16...</td>\n",
       "      <td>[0.822429906542056, 0.8962264150943396, 0.8207...</td>\n",
       "      <td>0.849475</td>\n",
       "      <td>(age, restbps, chol, oldpeak, sex, fbs, exang,...</td>\n",
       "      <td>0.0495582</td>\n",
       "      <td>0.0309163</td>\n",
       "      <td>0.0178495</td>\n",
       "    </tr>\n",
       "    <tr>\n",
       "      <td>22</td>\n",
       "      <td>(0, 1, 2, 4, 5, 6, 7, 8, 9, 10, 11, 12, 13, 14...</td>\n",
       "      <td>[0.8411214953271028, 0.8773584905660378, 0.811...</td>\n",
       "      <td>0.844714</td>\n",
       "      <td>(age, restbps, chol, oldpeak, sex, fbs, exang,...</td>\n",
       "      <td>0.0377002</td>\n",
       "      <td>0.0235188</td>\n",
       "      <td>0.0135786</td>\n",
       "    </tr>\n",
       "    <tr>\n",
       "      <td>23</td>\n",
       "      <td>(0, 1, 2, 3, 4, 5, 6, 7, 8, 9, 10, 11, 12, 13,...</td>\n",
       "      <td>[0.8411214953271028, 0.8773584905660378, 0.820...</td>\n",
       "      <td>0.844714</td>\n",
       "      <td>(age, restbps, chol, maximum_heart_rate, oldpe...</td>\n",
       "      <td>0.032837</td>\n",
       "      <td>0.020485</td>\n",
       "      <td>0.011827</td>\n",
       "    </tr>\n",
       "    <tr>\n",
       "      <td>24</td>\n",
       "      <td>(0, 1, 2, 3, 4, 5, 6, 7, 8, 9, 10, 11, 12, 13,...</td>\n",
       "      <td>[0.8411214953271028, 0.8584905660377359, 0.830...</td>\n",
       "      <td>0.842356</td>\n",
       "      <td>(age, restbps, chol, maximum_heart_rate, oldpe...</td>\n",
       "      <td>0.016374</td>\n",
       "      <td>0.0102147</td>\n",
       "      <td>0.00589748</td>\n",
       "    </tr>\n",
       "    <tr>\n",
       "      <td>25</td>\n",
       "      <td>(0, 1, 2, 3, 4, 5, 6, 7, 8, 9, 10, 11, 12, 13,...</td>\n",
       "      <td>[0.8317757009345794, 0.8490566037735849, 0.849...</td>\n",
       "      <td>0.842378</td>\n",
       "      <td>(age, restbps, chol, maximum_heart_rate, oldpe...</td>\n",
       "      <td>0.0115928</td>\n",
       "      <td>0.00723202</td>\n",
       "      <td>0.00417541</td>\n",
       "    </tr>\n",
       "  </tbody>\n",
       "</table>\n",
       "</div>"
      ],
      "text/plain": [
       "                                          feature_idx  \\\n",
       "1                                               (11,)   \n",
       "2                                             (0, 11)   \n",
       "3                                         (0, 11, 21)   \n",
       "4                                      (0, 4, 11, 21)   \n",
       "5                                  (0, 4, 11, 21, 23)   \n",
       "6                               (0, 4, 8, 11, 21, 23)   \n",
       "7                            (0, 1, 4, 8, 11, 21, 23)   \n",
       "8                         (0, 1, 2, 4, 8, 11, 21, 23)   \n",
       "9                     (0, 1, 2, 4, 8, 11, 13, 21, 23)   \n",
       "10                (0, 1, 2, 4, 8, 11, 13, 17, 21, 23)   \n",
       "11            (0, 1, 2, 4, 8, 11, 13, 17, 20, 21, 23)   \n",
       "12         (0, 1, 2, 4, 8, 9, 11, 13, 17, 20, 21, 23)   \n",
       "13      (0, 1, 2, 4, 6, 8, 9, 11, 13, 17, 20, 21, 23)   \n",
       "14  (0, 1, 2, 4, 6, 8, 9, 11, 12, 13, 17, 20, 21, 23)   \n",
       "15  (0, 1, 2, 4, 6, 8, 9, 11, 12, 13, 17, 19, 20, ...   \n",
       "16  (0, 1, 2, 4, 6, 8, 9, 11, 12, 13, 17, 19, 20, ...   \n",
       "17  (0, 1, 2, 4, 6, 7, 8, 9, 11, 12, 13, 17, 19, 2...   \n",
       "18  (0, 1, 2, 4, 6, 7, 8, 9, 11, 12, 13, 16, 17, 1...   \n",
       "19  (0, 1, 2, 4, 6, 7, 8, 9, 11, 12, 13, 16, 17, 1...   \n",
       "20  (0, 1, 2, 4, 5, 6, 7, 8, 9, 11, 12, 13, 16, 17...   \n",
       "21  (0, 1, 2, 4, 5, 6, 7, 8, 9, 10, 11, 12, 13, 16...   \n",
       "22  (0, 1, 2, 4, 5, 6, 7, 8, 9, 10, 11, 12, 13, 14...   \n",
       "23  (0, 1, 2, 3, 4, 5, 6, 7, 8, 9, 10, 11, 12, 13,...   \n",
       "24  (0, 1, 2, 3, 4, 5, 6, 7, 8, 9, 10, 11, 12, 13,...   \n",
       "25  (0, 1, 2, 3, 4, 5, 6, 7, 8, 9, 10, 11, 12, 13,...   \n",
       "\n",
       "                                            cv_scores avg_score  \\\n",
       "1   [0.7383177570093458, 0.8113207547169812, 0.764...  0.767127   \n",
       "2   [0.7383177570093458, 0.8113207547169812, 0.764...  0.767127   \n",
       "3   [0.7476635514018691, 0.8113207547169812, 0.764...  0.769463   \n",
       "4   [0.7476635514018691, 0.8207547169811321, 0.764...  0.771822   \n",
       "5   [0.7476635514018691, 0.8301886792452831, 0.764...  0.776539   \n",
       "6   [0.7476635514018691, 0.8301886792452831, 0.773...  0.778897   \n",
       "7   [0.7476635514018691, 0.8301886792452831, 0.773...  0.781256   \n",
       "8   [0.7476635514018691, 0.8301886792452831, 0.773...  0.781256   \n",
       "9   [0.7476635514018691, 0.8301886792452831, 0.773...  0.781256   \n",
       "10  [0.7476635514018691, 0.8301886792452831, 0.773...  0.781256   \n",
       "11  [0.7476635514018691, 0.7924528301886793, 0.783...  0.778897   \n",
       "12  [0.7570093457943925, 0.8113207547169812, 0.764...  0.778875   \n",
       "13  [0.7570093457943925, 0.8018867924528302, 0.754...  0.774158   \n",
       "14  [0.7663551401869159, 0.8113207547169812, 0.764...  0.776494   \n",
       "15  [0.7570093457943925, 0.8207547169811321, 0.764...  0.776516   \n",
       "16  [0.8504672897196262, 0.7924528301886793, 0.764...  0.799881   \n",
       "17  [0.8504672897196262, 0.8207547169811321, 0.811...  0.825824   \n",
       "18  [0.8037383177570093, 0.8207547169811321, 0.877...  0.837727   \n",
       "19  [0.822429906542056, 0.839622641509434, 0.82075...  0.837683   \n",
       "20  [0.8130841121495327, 0.8867924528301887, 0.830...  0.851856   \n",
       "21  [0.822429906542056, 0.8962264150943396, 0.8207...  0.849475   \n",
       "22  [0.8411214953271028, 0.8773584905660378, 0.811...  0.844714   \n",
       "23  [0.8411214953271028, 0.8773584905660378, 0.820...  0.844714   \n",
       "24  [0.8411214953271028, 0.8584905660377359, 0.830...  0.842356   \n",
       "25  [0.8317757009345794, 0.8490566037735849, 0.849...  0.842378   \n",
       "\n",
       "                                        feature_names   ci_bound     std_dev  \\\n",
       "1                                           (cp_4.0,)   0.043502   0.0271382   \n",
       "2                                       (age, cp_4.0)   0.043502   0.0271382   \n",
       "3                    (age, cp_4.0, major_vessels_3.0)  0.0398571   0.0248644   \n",
       "4           (age, oldpeak, cp_4.0, major_vessels_3.0)  0.0462472   0.0288508   \n",
       "5   (age, oldpeak, cp_4.0, major_vessels_3.0, thal...   0.050811   0.0316978   \n",
       "6   (age, oldpeak, cp_1.0, cp_4.0, major_vessels_3...  0.0497443   0.0310324   \n",
       "7   (age, restbps, oldpeak, cp_1.0, cp_4.0, major_...  0.0483595   0.0301685   \n",
       "8   (age, restbps, chol, oldpeak, cp_1.0, cp_4.0, ...  0.0483595   0.0301685   \n",
       "9   (age, restbps, chol, oldpeak, cp_1.0, cp_4.0, ...  0.0483595   0.0301685   \n",
       "10  (age, restbps, chol, oldpeak, cp_1.0, cp_4.0, ...  0.0483595   0.0301685   \n",
       "11  (age, restbps, chol, oldpeak, cp_1.0, cp_4.0, ...  0.0295579   0.0184394   \n",
       "12  (age, restbps, chol, oldpeak, cp_1.0, cp_2.0, ...  0.0336703   0.0210048   \n",
       "13  (age, restbps, chol, oldpeak, fbs, cp_1.0, cp_...   0.031242   0.0194899   \n",
       "14  (age, restbps, chol, oldpeak, fbs, cp_1.0, cp_...  0.0322634   0.0201271   \n",
       "15  (age, restbps, chol, oldpeak, fbs, cp_1.0, cp_...  0.0412076   0.0257068   \n",
       "16  (age, restbps, chol, oldpeak, fbs, cp_1.0, cp_...  0.0503472   0.0314085   \n",
       "17  (age, restbps, chol, oldpeak, fbs, exang, cp_1...  0.0236274   0.0147397   \n",
       "18  (age, restbps, chol, oldpeak, fbs, exang, cp_1...  0.0449286   0.0280281   \n",
       "19  (age, restbps, chol, oldpeak, fbs, exang, cp_1...  0.0303884   0.0189574   \n",
       "20  (age, restbps, chol, oldpeak, sex, fbs, exang,...  0.0496903   0.0309986   \n",
       "21  (age, restbps, chol, oldpeak, sex, fbs, exang,...  0.0495582   0.0309163   \n",
       "22  (age, restbps, chol, oldpeak, sex, fbs, exang,...  0.0377002   0.0235188   \n",
       "23  (age, restbps, chol, maximum_heart_rate, oldpe...   0.032837    0.020485   \n",
       "24  (age, restbps, chol, maximum_heart_rate, oldpe...   0.016374   0.0102147   \n",
       "25  (age, restbps, chol, maximum_heart_rate, oldpe...  0.0115928  0.00723202   \n",
       "\n",
       "       std_err  \n",
       "1    0.0156682  \n",
       "2    0.0156682  \n",
       "3    0.0143555  \n",
       "4     0.016657  \n",
       "5    0.0183007  \n",
       "6    0.0179165  \n",
       "7    0.0174178  \n",
       "8    0.0174178  \n",
       "9    0.0174178  \n",
       "10   0.0174178  \n",
       "11    0.010646  \n",
       "12   0.0121271  \n",
       "13   0.0112525  \n",
       "14   0.0116204  \n",
       "15   0.0148418  \n",
       "16   0.0181337  \n",
       "17  0.00850995  \n",
       "18    0.016182  \n",
       "19   0.0109451  \n",
       "20   0.0178971  \n",
       "21   0.0178495  \n",
       "22   0.0135786  \n",
       "23    0.011827  \n",
       "24  0.00589748  \n",
       "25  0.00417541  "
      ]
     },
     "execution_count": 100,
     "metadata": {},
     "output_type": "execute_result"
    }
   ],
   "source": [
    "pd.DataFrame.from_dict(sfs.get_metric_dict()).T"
   ]
  },
  {
   "cell_type": "code",
   "execution_count": 101,
   "metadata": {},
   "outputs": [],
   "source": [
    "x_train1=x_train.to_numpy()\n",
    "x_test1=x_test.to_numpy()"
   ]
  },
  {
   "cell_type": "code",
   "execution_count": 102,
   "metadata": {},
   "outputs": [
    {
     "data": {
      "text/plain": [
       "(425, 20)"
      ]
     },
     "execution_count": 102,
     "metadata": {},
     "output_type": "execute_result"
    }
   ],
   "source": [
    "x_train2=x_train1[:, feat_cols]\n",
    "x_train2.shape"
   ]
  },
  {
   "cell_type": "code",
   "execution_count": 103,
   "metadata": {},
   "outputs": [],
   "source": [
    "x_train2 = pd.DataFrame(x_train2)"
   ]
  },
  {
   "cell_type": "code",
   "execution_count": 104,
   "metadata": {},
   "outputs": [
    {
     "data": {
      "text/plain": [
       "(142, 20)"
      ]
     },
     "execution_count": 104,
     "metadata": {},
     "output_type": "execute_result"
    }
   ],
   "source": [
    "x_test2=x_test1[:, feat_cols]\n",
    "x_test2.shape"
   ]
  },
  {
   "cell_type": "code",
   "execution_count": 105,
   "metadata": {},
   "outputs": [
    {
     "name": "stdout",
     "output_type": "stream",
     "text": [
      "Training accuracy on selected features: 0.859\n",
      "Testing accuracy on selected features: 0.859\n"
     ]
    }
   ],
   "source": [
    "clf = LogisticRegression(C=0.0001, class_weight=None, dual=False, fit_intercept=True,\n",
    "                   intercept_scaling=1,  max_iter=100,\n",
    "                    n_jobs=None, penalty='l2',\n",
    "                   random_state=42, tol=0.0001, verbose=0,\n",
    "                   warm_start=False)\n",
    "#clf.fit(x_train.iloc[:, feat_cols].values, y_train)\n",
    "clf.fit(x_train2, y_train)\n",
    "y_train_pred = clf.predict(x_train2)\n",
    "print('Training accuracy on selected features: %.3f' % accuracy_score(y_train, y_train_pred))\n",
    "y_test_pred = clf.predict(x_test2)\n",
    "print('Testing accuracy on selected features: %.3f' % accuracy_score(y_test, y_test_pred))"
   ]
  },
  {
   "cell_type": "code",
   "execution_count": 106,
   "metadata": {},
   "outputs": [
    {
     "name": "stdout",
     "output_type": "stream",
     "text": [
      "Confusion matrix:\n",
      " [[74 11]\n",
      " [ 9 48]]\n",
      "Train Accuracy : 85.882 %\n",
      "Test Accuracy  : 85.91499999999999 %\n",
      "classification report of Logistic regression\n",
      "               precision    recall  f1-score   support\n",
      "\n",
      "           0       0.89      0.87      0.88        85\n",
      "           1       0.81      0.84      0.83        57\n",
      "\n",
      "    accuracy                           0.86       142\n",
      "   macro avg       0.85      0.86      0.85       142\n",
      "weighted avg       0.86      0.86      0.86       142\n",
      "\n",
      "0.14084507042253522\n"
     ]
    }
   ],
   "source": [
    "cm=confusion_matrix(y_test,y_test_pred)\n",
    "TN = cm[0, 0]\n",
    "TP = cm[1, 1]\n",
    "FN = cm[1, 0]\n",
    "FP = cm[0, 1]\n",
    "print(\"Confusion matrix:\\n\",cm)\n",
    "print(\"Train Accuracy :\",round(accuracy_score(y_train,clf.predict(x_train2)),5)*100,'%')\n",
    "print(\"Test Accuracy  :\",round(accuracy_score(y_test,y_test_pred),5)*100,'%')\n",
    "print(\"classification report of Logistic regression\\n\",classification_report(y_test,y_test_pred))\n",
    "model.append(\"model_lr\")\n",
    "#score.append(accuracy_score(y_test,y_test_pred))\n",
    "classification_error = (FP + FN) / float(TP + TN + FP + FN)\n",
    "print(classification_error)"
   ]
  },
  {
   "cell_type": "code",
   "execution_count": 107,
   "metadata": {},
   "outputs": [
    {
     "name": "stdout",
     "output_type": "stream",
     "text": [
      "sensitivity of logistic regression:-  0.8421052631578947\n",
      "Specificity of Logistic Regression:-  0.8705882352941177\n"
     ]
    }
   ],
   "source": [
    "sensitivity=TP/float(TP+FN)\n",
    "#print(\"precision of logistic regression:- \",precision) \n",
    "print(\"sensitivity of logistic regression:- \",sensitivity) #recall\n",
    "recall.append(sensitivity)\n",
    "Specificity=TN/float(TN+FP)\n",
    "print(\"Specificity of Logistic Regression:- \",Specificity) #recall\n",
    "spec1.append(Specificity)"
   ]
  },
  {
   "cell_type": "code",
   "execution_count": 108,
   "metadata": {},
   "outputs": [],
   "source": [
    "#KNN (Step Forward)"
   ]
  },
  {
   "cell_type": "code",
   "execution_count": 109,
   "metadata": {},
   "outputs": [
    {
     "name": "stderr",
     "output_type": "stream",
     "text": [
      "[Parallel(n_jobs=-1)]: Using backend LokyBackend with 4 concurrent workers.\n",
      "[Parallel(n_jobs=-1)]: Done  18 out of  25 | elapsed:    0.6s remaining:    0.2s\n",
      "[Parallel(n_jobs=-1)]: Done  25 out of  25 | elapsed:    0.7s finished\n",
      "\n",
      "[2020-06-23 14:16:17] Features: 1/25 -- score: 0.7083627226238759[Parallel(n_jobs=-1)]: Using backend LokyBackend with 4 concurrent workers.\n",
      "[Parallel(n_jobs=-1)]: Done  24 out of  24 | elapsed:    0.4s finished\n",
      "\n",
      "[2020-06-23 14:16:17] Features: 2/25 -- score: 0.8541262563921707[Parallel(n_jobs=-1)]: Using backend LokyBackend with 4 concurrent workers.\n",
      "[Parallel(n_jobs=-1)]: Done  23 out of  23 | elapsed:    0.3s finished\n",
      "\n",
      "[2020-06-23 14:16:17] Features: 3/25 -- score: 0.9036104743431495[Parallel(n_jobs=-1)]: Using backend LokyBackend with 4 concurrent workers.\n",
      "[Parallel(n_jobs=-1)]: Done  22 out of  22 | elapsed:    0.3s finished\n",
      "\n",
      "[2020-06-23 14:16:18] Features: 4/25 -- score: 0.917717333803562[Parallel(n_jobs=-1)]: Using backend LokyBackend with 4 concurrent workers.\n",
      "[Parallel(n_jobs=-1)]: Done  21 out of  21 | elapsed:    0.3s finished\n",
      "\n",
      "[2020-06-23 14:16:18] Features: 5/25 -- score: 0.9223902309998236[Parallel(n_jobs=-1)]: Using backend LokyBackend with 4 concurrent workers.\n",
      "[Parallel(n_jobs=-1)]: Done  20 out of  20 | elapsed:    0.3s finished\n",
      "\n",
      "[2020-06-23 14:16:18] Features: 6/25 -- score: 0.9224122729677305[Parallel(n_jobs=-1)]: Using backend LokyBackend with 4 concurrent workers.\n",
      "[Parallel(n_jobs=-1)]: Done  19 out of  19 | elapsed:    0.4s finished\n",
      "\n",
      "[2020-06-23 14:16:19] Features: 7/25 -- score: 0.9247928055016752[Parallel(n_jobs=-1)]: Using backend LokyBackend with 4 concurrent workers.\n",
      "[Parallel(n_jobs=-1)]: Done  18 out of  18 | elapsed:    0.3s finished\n",
      "\n",
      "[2020-06-23 14:16:19] Features: 8/25 -- score: 0.927151296067713[Parallel(n_jobs=-1)]: Using backend LokyBackend with 4 concurrent workers.\n",
      "[Parallel(n_jobs=-1)]: Done  17 out of  17 | elapsed:    0.4s finished\n",
      "\n",
      "[2020-06-23 14:16:20] Features: 9/25 -- score: 0.9247928055016752[Parallel(n_jobs=-1)]: Using backend LokyBackend with 4 concurrent workers.\n",
      "[Parallel(n_jobs=-1)]: Done  16 out of  16 | elapsed:    0.3s finished\n",
      "\n",
      "[2020-06-23 14:16:20] Features: 10/25 -- score: 0.9200537824016929[Parallel(n_jobs=-1)]: Using backend LokyBackend with 4 concurrent workers.\n",
      "[Parallel(n_jobs=-1)]: Done   8 out of  15 | elapsed:    0.2s remaining:    0.2s\n",
      "[Parallel(n_jobs=-1)]: Done  15 out of  15 | elapsed:    0.3s finished\n",
      "\n",
      "[2020-06-23 14:16:20] Features: 11/25 -- score: 0.9200537824016929[Parallel(n_jobs=-1)]: Using backend LokyBackend with 4 concurrent workers.\n",
      "[Parallel(n_jobs=-1)]: Done   7 out of  14 | elapsed:    0.1s remaining:    0.1s\n",
      "[Parallel(n_jobs=-1)]: Done  14 out of  14 | elapsed:    0.3s finished\n",
      "\n",
      "[2020-06-23 14:16:21] Features: 12/25 -- score: 0.9153147593017106[Parallel(n_jobs=-1)]: Using backend LokyBackend with 4 concurrent workers.\n",
      "[Parallel(n_jobs=-1)]: Done   6 out of  13 | elapsed:    0.1s remaining:    0.2s\n",
      "[Parallel(n_jobs=-1)]: Done  13 out of  13 | elapsed:    0.3s remaining:    0.0s\n",
      "[Parallel(n_jobs=-1)]: Done  13 out of  13 | elapsed:    0.3s finished\n",
      "\n",
      "[2020-06-23 14:16:21] Features: 13/25 -- score: 0.9223461470640099[Parallel(n_jobs=-1)]: Using backend LokyBackend with 4 concurrent workers.\n",
      "[Parallel(n_jobs=-1)]: Done   5 out of  12 | elapsed:    0.1s remaining:    0.2s\n",
      "[Parallel(n_jobs=-1)]: Done  12 out of  12 | elapsed:    0.3s remaining:    0.0s\n",
      "[Parallel(n_jobs=-1)]: Done  12 out of  12 | elapsed:    0.3s finished\n",
      "\n",
      "[2020-06-23 14:16:21] Features: 14/25 -- score: 0.9199656145300653[Parallel(n_jobs=-1)]: Using backend LokyBackend with 4 concurrent workers.\n",
      "[Parallel(n_jobs=-1)]: Done   4 out of  11 | elapsed:    0.1s remaining:    0.2s\n",
      "[Parallel(n_jobs=-1)]: Done  11 out of  11 | elapsed:    0.3s finished\n",
      "\n",
      "[2020-06-23 14:16:21] Features: 15/25 -- score: 0.9223020631281961[Parallel(n_jobs=-1)]: Using backend LokyBackend with 4 concurrent workers.\n",
      "[Parallel(n_jobs=-1)]: Done   3 out of  10 | elapsed:    0.1s remaining:    0.2s\n",
      "[Parallel(n_jobs=-1)]: Done  10 out of  10 | elapsed:    0.2s finished\n",
      "\n",
      "[2020-06-23 14:16:22] Features: 16/25 -- score: 0.922324105096103[Parallel(n_jobs=-1)]: Using backend LokyBackend with 4 concurrent workers.\n",
      "[Parallel(n_jobs=-1)]: Done   7 out of   9 | elapsed:    0.1s remaining:    0.0s\n",
      "[Parallel(n_jobs=-1)]: Done   9 out of   9 | elapsed:    0.2s finished\n",
      "\n",
      "[2020-06-23 14:16:22] Features: 17/25 -- score: 0.9270410862281784[Parallel(n_jobs=-1)]: Using backend LokyBackend with 4 concurrent workers.\n",
      "[Parallel(n_jobs=-1)]: Done   6 out of   8 | elapsed:    0.1s remaining:    0.0s\n",
      "[Parallel(n_jobs=-1)]: Done   8 out of   8 | elapsed:    0.1s finished\n",
      "\n",
      "[2020-06-23 14:16:22] Features: 18/25 -- score: 0.9270410862281785[Parallel(n_jobs=-1)]: Using backend LokyBackend with 4 concurrent workers.\n",
      "[Parallel(n_jobs=-1)]: Done   4 out of   7 | elapsed:    0.1s remaining:    0.1s\n",
      "[Parallel(n_jobs=-1)]: Done   7 out of   7 | elapsed:    0.1s finished\n",
      "\n",
      "[2020-06-23 14:16:22] Features: 19/25 -- score: 0.941169987656498[Parallel(n_jobs=-1)]: Using backend LokyBackend with 4 concurrent workers.\n",
      "[Parallel(n_jobs=-1)]: Done   3 out of   6 | elapsed:    0.1s remaining:    0.1s\n",
      "[Parallel(n_jobs=-1)]: Done   6 out of   6 | elapsed:    0.1s finished\n",
      "\n",
      "[2020-06-23 14:16:22] Features: 20/25 -- score: 0.9435064362546288[Parallel(n_jobs=-1)]: Using backend LokyBackend with 4 concurrent workers.\n",
      "[Parallel(n_jobs=-1)]: Done   5 out of   5 | elapsed:    0.1s finished\n",
      "\n",
      "[2020-06-23 14:16:22] Features: 21/25 -- score: 0.9434843942867219[Parallel(n_jobs=-1)]: Using backend LokyBackend with 4 concurrent workers.\n",
      "[Parallel(n_jobs=-1)]: Done   4 out of   4 | elapsed:    0.1s finished\n",
      "\n",
      "[2020-06-23 14:16:22] Features: 22/25 -- score: 0.9411259037206843[Parallel(n_jobs=-1)]: Using backend LokyBackend with 4 concurrent workers.\n",
      "[Parallel(n_jobs=-1)]: Done   3 out of   3 | elapsed:    0.1s finished\n",
      "\n",
      "[2020-06-23 14:16:22] Features: 23/25 -- score: 0.9364530065244225[Parallel(n_jobs=-1)]: Using backend LokyBackend with 4 concurrent workers.\n",
      "[Parallel(n_jobs=-1)]: Done   2 out of   2 | elapsed:    0.0s finished\n",
      "\n",
      "[2020-06-23 14:16:22] Features: 24/25 -- score: 0.9340945159583848[Parallel(n_jobs=-1)]: Using backend LokyBackend with 4 concurrent workers.\n",
      "[Parallel(n_jobs=-1)]: Done   1 out of   1 | elapsed:    0.0s finished\n",
      "\n",
      "[2020-06-23 14:16:22] Features: 25/25 -- score: 0.9340945159583848"
     ]
    }
   ],
   "source": [
    "sfs=SFS(KNeighborsClassifier(algorithm='auto', leaf_size=30, metric='minkowski',\n",
    "                     metric_params=None, n_jobs=None, n_neighbors=1, p=2,\n",
    "                     weights='uniform'),\n",
    "        k_features=(1,25), forward=True, floating=False, verbose=2,\n",
    "        scoring='accuracy',cv=4, n_jobs=-1).fit(x_train,y_train)"
   ]
  },
  {
   "cell_type": "code",
   "execution_count": 110,
   "metadata": {},
   "outputs": [
    {
     "name": "stdout",
     "output_type": "stream",
     "text": [
      "('age', 'restbps', 'chol', 'oldpeak', 'sex', 'fbs', 'cp_1.0', 'cp_3.0', 'cp_4.0', 'restecg_1.0', 'restecg_2.0', 'slope_1.0', 'slope_2.0', 'slope_3.0', 'major_vessels_0.0', 'major_vessels_1.0', 'major_vessels_2.0', 'major_vessels_3.0', 'thal_3.0', 'thal_6.0')\n",
      "[0, 1, 2, 4, 5, 6, 8, 10, 11, 13, 14, 15, 16, 17, 18, 19, 20, 21, 22, 23]\n",
      "0.9435064362546288\n"
     ]
    }
   ],
   "source": [
    "print(sfs.k_feature_names_)\n",
    "sfs.k_feature_names_\n",
    "feat_cols = list(sfs.k_feature_idx_)\n",
    "print(feat_cols)\n",
    "print(sfs.k_score_)\n",
    "#sfs.k_feature_names_.value_counts()"
   ]
  },
  {
   "cell_type": "code",
   "execution_count": 111,
   "metadata": {},
   "outputs": [],
   "source": [
    "x_train1=x_train.to_numpy()\n",
    "x_test1=x_test.to_numpy()"
   ]
  },
  {
   "cell_type": "code",
   "execution_count": 112,
   "metadata": {},
   "outputs": [
    {
     "data": {
      "text/plain": [
       "(142, 20)"
      ]
     },
     "execution_count": 112,
     "metadata": {},
     "output_type": "execute_result"
    }
   ],
   "source": [
    "x_train2=x_train1[:, feat_cols]\n",
    "x_train2 = pd.DataFrame(x_train2)\n",
    "x_test2=x_test1[:, feat_cols]\n",
    "x_test2.shape"
   ]
  },
  {
   "cell_type": "code",
   "execution_count": 113,
   "metadata": {},
   "outputs": [
    {
     "data": {
      "text/plain": [
       "KNeighborsClassifier(algorithm='auto', leaf_size=30, metric='minkowski',\n",
       "                     metric_params=None, n_jobs=None, n_neighbors=1, p=2,\n",
       "                     weights='uniform')"
      ]
     },
     "execution_count": 113,
     "metadata": {},
     "output_type": "execute_result"
    }
   ],
   "source": [
    "model_knn=KNeighborsClassifier(algorithm='auto', leaf_size=30, metric='minkowski',\n",
    "                     metric_params=None, n_jobs=None, n_neighbors=1, p=2,\n",
    "                     weights='uniform')\n",
    "model_knn.fit(x_train2,y_train)"
   ]
  },
  {
   "cell_type": "code",
   "execution_count": 114,
   "metadata": {},
   "outputs": [
    {
     "name": "stdout",
     "output_type": "stream",
     "text": [
      "Confusion matrix:\n",
      " [[79  6]\n",
      " [ 5 52]]\n",
      "Train Accuracy : 100.0 %\n",
      "Test Accuracy  : 92.254 %\n",
      "classification report of Random Forest\n",
      "               precision    recall  f1-score   support\n",
      "\n",
      "           0       0.94      0.93      0.93        85\n",
      "           1       0.90      0.91      0.90        57\n",
      "\n",
      "    accuracy                           0.92       142\n",
      "   macro avg       0.92      0.92      0.92       142\n",
      "weighted avg       0.92      0.92      0.92       142\n",
      "\n",
      "0.07746478873239436\n"
     ]
    }
   ],
   "source": [
    "y_pred=model_knn.predict(x_test2)\n",
    "cm=confusion_matrix(y_test,y_pred)\n",
    "TN = cm[0, 0]\n",
    "TP = cm[1, 1]\n",
    "FN = cm[1, 0]\n",
    "FP = cm[0, 1]\n",
    "print(\"Confusion matrix:\\n\",cm)\n",
    "print(\"Train Accuracy :\",round(accuracy_score(y_train,model_knn.predict(x_train2)),5)*100,'%')\n",
    "print(\"Test Accuracy  :\",round(accuracy_score(y_test,y_pred),5)*100,'%')\n",
    "print(\"classification report of Random Forest\\n\",classification_report(y_test,y_pred))\n",
    "model.append(\"model_k-NN\")\n",
    "#score.append(accuracy_score(y_test,y_pred))\n",
    "classification_error = (FP + FN) / float(TP + TN + FP + FN)\n",
    "print(classification_error)"
   ]
  },
  {
   "cell_type": "code",
   "execution_count": 115,
   "metadata": {},
   "outputs": [
    {
     "name": "stdout",
     "output_type": "stream",
     "text": [
      "sensitivity of KNN:-  0.9122807017543859\n",
      "Specificity of K-NN:-  0.9294117647058824\n"
     ]
    }
   ],
   "source": [
    "sensitivity=TP/float(TP+FN)\n",
    "#print(\"precision of logistic regression:- \",precision) \n",
    "print(\"sensitivity of KNN:- \",sensitivity) #recall\n",
    "recall.append(sensitivity)\n",
    "Specificity=TN/float(TN+FP)\n",
    "print(\"Specificity of K-NN:- \",Specificity) #recall\n",
    "spec1.append(Specificity)"
   ]
  },
  {
   "cell_type": "code",
   "execution_count": 116,
   "metadata": {},
   "outputs": [],
   "source": [
    "# SVM (Step Forward)"
   ]
  },
  {
   "cell_type": "code",
   "execution_count": 117,
   "metadata": {},
   "outputs": [
    {
     "name": "stderr",
     "output_type": "stream",
     "text": [
      "[Parallel(n_jobs=-1)]: Using backend LokyBackend with 4 concurrent workers.\n",
      "[Parallel(n_jobs=-1)]: Done  18 out of  25 | elapsed:    0.4s remaining:    0.1s\n",
      "[Parallel(n_jobs=-1)]: Done  25 out of  25 | elapsed:    0.4s finished\n",
      "\n",
      "[2020-06-23 14:16:24] Features: 1/25 -- score: 0.7671266090636573[Parallel(n_jobs=-1)]: Using backend LokyBackend with 4 concurrent workers.\n",
      "[Parallel(n_jobs=-1)]: Done  24 out of  24 | elapsed:    0.7s finished\n",
      "\n",
      "[2020-06-23 14:16:25] Features: 2/25 -- score: 0.7741800387938635[Parallel(n_jobs=-1)]: Using backend LokyBackend with 4 concurrent workers.\n",
      "[Parallel(n_jobs=-1)]: Done  16 out of  23 | elapsed:    0.4s remaining:    0.2s\n",
      "[Parallel(n_jobs=-1)]: Done  23 out of  23 | elapsed:    0.5s finished\n",
      "\n",
      "[2020-06-23 14:16:26] Features: 3/25 -- score: 0.7812334685240698[Parallel(n_jobs=-1)]: Using backend LokyBackend with 4 concurrent workers.\n",
      "[Parallel(n_jobs=-1)]: Done  15 out of  22 | elapsed:    0.5s remaining:    0.2s\n",
      "[Parallel(n_jobs=-1)]: Done  22 out of  22 | elapsed:    0.6s finished\n",
      "\n",
      "[2020-06-23 14:16:26] Features: 4/25 -- score: 0.788308940222183[Parallel(n_jobs=-1)]: Using backend LokyBackend with 4 concurrent workers.\n",
      "[Parallel(n_jobs=-1)]: Done  14 out of  21 | elapsed:    0.4s remaining:    0.2s\n",
      "[Parallel(n_jobs=-1)]: Done  21 out of  21 | elapsed:    0.4s finished\n",
      "\n",
      "[2020-06-23 14:16:27] Features: 5/25 -- score: 0.8119158878504673[Parallel(n_jobs=-1)]: Using backend LokyBackend with 4 concurrent workers.\n",
      "[Parallel(n_jobs=-1)]: Done  20 out of  20 | elapsed:    0.4s finished\n",
      "\n",
      "[2020-06-23 14:16:27] Features: 6/25 -- score: 0.8495635690354435[Parallel(n_jobs=-1)]: Using backend LokyBackend with 4 concurrent workers.\n",
      "[Parallel(n_jobs=-1)]: Done  19 out of  19 | elapsed:    0.4s finished\n",
      "\n",
      "[2020-06-23 14:16:28] Features: 7/25 -- score: 0.8542585081996121[Parallel(n_jobs=-1)]: Using backend LokyBackend with 4 concurrent workers.\n",
      "[Parallel(n_jobs=-1)]: Done  18 out of  18 | elapsed:    0.4s finished\n",
      "\n",
      "[2020-06-23 14:16:28] Features: 8/25 -- score: 0.8730823487921002[Parallel(n_jobs=-1)]: Using backend LokyBackend with 4 concurrent workers.\n",
      "[Parallel(n_jobs=-1)]: Done  17 out of  17 | elapsed:    0.4s finished\n",
      "\n",
      "[2020-06-23 14:16:28] Features: 9/25 -- score: 0.8801357785223064[Parallel(n_jobs=-1)]: Using backend LokyBackend with 4 concurrent workers.\n",
      "[Parallel(n_jobs=-1)]: Done  16 out of  16 | elapsed:    0.9s finished\n",
      "\n",
      "[2020-06-23 14:16:29] Features: 10/25 -- score: 0.8778434138599894[Parallel(n_jobs=-1)]: Using backend LokyBackend with 4 concurrent workers.\n",
      "[Parallel(n_jobs=-1)]: Done   8 out of  15 | elapsed:    0.2s remaining:    0.1s\n",
      "[Parallel(n_jobs=-1)]: Done  15 out of  15 | elapsed:    0.4s finished\n",
      "\n",
      "[2020-06-23 14:16:30] Features: 11/25 -- score: 0.8777993299241756[Parallel(n_jobs=-1)]: Using backend LokyBackend with 4 concurrent workers.\n",
      "[Parallel(n_jobs=-1)]: Done   7 out of  14 | elapsed:    0.2s remaining:    0.2s\n",
      "[Parallel(n_jobs=-1)]: Done  14 out of  14 | elapsed:    0.3s finished\n",
      "\n",
      "[2020-06-23 14:16:30] Features: 12/25 -- score: 0.8731264327279139[Parallel(n_jobs=-1)]: Using backend LokyBackend with 4 concurrent workers.\n",
      "[Parallel(n_jobs=-1)]: Done   6 out of  13 | elapsed:    0.2s remaining:    0.2s\n",
      "[Parallel(n_jobs=-1)]: Done  13 out of  13 | elapsed:    0.3s remaining:    0.0s\n",
      "[Parallel(n_jobs=-1)]: Done  13 out of  13 | elapsed:    0.3s finished\n",
      "\n",
      "[2020-06-23 14:16:30] Features: 13/25 -- score: 0.8823840592488098[Parallel(n_jobs=-1)]: Using backend LokyBackend with 4 concurrent workers.\n",
      "[Parallel(n_jobs=-1)]: Done   5 out of  12 | elapsed:    0.1s remaining:    0.2s\n",
      "[Parallel(n_jobs=-1)]: Done  12 out of  12 | elapsed:    0.3s remaining:    0.0s\n",
      "[Parallel(n_jobs=-1)]: Done  12 out of  12 | elapsed:    0.3s finished\n",
      "\n",
      "[2020-06-23 14:16:31] Features: 14/25 -- score: 0.8917959795450539[Parallel(n_jobs=-1)]: Using backend LokyBackend with 4 concurrent workers.\n",
      "[Parallel(n_jobs=-1)]: Done   4 out of  11 | elapsed:    0.1s remaining:    0.2s\n",
      "[Parallel(n_jobs=-1)]: Done  11 out of  11 | elapsed:    0.2s finished\n",
      "\n",
      "[2020-06-23 14:16:31] Features: 15/25 -- score: 0.889437488979016[Parallel(n_jobs=-1)]: Using backend LokyBackend with 4 concurrent workers.\n",
      "[Parallel(n_jobs=-1)]: Done   3 out of  10 | elapsed:    0.1s remaining:    0.2s\n",
      "[Parallel(n_jobs=-1)]: Done  10 out of  10 | elapsed:    0.2s finished\n",
      "\n",
      "[2020-06-23 14:16:31] Features: 16/25 -- score: 0.8894815729148298[Parallel(n_jobs=-1)]: Using backend LokyBackend with 4 concurrent workers.\n",
      "[Parallel(n_jobs=-1)]: Done   7 out of   9 | elapsed:    0.1s remaining:    0.0s\n",
      "[Parallel(n_jobs=-1)]: Done   9 out of   9 | elapsed:    0.2s finished\n",
      "\n",
      "[2020-06-23 14:16:31] Features: 17/25 -- score: 0.898871451243167[Parallel(n_jobs=-1)]: Using backend LokyBackend with 4 concurrent workers.\n",
      "[Parallel(n_jobs=-1)]: Done   6 out of   8 | elapsed:    0.1s remaining:    0.0s\n",
      "[Parallel(n_jobs=-1)]: Done   8 out of   8 | elapsed:    0.1s finished\n",
      "\n",
      "[2020-06-23 14:16:31] Features: 18/25 -- score: 0.8894815729148299[Parallel(n_jobs=-1)]: Using backend LokyBackend with 4 concurrent workers.\n",
      "[Parallel(n_jobs=-1)]: Done   4 out of   7 | elapsed:    0.1s remaining:    0.1s\n",
      "[Parallel(n_jobs=-1)]: Done   7 out of   7 | elapsed:    0.1s finished\n",
      "\n",
      "[2020-06-23 14:16:31] Features: 19/25 -- score: 0.8870569564450714[Parallel(n_jobs=-1)]: Using backend LokyBackend with 4 concurrent workers.\n",
      "[Parallel(n_jobs=-1)]: Done   3 out of   6 | elapsed:    0.1s remaining:    0.1s\n",
      "[Parallel(n_jobs=-1)]: Done   6 out of   6 | elapsed:    0.2s finished\n",
      "\n",
      "[2020-06-23 14:16:32] Features: 20/25 -- score: 0.8964468347734086[Parallel(n_jobs=-1)]: Using backend LokyBackend with 4 concurrent workers.\n",
      "[Parallel(n_jobs=-1)]: Done   5 out of   5 | elapsed:    0.1s finished\n",
      "\n",
      "[2020-06-23 14:16:32] Features: 21/25 -- score: 0.8987832833715395[Parallel(n_jobs=-1)]: Using backend LokyBackend with 4 concurrent workers.\n",
      "[Parallel(n_jobs=-1)]: Done   4 out of   4 | elapsed:    0.1s finished\n",
      "\n",
      "[2020-06-23 14:16:32] Features: 22/25 -- score: 0.8988053253394463[Parallel(n_jobs=-1)]: Using backend LokyBackend with 4 concurrent workers.\n",
      "[Parallel(n_jobs=-1)]: Done   3 out of   3 | elapsed:    0.1s finished\n",
      "\n",
      "[2020-06-23 14:16:32] Features: 23/25 -- score: 0.8964468347734085[Parallel(n_jobs=-1)]: Using backend LokyBackend with 4 concurrent workers.\n",
      "[Parallel(n_jobs=-1)]: Done   2 out of   2 | elapsed:    0.1s finished\n",
      "\n",
      "[2020-06-23 14:16:32] Features: 24/25 -- score: 0.8917518956092401[Parallel(n_jobs=-1)]: Using backend LokyBackend with 4 concurrent workers.\n",
      "[Parallel(n_jobs=-1)]: Done   1 out of   1 | elapsed:    0.0s finished\n",
      "\n",
      "[2020-06-23 14:16:32] Features: 25/25 -- score: 0.8894154470111092"
     ]
    }
   ],
   "source": [
    "sfs=SFS(SVC(C=100, cache_size=200, class_weight=None, coef0=0.0,\n",
    "    decision_function_shape='ovr', degree=3, gamma='auto_deprecated',\n",
    "    kernel='rbf', max_iter=-1, probability=False, random_state=42,\n",
    "    shrinking=True, tol=0.001, verbose=False),\n",
    "        k_features=(1,25), forward=True, floating=False,verbose=2,\n",
    "        scoring='accuracy', cv=4, n_jobs=-1).fit(x_train,y_train)"
   ]
  },
  {
   "cell_type": "code",
   "execution_count": 118,
   "metadata": {},
   "outputs": [
    {
     "name": "stdout",
     "output_type": "stream",
     "text": [
      "('age', 'restbps', 'chol', 'maximum_heart_rate', 'oldpeak', 'exang', 'cp_1.0', 'cp_4.0', 'restecg_1.0', 'slope_1.0', 'slope_2.0', 'major_vessels_0.0', 'major_vessels_1.0', 'major_vessels_3.0', 'thal_3.0', 'thal_6.0', 'thal_7.0')\n",
      "[0, 1, 2, 3, 4, 7, 8, 11, 13, 15, 16, 18, 19, 21, 22, 23, 24]\n",
      "0.898871451243167\n"
     ]
    }
   ],
   "source": [
    "print(sfs.k_feature_names_)\n",
    "sfs.k_feature_names_\n",
    "feat_cols = list(sfs.k_feature_idx_)\n",
    "print(feat_cols)\n",
    "print(sfs.k_score_)\n",
    "#sfs.k_feature_names_.value_counts()"
   ]
  },
  {
   "cell_type": "code",
   "execution_count": 119,
   "metadata": {},
   "outputs": [],
   "source": [
    "x_train1=x_train.to_numpy()\n",
    "x_test1=x_test.to_numpy()"
   ]
  },
  {
   "cell_type": "code",
   "execution_count": 120,
   "metadata": {},
   "outputs": [
    {
     "data": {
      "text/plain": [
       "(142, 17)"
      ]
     },
     "execution_count": 120,
     "metadata": {},
     "output_type": "execute_result"
    }
   ],
   "source": [
    "x_train2=x_train1[:, feat_cols]\n",
    "x_train2 = pd.DataFrame(x_train2)\n",
    "x_test2=x_test1[:, feat_cols]\n",
    "x_test2.shape"
   ]
  },
  {
   "cell_type": "code",
   "execution_count": 121,
   "metadata": {},
   "outputs": [
    {
     "data": {
      "text/plain": [
       "SVC(C=100, cache_size=200, class_weight=None, coef0=0.0,\n",
       "    decision_function_shape='ovr', degree=3, gamma=0.001, kernel='rbf',\n",
       "    max_iter=-1, probability=False, random_state=42, shrinking=True, tol=0.001,\n",
       "    verbose=False)"
      ]
     },
     "execution_count": 121,
     "metadata": {},
     "output_type": "execute_result"
    }
   ],
   "source": [
    "model_svm=SVC(C=100, cache_size=200, class_weight=None, coef0=0.0,\n",
    "    decision_function_shape='ovr', degree=3, gamma=0.001,\n",
    "    kernel='rbf', max_iter=-1, probability=False, random_state=42,\n",
    "    shrinking=True, tol=0.001, verbose=False)\n",
    "\n",
    "model_svm.fit(x_train2,y_train)"
   ]
  },
  {
   "cell_type": "code",
   "execution_count": 122,
   "metadata": {},
   "outputs": [
    {
     "name": "stdout",
     "output_type": "stream",
     "text": [
      "Confusion matrix:\n",
      " [[71 14]\n",
      " [ 8 49]]\n",
      "Train Accuracy : 86.118 %\n",
      "Test Accuracy  : 84.507 %\n",
      "classification report of SVM\n",
      "               precision    recall  f1-score   support\n",
      "\n",
      "           0       0.90      0.84      0.87        85\n",
      "           1       0.78      0.86      0.82        57\n",
      "\n",
      "    accuracy                           0.85       142\n",
      "   macro avg       0.84      0.85      0.84       142\n",
      "weighted avg       0.85      0.85      0.85       142\n",
      "\n",
      "0.15492957746478872\n"
     ]
    }
   ],
   "source": [
    "y_pred=model_svm.predict(x_test2)\n",
    "cm=confusion_matrix(y_test,y_pred)\n",
    "TN = cm[0, 0]\n",
    "TP = cm[1, 1]\n",
    "FN = cm[1, 0]\n",
    "FP = cm[0, 1]\n",
    "print(\"Confusion matrix:\\n\",cm)\n",
    "print(\"Train Accuracy :\",round(accuracy_score(y_train,model_svm.predict(x_train2)),5)*100,'%')\n",
    "print(\"Test Accuracy  :\",round(accuracy_score(y_test,y_pred),5)*100,'%')\n",
    "print(\"classification report of SVM\\n\",classification_report(y_test,y_pred))\n",
    "model.append(\"model_svm\")\n",
    "#score.append(accuracy_score(y_test,y_pred))\n",
    "classification_error = (FP + FN) / float(TP + TN + FP + FN)\n",
    "print(classification_error)"
   ]
  },
  {
   "cell_type": "code",
   "execution_count": 123,
   "metadata": {},
   "outputs": [
    {
     "name": "stdout",
     "output_type": "stream",
     "text": [
      "sensitivity of SVM:-  0.8596491228070176\n",
      "Specificity of SVM:-  0.8352941176470589\n"
     ]
    }
   ],
   "source": [
    "sensitivity=TP/float(TP+FN)\n",
    "#print(\"precision of logistic regression:- \",precision) \n",
    "print(\"sensitivity of SVM:- \",sensitivity) #recall\n",
    "recall.append(sensitivity)\n",
    "Specificity=TN/float(TN+FP)\n",
    "print(\"Specificity of SVM:- \",Specificity) #recall\n",
    "spec1.append(Specificity)"
   ]
  },
  {
   "cell_type": "code",
   "execution_count": 124,
   "metadata": {},
   "outputs": [],
   "source": [
    "# Naive Bayes (Step Forward)"
   ]
  },
  {
   "cell_type": "code",
   "execution_count": 125,
   "metadata": {},
   "outputs": [
    {
     "name": "stderr",
     "output_type": "stream",
     "text": [
      "[Parallel(n_jobs=-1)]: Using backend LokyBackend with 4 concurrent workers.\n",
      "[Parallel(n_jobs=-1)]: Done  25 out of  25 | elapsed:    3.9s finished\n",
      "\n",
      "[2020-06-23 14:16:38] Features: 1/25 -- score: 0.7671266090636573[Parallel(n_jobs=-1)]: Using backend LokyBackend with 4 concurrent workers.\n",
      "[Parallel(n_jobs=-1)]: Done  24 out of  24 | elapsed:    0.2s finished\n",
      "\n",
      "[2020-06-23 14:16:38] Features: 2/25 -- score: 0.7671266090636573[Parallel(n_jobs=-1)]: Using backend LokyBackend with 4 concurrent workers.\n",
      "[Parallel(n_jobs=-1)]: Done   4 out of  23 | elapsed:    0.0s remaining:    0.2s\n",
      "[Parallel(n_jobs=-1)]: Done  23 out of  23 | elapsed:    0.3s finished\n",
      "\n",
      "[2020-06-23 14:16:39] Features: 3/25 -- score: 0.7671266090636573[Parallel(n_jobs=-1)]: Using backend LokyBackend with 4 concurrent workers.\n",
      "[Parallel(n_jobs=-1)]: Done   3 out of  22 | elapsed:    0.0s remaining:    0.3s\n",
      "[Parallel(n_jobs=-1)]: Done  22 out of  22 | elapsed:    0.2s finished\n",
      "\n",
      "[2020-06-23 14:16:39] Features: 4/25 -- score: 0.7671266090636573[Parallel(n_jobs=-1)]: Using backend LokyBackend with 4 concurrent workers.\n",
      "[Parallel(n_jobs=-1)]: Done   3 out of  21 | elapsed:    0.0s remaining:    0.3s\n",
      "[Parallel(n_jobs=-1)]: Done  21 out of  21 | elapsed:    0.2s finished\n",
      "\n",
      "[2020-06-23 14:16:39] Features: 5/25 -- score: 0.7671266090636573[Parallel(n_jobs=-1)]: Using backend LokyBackend with 4 concurrent workers.\n",
      "[Parallel(n_jobs=-1)]: Done  20 out of  20 | elapsed:    0.2s finished\n",
      "\n",
      "[2020-06-23 14:16:39] Features: 6/25 -- score: 0.7671266090636573[Parallel(n_jobs=-1)]: Using backend LokyBackend with 4 concurrent workers.\n",
      "[Parallel(n_jobs=-1)]: Done  19 out of  19 | elapsed:    0.2s finished\n",
      "\n",
      "[2020-06-23 14:16:39] Features: 7/25 -- score: 0.7884191500617176[Parallel(n_jobs=-1)]: Using backend LokyBackend with 4 concurrent workers.\n",
      "[Parallel(n_jobs=-1)]: Done  18 out of  18 | elapsed:    0.2s finished\n",
      "\n",
      "[2020-06-23 14:16:40] Features: 8/25 -- score: 0.8542144242637982[Parallel(n_jobs=-1)]: Using backend LokyBackend with 4 concurrent workers.\n",
      "[Parallel(n_jobs=-1)]: Done  17 out of  17 | elapsed:    0.2s finished\n",
      "\n",
      "[2020-06-23 14:16:40] Features: 9/25 -- score: 0.8565508728619291[Parallel(n_jobs=-1)]: Using backend LokyBackend with 4 concurrent workers.\n",
      "[Parallel(n_jobs=-1)]: Done  16 out of  16 | elapsed:    0.2s finished\n",
      "\n",
      "[2020-06-23 14:16:40] Features: 10/25 -- score: 0.8565508728619291[Parallel(n_jobs=-1)]: Using backend LokyBackend with 4 concurrent workers.\n",
      "[Parallel(n_jobs=-1)]: Done   8 out of  15 | elapsed:    0.1s remaining:    0.1s\n",
      "[Parallel(n_jobs=-1)]: Done  15 out of  15 | elapsed:    0.1s finished\n",
      "\n",
      "[2020-06-23 14:16:40] Features: 11/25 -- score: 0.8565508728619291[Parallel(n_jobs=-1)]: Using backend LokyBackend with 4 concurrent workers.\n",
      "[Parallel(n_jobs=-1)]: Done   7 out of  14 | elapsed:    0.1s remaining:    0.1s\n",
      "[Parallel(n_jobs=-1)]: Done  14 out of  14 | elapsed:    0.1s finished\n",
      "\n",
      "[2020-06-23 14:16:40] Features: 12/25 -- score: 0.8565508728619291[Parallel(n_jobs=-1)]: Using backend LokyBackend with 4 concurrent workers.\n",
      "[Parallel(n_jobs=-1)]: Done   6 out of  13 | elapsed:    0.1s remaining:    0.1s\n",
      "[Parallel(n_jobs=-1)]: Done  13 out of  13 | elapsed:    0.1s remaining:    0.0s\n",
      "[Parallel(n_jobs=-1)]: Done  13 out of  13 | elapsed:    0.1s finished\n",
      "\n",
      "[2020-06-23 14:16:40] Features: 13/25 -- score: 0.8565508728619291[Parallel(n_jobs=-1)]: Using backend LokyBackend with 4 concurrent workers.\n",
      "[Parallel(n_jobs=-1)]: Done   5 out of  12 | elapsed:    0.1s remaining:    0.1s\n",
      "[Parallel(n_jobs=-1)]: Done  12 out of  12 | elapsed:    0.1s remaining:    0.0s\n",
      "[Parallel(n_jobs=-1)]: Done  12 out of  12 | elapsed:    0.1s finished\n",
      "\n",
      "[2020-06-23 14:16:40] Features: 14/25 -- score: 0.8541923822958915[Parallel(n_jobs=-1)]: Using backend LokyBackend with 4 concurrent workers.\n",
      "[Parallel(n_jobs=-1)]: Done   4 out of  11 | elapsed:    0.0s remaining:    0.1s\n",
      "[Parallel(n_jobs=-1)]: Done  11 out of  11 | elapsed:    0.1s finished\n",
      "\n",
      "[2020-06-23 14:16:41] Features: 15/25 -- score: 0.8471609945335921[Parallel(n_jobs=-1)]: Using backend LokyBackend with 4 concurrent workers.\n",
      "[Parallel(n_jobs=-1)]: Done   3 out of  10 | elapsed:    0.0s remaining:    0.1s\n",
      "[Parallel(n_jobs=-1)]: Done  10 out of  10 | elapsed:    0.1s finished\n",
      "\n",
      "[2020-06-23 14:16:41] Features: 16/25 -- score: 0.8448025039675542[Parallel(n_jobs=-1)]: Using backend LokyBackend with 4 concurrent workers.\n",
      "[Parallel(n_jobs=-1)]: Done   7 out of   9 | elapsed:    0.1s remaining:    0.0s\n",
      "[Parallel(n_jobs=-1)]: Done   9 out of   9 | elapsed:    0.1s finished\n",
      "\n",
      "[2020-06-23 14:16:41] Features: 17/25 -- score: 0.8377711162052548[Parallel(n_jobs=-1)]: Using backend LokyBackend with 4 concurrent workers.\n",
      "[Parallel(n_jobs=-1)]: Done   6 out of   8 | elapsed:    0.1s remaining:    0.0s\n",
      "[Parallel(n_jobs=-1)]: Done   8 out of   8 | elapsed:    0.1s finished\n",
      "\n",
      "[2020-06-23 14:16:41] Features: 18/25 -- score: 0.8518559336977606[Parallel(n_jobs=-1)]: Using backend LokyBackend with 4 concurrent workers.\n",
      "[Parallel(n_jobs=-1)]: Done   4 out of   7 | elapsed:    0.1s remaining:    0.0s\n",
      "[Parallel(n_jobs=-1)]: Done   7 out of   7 | elapsed:    0.1s finished\n",
      "\n",
      "[2020-06-23 14:16:41] Features: 19/25 -- score: 0.8495856110033504[Parallel(n_jobs=-1)]: Using backend LokyBackend with 4 concurrent workers.\n",
      "[Parallel(n_jobs=-1)]: Done   3 out of   6 | elapsed:    0.0s remaining:    0.0s\n",
      "[Parallel(n_jobs=-1)]: Done   6 out of   6 | elapsed:    0.1s finished\n",
      "\n",
      "[2020-06-23 14:16:41] Features: 20/25 -- score: 0.8542144242637983[Parallel(n_jobs=-1)]: Using backend LokyBackend with 4 concurrent workers.\n",
      "[Parallel(n_jobs=-1)]: Done   5 out of   5 | elapsed:    0.1s finished\n",
      "\n",
      "[2020-06-23 14:16:41] Features: 21/25 -- score: 0.8518118497619468[Parallel(n_jobs=-1)]: Using backend LokyBackend with 4 concurrent workers.\n",
      "[Parallel(n_jobs=-1)]: Done   4 out of   4 | elapsed:    0.0s finished\n",
      "\n",
      "[2020-06-23 14:16:41] Features: 22/25 -- score: 0.8494313172280021[Parallel(n_jobs=-1)]: Using backend LokyBackend with 4 concurrent workers.\n",
      "[Parallel(n_jobs=-1)]: Done   3 out of   3 | elapsed:    0.0s finished\n",
      "\n",
      "[2020-06-23 14:16:41] Features: 23/25 -- score: 0.8423778874977959[Parallel(n_jobs=-1)]: Using backend LokyBackend with 4 concurrent workers.\n",
      "[Parallel(n_jobs=-1)]: Done   2 out of   2 | elapsed:    0.0s finished\n",
      "\n",
      "[2020-06-23 14:16:41] Features: 24/25 -- score: 0.8330100511373655[Parallel(n_jobs=-1)]: Using backend LokyBackend with 4 concurrent workers.\n",
      "[Parallel(n_jobs=-1)]: Done   1 out of   1 | elapsed:    0.0s finished\n",
      "\n",
      "[2020-06-23 14:16:41] Features: 25/25 -- score: 0.8306515605713278"
     ]
    }
   ],
   "source": [
    "sfs=SFS(BernoulliNB(alpha=1.0, binarize=0.0, class_prior=None, fit_prior=True),\n",
    "        k_features=(1,25), forward=True, floating=False,verbose=2,\n",
    "        scoring='accuracy', cv=4, n_jobs=-1).fit(x_train,y_train)"
   ]
  },
  {
   "cell_type": "code",
   "execution_count": 126,
   "metadata": {},
   "outputs": [
    {
     "name": "stdout",
     "output_type": "stream",
     "text": [
      "('age', 'restbps', 'chol', 'maximum_heart_rate', 'oldpeak', 'cp_4.0', 'major_vessels_0.0', 'major_vessels_3.0', 'thal_3.0')\n",
      "[0, 1, 2, 3, 4, 11, 18, 21, 22]\n",
      "0.8565508728619291\n"
     ]
    }
   ],
   "source": [
    "print(sfs.k_feature_names_)\n",
    "sfs.k_feature_names_\n",
    "feat_cols = list(sfs.k_feature_idx_)\n",
    "print(feat_cols)\n",
    "print(sfs.k_score_)\n",
    "#sfs.k_feature_names_.value_counts()"
   ]
  },
  {
   "cell_type": "code",
   "execution_count": 127,
   "metadata": {},
   "outputs": [],
   "source": [
    "x_train1=x_train.to_numpy()\n",
    "x_test1=x_test.to_numpy()"
   ]
  },
  {
   "cell_type": "code",
   "execution_count": 128,
   "metadata": {},
   "outputs": [
    {
     "data": {
      "text/plain": [
       "(142, 9)"
      ]
     },
     "execution_count": 128,
     "metadata": {},
     "output_type": "execute_result"
    }
   ],
   "source": [
    "x_train2=x_train1[:, feat_cols]\n",
    "x_train2 = pd.DataFrame(x_train2)\n",
    "x_test2=x_test1[:, feat_cols]\n",
    "x_test2.shape"
   ]
  },
  {
   "cell_type": "code",
   "execution_count": 129,
   "metadata": {},
   "outputs": [
    {
     "data": {
      "text/plain": [
       "BernoulliNB(alpha=1.0, binarize=0.0, class_prior=None, fit_prior=True)"
      ]
     },
     "execution_count": 129,
     "metadata": {},
     "output_type": "execute_result"
    }
   ],
   "source": [
    "model_nb=BernoulliNB(alpha=1.0, binarize=0.0, class_prior=None, fit_prior=True)\n",
    "model_nb.fit(x_train2,y_train)"
   ]
  },
  {
   "cell_type": "code",
   "execution_count": 130,
   "metadata": {},
   "outputs": [
    {
     "name": "stdout",
     "output_type": "stream",
     "text": [
      "Confusion matrix:\n",
      " [[76  9]\n",
      " [ 9 48]]\n",
      "Train Accuracy : 85.882 %\n",
      "Test Accuracy  : 87.324 %\n",
      "classification report of Naive Bayes\n",
      "               precision    recall  f1-score   support\n",
      "\n",
      "           0       0.89      0.89      0.89        85\n",
      "           1       0.84      0.84      0.84        57\n",
      "\n",
      "    accuracy                           0.87       142\n",
      "   macro avg       0.87      0.87      0.87       142\n",
      "weighted avg       0.87      0.87      0.87       142\n",
      "\n",
      "0.1267605633802817\n"
     ]
    }
   ],
   "source": [
    "y_pred=model_nb.predict(x_test2)\n",
    "cm=confusion_matrix(y_test,y_pred)\n",
    "TN = cm[0, 0]\n",
    "TP = cm[1, 1]\n",
    "FN = cm[1, 0]\n",
    "FP = cm[0, 1]\n",
    "print(\"Confusion matrix:\\n\",cm)\n",
    "print(\"Train Accuracy :\",round(accuracy_score(y_train,model_nb.predict(x_train2)),5)*100,'%')\n",
    "print(\"Test Accuracy  :\",round(accuracy_score(y_test,y_pred),5)*100,'%')\n",
    "print(\"classification report of Naive Bayes\\n\",classification_report(y_test,y_pred))\n",
    "model.append(\"model_nb\")\n",
    "#score.append(accuracy_score(y_test,y_pred))\n",
    "classification_error = (FP + FN) / float(TP + TN + FP + FN)\n",
    "print(classification_error)"
   ]
  },
  {
   "cell_type": "code",
   "execution_count": 131,
   "metadata": {},
   "outputs": [
    {
     "name": "stdout",
     "output_type": "stream",
     "text": [
      "sensitivity of Naive Bayes:-  0.8421052631578947\n",
      "Specificity of Naive Bayes:-  0.8941176470588236\n"
     ]
    }
   ],
   "source": [
    "sensitivity=TP/float(TP+FN)\n",
    "#print(\"precision of logistic regression:- \",precision) \n",
    "print(\"sensitivity of Naive Bayes:- \",sensitivity) #recall\n",
    "recall.append(sensitivity)\n",
    "Specificity=TN/float(TN+FP)\n",
    "print(\"Specificity of Naive Bayes:- \",Specificity) #recall\n",
    "spec1.append(Specificity)"
   ]
  },
  {
   "cell_type": "code",
   "execution_count": 132,
   "metadata": {},
   "outputs": [],
   "source": [
    "# Random Forest (Step Forward)"
   ]
  },
  {
   "cell_type": "code",
   "execution_count": 133,
   "metadata": {},
   "outputs": [
    {
     "name": "stderr",
     "output_type": "stream",
     "text": [
      "[Parallel(n_jobs=-1)]: Using backend LokyBackend with 4 concurrent workers.\n",
      "[Parallel(n_jobs=-1)]: Done  25 out of  25 | elapsed:    2.0s finished\n",
      "\n",
      "[2020-06-23 14:16:45] Features: 1/25 -- score: 0.7671266090636573[Parallel(n_jobs=-1)]: Using backend LokyBackend with 4 concurrent workers.\n",
      "[Parallel(n_jobs=-1)]: Done  24 out of  24 | elapsed:    0.9s finished\n",
      "\n",
      "[2020-06-23 14:16:46] Features: 2/25 -- score: 0.8070225709751367[Parallel(n_jobs=-1)]: Using backend LokyBackend with 4 concurrent workers.\n",
      "[Parallel(n_jobs=-1)]: Done  16 out of  23 | elapsed:    0.7s remaining:    0.3s\n",
      "[Parallel(n_jobs=-1)]: Done  23 out of  23 | elapsed:    1.0s finished\n",
      "\n",
      "[2020-06-23 14:16:47] Features: 3/25 -- score: 0.8683433256921178[Parallel(n_jobs=-1)]: Using backend LokyBackend with 4 concurrent workers.\n",
      "[Parallel(n_jobs=-1)]: Done  22 out of  22 | elapsed:    0.9s finished\n",
      "\n",
      "[2020-06-23 14:16:48] Features: 4/25 -- score: 0.8942426379827191[Parallel(n_jobs=-1)]: Using backend LokyBackend with 4 concurrent workers.\n",
      "[Parallel(n_jobs=-1)]: Done  14 out of  21 | elapsed:    0.7s remaining:    0.4s\n",
      "[Parallel(n_jobs=-1)]: Done  21 out of  21 | elapsed:    0.9s finished\n",
      "\n",
      "[2020-06-23 14:16:48] Features: 5/25 -- score: 0.9058807970375595[Parallel(n_jobs=-1)]: Using backend LokyBackend with 4 concurrent workers.\n",
      "[Parallel(n_jobs=-1)]: Done  20 out of  20 | elapsed:    0.9s finished\n",
      "\n",
      "[2020-06-23 14:16:49] Features: 6/25 -- score: 0.9153368012696174[Parallel(n_jobs=-1)]: Using backend LokyBackend with 4 concurrent workers.\n",
      "[Parallel(n_jobs=-1)]: Done  12 out of  19 | elapsed:    0.7s remaining:    0.4s\n",
      "[Parallel(n_jobs=-1)]: Done  19 out of  19 | elapsed:    0.9s finished\n",
      "\n",
      "[2020-06-23 14:16:50] Features: 7/25 -- score: 0.9247487215658614[Parallel(n_jobs=-1)]: Using backend LokyBackend with 4 concurrent workers.\n",
      "[Parallel(n_jobs=-1)]: Done  18 out of  18 | elapsed:    0.8s finished\n",
      "\n",
      "[2020-06-23 14:16:51] Features: 8/25 -- score: 0.9247487215658614[Parallel(n_jobs=-1)]: Using backend LokyBackend with 4 concurrent workers.\n",
      "[Parallel(n_jobs=-1)]: Done  10 out of  17 | elapsed:    0.6s remaining:    0.4s\n",
      "[Parallel(n_jobs=-1)]: Done  17 out of  17 | elapsed:    0.7s finished\n",
      "\n",
      "[2020-06-23 14:16:52] Features: 9/25 -- score: 0.9318021512960677[Parallel(n_jobs=-1)]: Using backend LokyBackend with 4 concurrent workers.\n",
      "[Parallel(n_jobs=-1)]: Done  16 out of  16 | elapsed:    0.7s finished\n",
      "\n",
      "[2020-06-23 14:16:52] Features: 10/25 -- score: 0.9317801093281608[Parallel(n_jobs=-1)]: Using backend LokyBackend with 4 concurrent workers.\n",
      "[Parallel(n_jobs=-1)]: Done   8 out of  15 | elapsed:    0.4s remaining:    0.4s\n",
      "[Parallel(n_jobs=-1)]: Done  15 out of  15 | elapsed:    0.7s finished\n",
      "\n",
      "[2020-06-23 14:16:53] Features: 11/25 -- score: 0.9247266795979545[Parallel(n_jobs=-1)]: Using backend LokyBackend with 4 concurrent workers.\n",
      "[Parallel(n_jobs=-1)]: Done   7 out of  14 | elapsed:    0.4s remaining:    0.4s\n",
      "[Parallel(n_jobs=-1)]: Done  14 out of  14 | elapsed:    0.6s finished\n",
      "\n",
      "[2020-06-23 14:16:54] Features: 12/25 -- score: 0.9247046376300476[Parallel(n_jobs=-1)]: Using backend LokyBackend with 4 concurrent workers.\n",
      "[Parallel(n_jobs=-1)]: Done   6 out of  13 | elapsed:    0.3s remaining:    0.4s\n",
      "[Parallel(n_jobs=-1)]: Done  13 out of  13 | elapsed:    0.6s remaining:    0.0s\n",
      "[Parallel(n_jobs=-1)]: Done  13 out of  13 | elapsed:    0.6s finished\n",
      "\n",
      "[2020-06-23 14:16:54] Features: 13/25 -- score: 0.9293995767942163[Parallel(n_jobs=-1)]: Using backend LokyBackend with 4 concurrent workers.\n",
      "[Parallel(n_jobs=-1)]: Done   5 out of  12 | elapsed:    0.3s remaining:    0.5s\n",
      "[Parallel(n_jobs=-1)]: Done  12 out of  12 | elapsed:    0.6s remaining:    0.0s\n",
      "[Parallel(n_jobs=-1)]: Done  12 out of  12 | elapsed:    0.6s finished\n",
      "\n",
      "[2020-06-23 14:16:55] Features: 14/25 -- score: 0.9247266795979545[Parallel(n_jobs=-1)]: Using backend LokyBackend with 4 concurrent workers.\n",
      "[Parallel(n_jobs=-1)]: Done   4 out of  11 | elapsed:    0.2s remaining:    0.3s\n",
      "[Parallel(n_jobs=-1)]: Done  11 out of  11 | elapsed:    0.5s finished\n",
      "\n",
      "[2020-06-23 14:16:56] Features: 15/25 -- score: 0.9317580673602539[Parallel(n_jobs=-1)]: Using backend LokyBackend with 4 concurrent workers.\n",
      "[Parallel(n_jobs=-1)]: Done   3 out of  10 | elapsed:    0.2s remaining:    0.4s\n",
      "[Parallel(n_jobs=-1)]: Done  10 out of  10 | elapsed:    0.5s finished\n",
      "\n",
      "[2020-06-23 14:16:56] Features: 16/25 -- score: 0.9293995767942163[Parallel(n_jobs=-1)]: Using backend LokyBackend with 4 concurrent workers.\n",
      "[Parallel(n_jobs=-1)]: Done   7 out of   9 | elapsed:    0.4s remaining:    0.1s\n",
      "[Parallel(n_jobs=-1)]: Done   9 out of   9 | elapsed:    0.4s finished\n",
      "\n",
      "[2020-06-23 14:16:56] Features: 17/25 -- score: 0.9269970022923647[Parallel(n_jobs=-1)]: Using backend LokyBackend with 4 concurrent workers.\n",
      "[Parallel(n_jobs=-1)]: Done   6 out of   8 | elapsed:    0.4s remaining:    0.1s\n",
      "[Parallel(n_jobs=-1)]: Done   8 out of   8 | elapsed:    0.4s finished\n",
      "\n",
      "[2020-06-23 14:16:57] Features: 18/25 -- score: 0.9223241050961031[Parallel(n_jobs=-1)]: Using backend LokyBackend with 4 concurrent workers.\n",
      "[Parallel(n_jobs=-1)]: Done   4 out of   7 | elapsed:    0.2s remaining:    0.1s\n",
      "[Parallel(n_jobs=-1)]: Done   7 out of   7 | elapsed:    0.3s finished\n",
      "\n",
      "[2020-06-23 14:16:57] Features: 19/25 -- score: 0.9200317404337859[Parallel(n_jobs=-1)]: Using backend LokyBackend with 4 concurrent workers.\n",
      "[Parallel(n_jobs=-1)]: Done   3 out of   6 | elapsed:    0.2s remaining:    0.2s\n",
      "[Parallel(n_jobs=-1)]: Done   6 out of   6 | elapsed:    0.3s finished\n",
      "\n",
      "[2020-06-23 14:16:57] Features: 20/25 -- score: 0.9176071239640275[Parallel(n_jobs=-1)]: Using backend LokyBackend with 4 concurrent workers.\n",
      "[Parallel(n_jobs=-1)]: Done   5 out of   5 | elapsed:    0.3s finished\n",
      "\n",
      "[2020-06-23 14:16:58] Features: 21/25 -- score: 0.9175850819961207[Parallel(n_jobs=-1)]: Using backend LokyBackend with 4 concurrent workers.\n",
      "[Parallel(n_jobs=-1)]: Done   4 out of   4 | elapsed:    0.2s finished\n",
      "\n",
      "[2020-06-23 14:16:58] Features: 22/25 -- score: 0.9293334508904956[Parallel(n_jobs=-1)]: Using backend LokyBackend with 4 concurrent workers.\n",
      "[Parallel(n_jobs=-1)]: Done   3 out of   3 | elapsed:    0.2s finished\n",
      "\n",
      "[2020-06-23 14:16:58] Features: 23/25 -- score: 0.9223020631281961[Parallel(n_jobs=-1)]: Using backend LokyBackend with 4 concurrent workers.\n",
      "[Parallel(n_jobs=-1)]: Done   2 out of   2 | elapsed:    0.1s finished\n",
      "\n",
      "[2020-06-23 14:16:58] Features: 24/25 -- score: 0.9105316522659144[Parallel(n_jobs=-1)]: Using backend LokyBackend with 4 concurrent workers.\n",
      "[Parallel(n_jobs=-1)]: Done   1 out of   1 | elapsed:    0.1s finished\n",
      "\n",
      "[2020-06-23 14:16:58] Features: 25/25 -- score: 0.9129342267677658"
     ]
    }
   ],
   "source": [
    "sfs=SFS(RandomForestClassifier(random_state=42),\n",
    "        k_features=(1,25), forward=True, floating=False,verbose=2,\n",
    "        scoring='accuracy', cv=4, n_jobs=-1).fit(x_train,y_train)"
   ]
  },
  {
   "cell_type": "code",
   "execution_count": 134,
   "metadata": {},
   "outputs": [
    {
     "name": "stdout",
     "output_type": "stream",
     "text": [
      "('restbps', 'chol', 'oldpeak', 'cp_1.0', 'cp_4.0', 'slope_1.0', 'slope_2.0', 'slope_3.0', 'major_vessels_0.0')\n",
      "[1, 2, 4, 8, 11, 15, 16, 17, 18]\n",
      "0.9318021512960677\n"
     ]
    }
   ],
   "source": [
    "print(sfs.k_feature_names_)\n",
    "sfs.k_feature_names_\n",
    "feat_cols = list(sfs.k_feature_idx_)\n",
    "print(feat_cols)\n",
    "print(sfs.k_score_)\n",
    "#sfs.k_feature_names_.value_counts()"
   ]
  },
  {
   "cell_type": "code",
   "execution_count": 135,
   "metadata": {},
   "outputs": [],
   "source": [
    "x_train1=x_train.to_numpy()\n",
    "x_test1=x_test.to_numpy()"
   ]
  },
  {
   "cell_type": "code",
   "execution_count": 136,
   "metadata": {},
   "outputs": [
    {
     "data": {
      "text/plain": [
       "(142, 9)"
      ]
     },
     "execution_count": 136,
     "metadata": {},
     "output_type": "execute_result"
    }
   ],
   "source": [
    "x_train2=x_train1[:, feat_cols]\n",
    "x_train2 = pd.DataFrame(x_train2)\n",
    "x_test2=x_test1[:, feat_cols]\n",
    "x_test2.shape"
   ]
  },
  {
   "cell_type": "code",
   "execution_count": 137,
   "metadata": {},
   "outputs": [],
   "source": [
    "# Number of trees in random forest\n",
    "n_estimators = [int(x) for x in np.linspace(start = 200, stop = 2000, num = 10)]\n",
    "max_features = ['auto', 'sqrt'] # Number of features to consider at every split\n",
    "max_depth = [int(x) for x in np.linspace(10, 110, num = 11)] # Maximum number of levels in tree\n",
    "max_depth.append(None)\n",
    "min_samples_split = [2, 5, 10] # Minimum number of samples required to split a node\n",
    "min_samples_leaf = [1, 2, 4] # Minimum number of samples required at each leaf node\n",
    "bootstrap = [True, False]# Method of selecting samples for training each tree"
   ]
  },
  {
   "cell_type": "code",
   "execution_count": 138,
   "metadata": {},
   "outputs": [],
   "source": [
    "random_grid = {'n_estimators': n_estimators, 'max_features': max_features,'max_depth': max_depth,\n",
    "               'min_samples_split': min_samples_split, 'min_samples_leaf': min_samples_leaf,\n",
    "               'bootstrap': bootstrap}"
   ]
  },
  {
   "cell_type": "code",
   "execution_count": 139,
   "metadata": {},
   "outputs": [
    {
     "name": "stdout",
     "output_type": "stream",
     "text": [
      "Fitting 3 folds for each of 100 candidates, totalling 300 fits\n"
     ]
    },
    {
     "name": "stderr",
     "output_type": "stream",
     "text": [
      "[Parallel(n_jobs=-1)]: Using backend LokyBackend with 4 concurrent workers.\n",
      "[Parallel(n_jobs=-1)]: Done  33 tasks      | elapsed:   28.6s\n",
      "[Parallel(n_jobs=-1)]: Done 154 tasks      | elapsed:  2.2min\n",
      "[Parallel(n_jobs=-1)]: Done 300 out of 300 | elapsed:  4.3min finished\n"
     ]
    },
    {
     "data": {
      "text/plain": [
       "RandomizedSearchCV(cv=3, error_score='raise-deprecating',\n",
       "                   estimator=RandomForestClassifier(bootstrap=True,\n",
       "                                                    class_weight=None,\n",
       "                                                    criterion='gini',\n",
       "                                                    max_depth=None,\n",
       "                                                    max_features='auto',\n",
       "                                                    max_leaf_nodes=None,\n",
       "                                                    min_impurity_decrease=0.0,\n",
       "                                                    min_impurity_split=None,\n",
       "                                                    min_samples_leaf=1,\n",
       "                                                    min_samples_split=2,\n",
       "                                                    min_weight_fraction_leaf=0.0,\n",
       "                                                    n_estimators='warn',\n",
       "                                                    n_jobs=None,\n",
       "                                                    oob_sc...\n",
       "                   param_distributions={'bootstrap': [True, False],\n",
       "                                        'max_depth': [10, 20, 30, 40, 50, 60,\n",
       "                                                      70, 80, 90, 100, 110,\n",
       "                                                      None],\n",
       "                                        'max_features': ['auto', 'sqrt'],\n",
       "                                        'min_samples_leaf': [1, 2, 4],\n",
       "                                        'min_samples_split': [2, 5, 10],\n",
       "                                        'n_estimators': [200, 400, 600, 800,\n",
       "                                                         1000, 1200, 1400, 1600,\n",
       "                                                         1800, 2000]},\n",
       "                   pre_dispatch='2*n_jobs', random_state=42, refit=True,\n",
       "                   return_train_score=False, scoring=None, verbose=2)"
      ]
     },
     "execution_count": 139,
     "metadata": {},
     "output_type": "execute_result"
    }
   ],
   "source": [
    "model_rf = RandomizedSearchCV(estimator = RandomForestClassifier(), param_distributions = random_grid, n_iter = 100, cv = 3, verbose=2, random_state=42, n_jobs = -1)# Fit the random search model\n",
    "model_rf.fit(x_train2, y_train)"
   ]
  },
  {
   "cell_type": "code",
   "execution_count": 140,
   "metadata": {},
   "outputs": [
    {
     "name": "stdout",
     "output_type": "stream",
     "text": [
      "Confusion matrix:\n",
      " [[76  9]\n",
      " [ 4 53]]\n",
      "Train Accuracy : 100.0 %\n",
      "Test Accuracy  : 90.845 %\n",
      "classification report of Random Forest\n",
      "               precision    recall  f1-score   support\n",
      "\n",
      "           0       0.95      0.89      0.92        85\n",
      "           1       0.85      0.93      0.89        57\n",
      "\n",
      "    accuracy                           0.91       142\n",
      "   macro avg       0.90      0.91      0.91       142\n",
      "weighted avg       0.91      0.91      0.91       142\n",
      "\n",
      "0.09154929577464789\n"
     ]
    }
   ],
   "source": [
    "y_pred=model_rf.predict(x_test2)\n",
    "cm=confusion_matrix(y_test,y_pred)\n",
    "TN = cm[0, 0]\n",
    "TP = cm[1, 1]\n",
    "FN = cm[1, 0]\n",
    "FP = cm[0, 1]\n",
    "print(\"Confusion matrix:\\n\",cm)\n",
    "print(\"Train Accuracy :\",round(accuracy_score(y_train,model_rf.predict(x_train2)),5)*100,'%')\n",
    "print(\"Test Accuracy  :\",round(accuracy_score(y_test,y_pred),5)*100,'%')\n",
    "print(\"classification report of Random Forest\\n\",classification_report(y_test,y_pred))\n",
    "model.append(\"model_rf\")\n",
    "#score.append(accuracy_score(y_test,y_pred))\n",
    "classification_error = (FP + FN) / float(TP + TN + FP + FN)\n",
    "print(classification_error)"
   ]
  },
  {
   "cell_type": "code",
   "execution_count": 141,
   "metadata": {},
   "outputs": [
    {
     "name": "stdout",
     "output_type": "stream",
     "text": [
      "sensitivity of Random Forest:-  0.9298245614035088\n",
      "Specificity of Random Forest:-  0.8941176470588236\n"
     ]
    }
   ],
   "source": [
    "sensitivity=TP/float(TP+FN)\n",
    "#print(\"precision of logistic regression:- \",precision) \n",
    "print(\"sensitivity of Random Forest:- \",sensitivity) #recall\n",
    "recall.append(sensitivity)\n",
    "Specificity=TN/float(TN+FP)\n",
    "print(\"Specificity of Random Forest:- \",Specificity) #recall\n",
    "spec1.append(Specificity)"
   ]
  },
  {
   "cell_type": "markdown",
   "metadata": {},
   "source": [
    "# Plot Step Forward Selection Result"
   ]
  },
  {
   "cell_type": "code",
   "execution_count": 142,
   "metadata": {},
   "outputs": [
    {
     "data": {
      "text/plain": [
       "Text(0, 0.5, 'Sensitvity% ')"
      ]
     },
     "execution_count": 142,
     "metadata": {},
     "output_type": "execute_result"
    },
    {
     "data": {
      "image/png": "[encoded data removed]",
      "text/plain": [
       "<Figure size 432x288 with 1 Axes>"
      ]
     },
     "metadata": {
      "needs_background": "light"
     },
     "output_type": "display_data"
    }
   ],
   "source": [
    "plt.title(\"Comparison of Sensitvity/Recall of various Models using Step forward selection\\n\",fontweight=\"bold\")\n",
    "plt.ylim([0.60,1.0])\n",
    "plt.bar(model,recall,width=0.5)\n",
    "plt.xlabel('Model')\n",
    "plt.ylabel('Sensitvity% ')"
   ]
  },
  {
   "cell_type": "code",
   "execution_count": 143,
   "metadata": {},
   "outputs": [
    {
     "data": {
      "text/plain": [
       "Text(0, 0.5, 'Specificity% ')"
      ]
     },
     "execution_count": 143,
     "metadata": {},
     "output_type": "execute_result"
    },
    {
     "data": {
      "image/png": "[encoded data removed]",
      "text/plain": [
       "<Figure size 432x288 with 1 Axes>"
      ]
     },
     "metadata": {
      "needs_background": "light"
     },
     "output_type": "display_data"
    }
   ],
   "source": [
    "plt.title(\"Comparison of Specificity/TNR of various Models using Step forward selection\\n\",fontweight=\"bold\")\n",
    "plt.ylim([0.70,1.0])\n",
    "plt.bar(model,spec1,width=0.5)\n",
    "plt.xlabel('Model')\n",
    "plt.ylabel('Specificity% ')"
   ]
  },
  {
   "cell_type": "markdown",
   "metadata": {},
   "source": [
    "# Step Backward Selection method"
   ]
  },
  {
   "cell_type": "code",
   "execution_count": 144,
   "metadata": {},
   "outputs": [],
   "source": [
    "from sklearn.metrics import roc_auc_score\n",
    "from mlxtend.feature_selection import SequentialFeatureSelector as SFS "
   ]
  },
  {
   "cell_type": "code",
   "execution_count": 145,
   "metadata": {},
   "outputs": [],
   "source": [
    "models=[]\n",
    "sen=[]\n",
    "spec2=[]"
   ]
  },
  {
   "cell_type": "code",
   "execution_count": 146,
   "metadata": {},
   "outputs": [],
   "source": [
    "#Logistic Regression (Step Backward)"
   ]
  },
  {
   "cell_type": "code",
   "execution_count": 147,
   "metadata": {},
   "outputs": [
    {
     "name": "stderr",
     "output_type": "stream",
     "text": [
      "[Parallel(n_jobs=-1)]: Using backend LokyBackend with 4 concurrent workers.\n",
      "[Parallel(n_jobs=-1)]: Done   5 out of  25 | elapsed:    0.1s remaining:    0.3s\n",
      "[Parallel(n_jobs=-1)]: Done  25 out of  25 | elapsed:    0.2s finished\n",
      "\n",
      "[2020-06-23 14:21:22] Features: 24/1 -- score: 0.8495194850996297[Parallel(n_jobs=-1)]: Using backend LokyBackend with 4 concurrent workers.\n",
      "[Parallel(n_jobs=-1)]: Done   4 out of  24 | elapsed:    0.0s remaining:    0.2s\n",
      "[Parallel(n_jobs=-1)]: Done  24 out of  24 | elapsed:    0.2s finished\n",
      "\n",
      "[2020-06-23 14:21:22] Features: 23/1 -- score: 0.8519000176335744[Parallel(n_jobs=-1)]: Using backend LokyBackend with 4 concurrent workers.\n",
      "[Parallel(n_jobs=-1)]: Done   4 out of  23 | elapsed:    0.0s remaining:    0.2s\n",
      "[Parallel(n_jobs=-1)]: Done  23 out of  23 | elapsed:    0.3s finished\n",
      "\n",
      "[2020-06-23 14:21:22] Features: 22/1 -- score: 0.8519000176335744[Parallel(n_jobs=-1)]: Using backend LokyBackend with 4 concurrent workers.\n",
      "[Parallel(n_jobs=-1)]: Done  22 out of  22 | elapsed:    0.2s finished\n",
      "\n",
      "[2020-06-23 14:21:22] Features: 21/1 -- score: 0.8519000176335744[Parallel(n_jobs=-1)]: Using backend LokyBackend with 4 concurrent workers.\n",
      "[Parallel(n_jobs=-1)]: Done  21 out of  21 | elapsed:    0.2s finished\n",
      "\n",
      "[2020-06-23 14:21:23] Features: 20/1 -- score: 0.8519000176335744[Parallel(n_jobs=-1)]: Using backend LokyBackend with 4 concurrent workers.\n",
      "[Parallel(n_jobs=-1)]: Done  20 out of  20 | elapsed:    0.2s finished\n",
      "\n",
      "[2020-06-23 14:21:23] Features: 19/1 -- score: 0.8519000176335744[Parallel(n_jobs=-1)]: Using backend LokyBackend with 4 concurrent workers.\n",
      "[Parallel(n_jobs=-1)]: Done  19 out of  19 | elapsed:    0.2s finished\n",
      "\n",
      "[2020-06-23 14:21:23] Features: 18/1 -- score: 0.8519000176335744[Parallel(n_jobs=-1)]: Using backend LokyBackend with 4 concurrent workers.\n",
      "[Parallel(n_jobs=-1)]: Done  18 out of  18 | elapsed:    0.2s finished\n",
      "\n",
      "[2020-06-23 14:21:23] Features: 17/1 -- score: 0.8519000176335744[Parallel(n_jobs=-1)]: Using backend LokyBackend with 4 concurrent workers.\n",
      "[Parallel(n_jobs=-1)]: Done  17 out of  17 | elapsed:    0.2s finished\n",
      "\n",
      "[2020-06-23 14:21:23] Features: 16/1 -- score: 0.8519000176335744[Parallel(n_jobs=-1)]: Using backend LokyBackend with 4 concurrent workers.\n",
      "[Parallel(n_jobs=-1)]: Done  16 out of  16 | elapsed:    0.2s finished\n",
      "\n",
      "[2020-06-23 14:21:24] Features: 15/1 -- score: 0.8519000176335744[Parallel(n_jobs=-1)]: Using backend LokyBackend with 4 concurrent workers.\n",
      "[Parallel(n_jobs=-1)]: Done   8 out of  15 | elapsed:    0.1s remaining:    0.1s\n",
      "[Parallel(n_jobs=-1)]: Done  15 out of  15 | elapsed:    0.2s finished\n",
      "\n",
      "[2020-06-23 14:21:24] Features: 14/1 -- score: 0.8519000176335744[Parallel(n_jobs=-1)]: Using backend LokyBackend with 4 concurrent workers.\n",
      "[Parallel(n_jobs=-1)]: Done   7 out of  14 | elapsed:    0.1s remaining:    0.1s\n",
      "[Parallel(n_jobs=-1)]: Done  14 out of  14 | elapsed:    0.2s finished\n",
      "\n",
      "[2020-06-23 14:21:24] Features: 13/1 -- score: 0.8518779756656675[Parallel(n_jobs=-1)]: Using backend LokyBackend with 4 concurrent workers.\n",
      "[Parallel(n_jobs=-1)]: Done   6 out of  13 | elapsed:    0.1s remaining:    0.1s\n",
      "[Parallel(n_jobs=-1)]: Done  13 out of  13 | elapsed:    0.1s remaining:    0.0s\n",
      "[Parallel(n_jobs=-1)]: Done  13 out of  13 | elapsed:    0.1s finished\n",
      "\n",
      "[2020-06-23 14:21:24] Features: 12/1 -- score: 0.856594956797743[Parallel(n_jobs=-1)]: Using backend LokyBackend with 4 concurrent workers.\n",
      "[Parallel(n_jobs=-1)]: Done   5 out of  12 | elapsed:    0.1s remaining:    0.1s\n",
      "[Parallel(n_jobs=-1)]: Done  12 out of  12 | elapsed:    0.1s remaining:    0.0s\n",
      "[Parallel(n_jobs=-1)]: Done  12 out of  12 | elapsed:    0.1s finished\n",
      "\n",
      "[2020-06-23 14:21:24] Features: 11/1 -- score: 0.8542364662317052[Parallel(n_jobs=-1)]: Using backend LokyBackend with 4 concurrent workers.\n",
      "[Parallel(n_jobs=-1)]: Done   4 out of  11 | elapsed:    0.1s remaining:    0.1s\n",
      "[Parallel(n_jobs=-1)]: Done  11 out of  11 | elapsed:    0.1s finished\n",
      "\n",
      "[2020-06-23 14:21:24] Features: 10/1 -- score: 0.8447804619996473[Parallel(n_jobs=-1)]: Using backend LokyBackend with 4 concurrent workers.\n",
      "[Parallel(n_jobs=-1)]: Done   3 out of  10 | elapsed:    0.0s remaining:    0.1s\n",
      "[Parallel(n_jobs=-1)]: Done  10 out of  10 | elapsed:    0.1s finished\n",
      "\n",
      "[2020-06-23 14:21:24] Features: 9/1 -- score: 0.8542144242637982[Parallel(n_jobs=-1)]: Using backend LokyBackend with 4 concurrent workers.\n",
      "[Parallel(n_jobs=-1)]: Done   7 out of   9 | elapsed:    0.1s remaining:    0.0s\n",
      "[Parallel(n_jobs=-1)]: Done   9 out of   9 | elapsed:    0.1s finished\n",
      "\n",
      "[2020-06-23 14:21:24] Features: 8/1 -- score: 0.8495194850996297[Parallel(n_jobs=-1)]: Using backend LokyBackend with 4 concurrent workers.\n",
      "[Parallel(n_jobs=-1)]: Done   6 out of   8 | elapsed:    0.1s remaining:    0.0s\n",
      "[Parallel(n_jobs=-1)]: Done   8 out of   8 | elapsed:    0.1s finished\n",
      "\n",
      "[2020-06-23 14:21:25] Features: 7/1 -- score: 0.8471169105977783[Parallel(n_jobs=-1)]: Using backend LokyBackend with 4 concurrent workers.\n",
      "[Parallel(n_jobs=-1)]: Done   4 out of   7 | elapsed:    0.0s remaining:    0.0s\n",
      "[Parallel(n_jobs=-1)]: Done   7 out of   7 | elapsed:    0.1s finished\n",
      "\n",
      "[2020-06-23 14:21:25] Features: 6/1 -- score: 0.8589314053958738[Parallel(n_jobs=-1)]: Using backend LokyBackend with 4 concurrent workers.\n",
      "[Parallel(n_jobs=-1)]: Done   3 out of   6 | elapsed:    0.0s remaining:    0.0s\n",
      "[Parallel(n_jobs=-1)]: Done   6 out of   6 | elapsed:    0.1s finished\n",
      "\n",
      "[2020-06-23 14:21:25] Features: 5/1 -- score: 0.8472050784694057[Parallel(n_jobs=-1)]: Using backend LokyBackend with 4 concurrent workers.\n",
      "[Parallel(n_jobs=-1)]: Done   5 out of   5 | elapsed:    0.1s finished\n",
      "\n",
      "[2020-06-23 14:21:25] Features: 4/1 -- score: 0.8330100511373656[Parallel(n_jobs=-1)]: Using backend LokyBackend with 4 concurrent workers.\n",
      "[Parallel(n_jobs=-1)]: Done   4 out of   4 | elapsed:    0.1s finished\n",
      "\n",
      "[2020-06-23 14:21:25] Features: 3/1 -- score: 0.7953403279844824[Parallel(n_jobs=-1)]: Using backend LokyBackend with 4 concurrent workers.\n",
      "[Parallel(n_jobs=-1)]: Done   3 out of   3 | elapsed:    0.0s finished\n",
      "\n",
      "[2020-06-23 14:21:25] Features: 2/1 -- score: 0.7412272967730559[Parallel(n_jobs=-1)]: Using backend LokyBackend with 4 concurrent workers.\n",
      "[Parallel(n_jobs=-1)]: Done   2 out of   2 | elapsed:    0.0s finished\n",
      "\n",
      "[2020-06-23 14:21:25] Features: 1/1 -- score: 0.7671266090636573"
     ]
    }
   ],
   "source": [
    "sbs=SFS(LogisticRegression(C=0.0001, class_weight=None, dual=False, fit_intercept=True,\n",
    "                   intercept_scaling=1,  max_iter=100,\n",
    "                    n_jobs=None, penalty='l2',\n",
    "                   random_state=42, tol=0.0001, verbose=0,\n",
    "                   warm_start=False),\n",
    "        k_features=(1,25), forward=False, floating=False, verbose=2,\n",
    "        scoring='accuracy',cv=4, n_jobs=-1).fit(x_train,y_train)"
   ]
  },
  {
   "cell_type": "code",
   "execution_count": 148,
   "metadata": {},
   "outputs": [
    {
     "name": "stdout",
     "output_type": "stream",
     "text": [
      "('sex', 'exang', 'cp_4.0', 'slope_1.0', 'major_vessels_0.0', 'thal_7.0')\n",
      "[5, 7, 11, 15, 18, 24]\n",
      "0.8589314053958738\n"
     ]
    }
   ],
   "source": [
    "print(sbs.k_feature_names_)\n",
    "feat_cols = list(sbs.k_feature_idx_)\n",
    "print(feat_cols)\n",
    "print(sbs.k_score_)"
   ]
  },
  {
   "cell_type": "code",
   "execution_count": 149,
   "metadata": {},
   "outputs": [],
   "source": [
    "x_train1=x_train.to_numpy()\n",
    "x_test1=x_test.to_numpy()"
   ]
  },
  {
   "cell_type": "code",
   "execution_count": 150,
   "metadata": {},
   "outputs": [
    {
     "data": {
      "text/plain": [
       "(142, 6)"
      ]
     },
     "execution_count": 150,
     "metadata": {},
     "output_type": "execute_result"
    }
   ],
   "source": [
    "x_train2=x_train1[:, feat_cols]\n",
    "x_train2 = pd.DataFrame(x_train2)\n",
    "x_test2=x_test1[:, feat_cols]\n",
    "x_test2.shape"
   ]
  },
  {
   "cell_type": "code",
   "execution_count": 151,
   "metadata": {},
   "outputs": [
    {
     "name": "stdout",
     "output_type": "stream",
     "text": [
      "Training accuracy on selected features: 0.868\n",
      "Testing accuracy on selected features: 0.852\n"
     ]
    }
   ],
   "source": [
    "clf = LogisticRegression(C=0.0001, class_weight=None, dual=False, fit_intercept=True,\n",
    "                   intercept_scaling=1,  max_iter=100,\n",
    "                    n_jobs=None, penalty='l2',\n",
    "                   random_state=42, tol=0.0001, verbose=0,\n",
    "                   warm_start=False)\n",
    "#clf.fit(x_train.iloc[:, feat_cols].values, y_train)\n",
    "clf.fit(x_train2, y_train)\n",
    "y_train_pred = clf.predict(x_train2)\n",
    "print('Training accuracy on selected features: %.3f' % accuracy_score(y_train, y_train_pred))\n",
    "y_test_pred = clf.predict(x_test2)\n",
    "print('Testing accuracy on selected features: %.3f' % accuracy_score(y_test, y_test_pred))"
   ]
  },
  {
   "cell_type": "code",
   "execution_count": 152,
   "metadata": {},
   "outputs": [
    {
     "name": "stdout",
     "output_type": "stream",
     "text": [
      "Confusion matrix:\n",
      " [[71 14]\n",
      " [ 7 50]]\n",
      "Train Accuracy : 86.824 %\n",
      "Test Accuracy  : 85.211 %\n",
      "classification report of Logistic regression\n",
      "               precision    recall  f1-score   support\n",
      "\n",
      "           0       0.91      0.84      0.87        85\n",
      "           1       0.78      0.88      0.83        57\n",
      "\n",
      "    accuracy                           0.85       142\n",
      "   macro avg       0.85      0.86      0.85       142\n",
      "weighted avg       0.86      0.85      0.85       142\n",
      "\n",
      "0.14788732394366197\n"
     ]
    }
   ],
   "source": [
    "cm=confusion_matrix(y_test,y_test_pred)\n",
    "TN = cm[0, 0]\n",
    "TP = cm[1, 1]\n",
    "FN = cm[1, 0]\n",
    "FP = cm[0, 1]\n",
    "print(\"Confusion matrix:\\n\",cm)\n",
    "print(\"Train Accuracy :\",round(accuracy_score(y_train,clf.predict(x_train2)),5)*100,'%')\n",
    "print(\"Test Accuracy  :\",round(accuracy_score(y_test,y_test_pred),5)*100,'%')\n",
    "print(\"classification report of Logistic regression\\n\",classification_report(y_test,y_test_pred))\n",
    "models.append(\"model_lr\")\n",
    "#score.append(accuracy_score(y_test,y_test_pred))\n",
    "classification_error = (FP + FN) / float(TP + TN + FP + FN)\n",
    "print(classification_error)"
   ]
  },
  {
   "cell_type": "code",
   "execution_count": 153,
   "metadata": {},
   "outputs": [
    {
     "name": "stdout",
     "output_type": "stream",
     "text": [
      "sensitivity of logistic regression:-  0.8771929824561403\n",
      "Specificity of logistic regression:-  0.8352941176470589\n"
     ]
    }
   ],
   "source": [
    "sensitivity=TP/float(TP+FN)\n",
    "#print(\"precision of logistic regression:- \",precision) \n",
    "print(\"sensitivity of logistic regression:- \",sensitivity) #recall\n",
    "sen.append(sensitivity)\n",
    "Specificity=TN/float(TN+FP)\n",
    "print(\"Specificity of logistic regression:- \",Specificity) #recall\n",
    "spec2.append(Specificity)"
   ]
  },
  {
   "cell_type": "code",
   "execution_count": 154,
   "metadata": {},
   "outputs": [],
   "source": [
    "#K-NN(Step Backward)"
   ]
  },
  {
   "cell_type": "code",
   "execution_count": 155,
   "metadata": {},
   "outputs": [
    {
     "name": "stderr",
     "output_type": "stream",
     "text": [
      "[Parallel(n_jobs=-1)]: Using backend LokyBackend with 4 concurrent workers.\n",
      "[Parallel(n_jobs=-1)]: Done   5 out of  25 | elapsed:    0.1s remaining:    0.5s\n",
      "[Parallel(n_jobs=-1)]: Done  25 out of  25 | elapsed:    0.4s finished\n",
      "\n",
      "[2020-06-23 14:21:26] Features: 24/1 -- score: 0.9411699876564981[Parallel(n_jobs=-1)]: Using backend LokyBackend with 4 concurrent workers.\n",
      "[Parallel(n_jobs=-1)]: Done  24 out of  24 | elapsed:    0.4s finished\n",
      "\n",
      "[2020-06-23 14:21:27] Features: 23/1 -- score: 0.9458649268206665[Parallel(n_jobs=-1)]: Using backend LokyBackend with 4 concurrent workers.\n",
      "[Parallel(n_jobs=-1)]: Done  23 out of  23 | elapsed:    0.4s finished\n",
      "\n",
      "[2020-06-23 14:21:27] Features: 22/1 -- score: 0.950581907952742[Parallel(n_jobs=-1)]: Using backend LokyBackend with 4 concurrent workers.\n",
      "[Parallel(n_jobs=-1)]: Done  22 out of  22 | elapsed:    0.4s finished\n",
      "\n",
      "[2020-06-23 14:21:28] Features: 21/1 -- score: 0.9529183565508728[Parallel(n_jobs=-1)]: Using backend LokyBackend with 4 concurrent workers.\n",
      "[Parallel(n_jobs=-1)]: Done  21 out of  21 | elapsed:    0.4s finished\n",
      "\n",
      "[2020-06-23 14:21:28] Features: 20/1 -- score: 0.9529183565508728[Parallel(n_jobs=-1)]: Using backend LokyBackend with 4 concurrent workers.\n",
      "[Parallel(n_jobs=-1)]: Done  20 out of  20 | elapsed:    0.3s finished\n",
      "\n",
      "[2020-06-23 14:21:28] Features: 19/1 -- score: 0.9529183565508728[Parallel(n_jobs=-1)]: Using backend LokyBackend with 4 concurrent workers.\n",
      "[Parallel(n_jobs=-1)]: Done  19 out of  19 | elapsed:    0.4s finished\n",
      "\n",
      "[2020-06-23 14:21:29] Features: 18/1 -- score: 0.9505598659848351[Parallel(n_jobs=-1)]: Using backend LokyBackend with 4 concurrent workers.\n",
      "[Parallel(n_jobs=-1)]: Done  18 out of  18 | elapsed:    0.4s finished\n",
      "\n",
      "[2020-06-23 14:21:29] Features: 17/1 -- score: 0.9505378240169282[Parallel(n_jobs=-1)]: Using backend LokyBackend with 4 concurrent workers.\n",
      "[Parallel(n_jobs=-1)]: Done  17 out of  17 | elapsed:    0.4s finished\n",
      "\n",
      "[2020-06-23 14:21:30] Features: 16/1 -- score: 0.9482234173867043[Parallel(n_jobs=-1)]: Using backend LokyBackend with 4 concurrent workers.\n",
      "[Parallel(n_jobs=-1)]: Done  16 out of  16 | elapsed:    0.3s finished\n",
      "\n",
      "[2020-06-23 14:21:30] Features: 15/1 -- score: 0.9458869687885736[Parallel(n_jobs=-1)]: Using backend LokyBackend with 4 concurrent workers.\n",
      "[Parallel(n_jobs=-1)]: Done   8 out of  15 | elapsed:    0.2s remaining:    0.1s\n",
      "[Parallel(n_jobs=-1)]: Done  15 out of  15 | elapsed:    0.3s finished\n",
      "\n",
      "[2020-06-23 14:21:30] Features: 14/1 -- score: 0.941192029624405[Parallel(n_jobs=-1)]: Using backend LokyBackend with 4 concurrent workers.\n",
      "[Parallel(n_jobs=-1)]: Done   7 out of  14 | elapsed:    0.1s remaining:    0.1s\n",
      "[Parallel(n_jobs=-1)]: Done  14 out of  14 | elapsed:    0.3s finished\n",
      "\n",
      "[2020-06-23 14:21:30] Features: 13/1 -- score: 0.9435284782225357[Parallel(n_jobs=-1)]: Using backend LokyBackend with 4 concurrent workers.\n",
      "[Parallel(n_jobs=-1)]: Done   6 out of  13 | elapsed:    0.1s remaining:    0.2s\n",
      "[Parallel(n_jobs=-1)]: Done  13 out of  13 | elapsed:    0.3s remaining:    0.0s\n",
      "[Parallel(n_jobs=-1)]: Done  13 out of  13 | elapsed:    0.3s finished\n",
      "\n",
      "[2020-06-23 14:21:31] Features: 12/1 -- score: 0.9388114970904603[Parallel(n_jobs=-1)]: Using backend LokyBackend with 4 concurrent workers.\n",
      "[Parallel(n_jobs=-1)]: Done   5 out of  12 | elapsed:    0.1s remaining:    0.2s\n",
      "[Parallel(n_jobs=-1)]: Done  12 out of  12 | elapsed:    0.3s remaining:    0.0s\n",
      "[Parallel(n_jobs=-1)]: Done  12 out of  12 | elapsed:    0.3s finished\n",
      "\n",
      "[2020-06-23 14:21:31] Features: 11/1 -- score: 0.9364530065244225[Parallel(n_jobs=-1)]: Using backend LokyBackend with 4 concurrent workers.\n",
      "[Parallel(n_jobs=-1)]: Done   4 out of  11 | elapsed:    0.1s remaining:    0.2s\n",
      "[Parallel(n_jobs=-1)]: Done  11 out of  11 | elapsed:    0.2s finished\n",
      "\n",
      "[2020-06-23 14:21:31] Features: 10/1 -- score: 0.941169987656498[Parallel(n_jobs=-1)]: Using backend LokyBackend with 4 concurrent workers.\n",
      "[Parallel(n_jobs=-1)]: Done   3 out of  10 | elapsed:    0.1s remaining:    0.2s\n",
      "[Parallel(n_jobs=-1)]: Done  10 out of  10 | elapsed:    0.2s finished\n",
      "\n",
      "[2020-06-23 14:21:31] Features: 9/1 -- score: 0.9341165579262917[Parallel(n_jobs=-1)]: Using backend LokyBackend with 4 concurrent workers.\n",
      "[Parallel(n_jobs=-1)]: Done   7 out of   9 | elapsed:    0.1s remaining:    0.0s\n",
      "[Parallel(n_jobs=-1)]: Done   9 out of   9 | elapsed:    0.2s finished\n",
      "\n",
      "[2020-06-23 14:21:32] Features: 8/1 -- score: 0.9293995767942163[Parallel(n_jobs=-1)]: Using backend LokyBackend with 4 concurrent workers.\n",
      "[Parallel(n_jobs=-1)]: Done   6 out of   8 | elapsed:    0.1s remaining:    0.0s\n",
      "[Parallel(n_jobs=-1)]: Done   8 out of   8 | elapsed:    0.2s finished\n",
      "\n",
      "[2020-06-23 14:21:32] Features: 7/1 -- score: 0.9364089225886087[Parallel(n_jobs=-1)]: Using backend LokyBackend with 4 concurrent workers.\n",
      "[Parallel(n_jobs=-1)]: Done   4 out of   7 | elapsed:    0.1s remaining:    0.1s\n",
      "[Parallel(n_jobs=-1)]: Done   7 out of   7 | elapsed:    0.1s finished\n",
      "\n",
      "[2020-06-23 14:21:32] Features: 6/1 -- score: 0.9223020631281961[Parallel(n_jobs=-1)]: Using backend LokyBackend with 4 concurrent workers.\n",
      "[Parallel(n_jobs=-1)]: Done   3 out of   6 | elapsed:    0.1s remaining:    0.1s\n",
      "[Parallel(n_jobs=-1)]: Done   6 out of   6 | elapsed:    0.1s finished\n",
      "\n",
      "[2020-06-23 14:21:32] Features: 5/1 -- score: 0.9176952918356551[Parallel(n_jobs=-1)]: Using backend LokyBackend with 4 concurrent workers.\n",
      "[Parallel(n_jobs=-1)]: Done   5 out of   5 | elapsed:    0.1s finished\n",
      "\n",
      "[2020-06-23 14:21:32] Features: 4/1 -- score: 0.9153588432375243[Parallel(n_jobs=-1)]: Using backend LokyBackend with 4 concurrent workers.\n",
      "[Parallel(n_jobs=-1)]: Done   4 out of   4 | elapsed:    0.1s finished\n",
      "\n",
      "[2020-06-23 14:21:32] Features: 3/1 -- score: 0.9035884323752426[Parallel(n_jobs=-1)]: Using backend LokyBackend with 4 concurrent workers.\n",
      "[Parallel(n_jobs=-1)]: Done   3 out of   3 | elapsed:    0.1s finished\n",
      "\n",
      "[2020-06-23 14:21:32] Features: 2/1 -- score: 0.8541262563921707[Parallel(n_jobs=-1)]: Using backend LokyBackend with 4 concurrent workers.\n",
      "[Parallel(n_jobs=-1)]: Done   2 out of   2 | elapsed:    0.0s finished\n",
      "\n",
      "[2020-06-23 14:21:32] Features: 1/1 -- score: 0.7083627226238759"
     ]
    }
   ],
   "source": [
    "sbs=SFS(KNeighborsClassifier(algorithm='auto', leaf_size=30, metric='minkowski',\n",
    "                     metric_params=None, n_jobs=None, n_neighbors=1, p=2,\n",
    "                     weights='uniform'),\n",
    "        k_features=(1,25), forward=False, floating=False, verbose=2,\n",
    "        scoring='accuracy',cv=4, n_jobs=-1).fit(x_train,y_train)"
   ]
  },
  {
   "cell_type": "code",
   "execution_count": 156,
   "metadata": {},
   "outputs": [
    {
     "name": "stdout",
     "output_type": "stream",
     "text": [
      "('age', 'restbps', 'chol', 'oldpeak', 'sex', 'fbs', 'exang', 'cp_1.0', 'cp_2.0', 'cp_3.0', 'cp_4.0', 'restecg_0.0', 'restecg_1.0', 'restecg_2.0', 'slope_2.0', 'slope_3.0', 'major_vessels_0.0', 'major_vessels_1.0', 'major_vessels_2.0', 'thal_3.0', 'thal_6.0')\n",
      "[0, 1, 2, 4, 5, 6, 7, 8, 9, 10, 11, 12, 13, 14, 16, 17, 18, 19, 20, 22, 23]\n",
      "0.9529183565508728\n"
     ]
    }
   ],
   "source": [
    "print(sbs.k_feature_names_)\n",
    "feat_cols = list(sbs.k_feature_idx_)\n",
    "print(feat_cols)\n",
    "print(sbs.k_score_)"
   ]
  },
  {
   "cell_type": "code",
   "execution_count": 157,
   "metadata": {},
   "outputs": [],
   "source": [
    "x_train1=x_train.to_numpy()\n",
    "x_test1=x_test.to_numpy()"
   ]
  },
  {
   "cell_type": "code",
   "execution_count": 158,
   "metadata": {},
   "outputs": [
    {
     "data": {
      "text/plain": [
       "(142, 21)"
      ]
     },
     "execution_count": 158,
     "metadata": {},
     "output_type": "execute_result"
    }
   ],
   "source": [
    "x_train2=x_train1[:, feat_cols]\n",
    "x_train2 = pd.DataFrame(x_train2)\n",
    "x_test2=x_test1[:, feat_cols]\n",
    "x_test2.shape"
   ]
  },
  {
   "cell_type": "code",
   "execution_count": 159,
   "metadata": {},
   "outputs": [
    {
     "data": {
      "text/plain": [
       "KNeighborsClassifier(algorithm='auto', leaf_size=30, metric='minkowski',\n",
       "                     metric_params=None, n_jobs=None, n_neighbors=1, p=2,\n",
       "                     weights='uniform')"
      ]
     },
     "execution_count": 159,
     "metadata": {},
     "output_type": "execute_result"
    }
   ],
   "source": [
    "model_knn=KNeighborsClassifier(algorithm='auto', leaf_size=30, metric='minkowski',\n",
    "                     metric_params=None, n_jobs=None, n_neighbors=1, p=2,\n",
    "                     weights='uniform')\n",
    "model_knn.fit(x_train2,y_train)"
   ]
  },
  {
   "cell_type": "code",
   "execution_count": 160,
   "metadata": {},
   "outputs": [
    {
     "name": "stdout",
     "output_type": "stream",
     "text": [
      "Confusion matrix:\n",
      " [[77  8]\n",
      " [ 5 52]]\n",
      "Train Accuracy : 100.0 %\n",
      "Test Accuracy  : 90.845 %\n",
      "classification report of Random Forest\n",
      "               precision    recall  f1-score   support\n",
      "\n",
      "           0       0.94      0.91      0.92        85\n",
      "           1       0.87      0.91      0.89        57\n",
      "\n",
      "    accuracy                           0.91       142\n",
      "   macro avg       0.90      0.91      0.91       142\n",
      "weighted avg       0.91      0.91      0.91       142\n",
      "\n",
      "0.09154929577464789\n"
     ]
    }
   ],
   "source": [
    "y_pred=model_knn.predict(x_test2)\n",
    "cm=confusion_matrix(y_test,y_pred)\n",
    "TN = cm[0, 0]\n",
    "TP = cm[1, 1]\n",
    "FN = cm[1, 0]\n",
    "FP = cm[0, 1]\n",
    "print(\"Confusion matrix:\\n\",cm)\n",
    "print(\"Train Accuracy :\",round(accuracy_score(y_train,model_knn.predict(x_train2)),5)*100,'%')\n",
    "print(\"Test Accuracy  :\",round(accuracy_score(y_test,y_pred),5)*100,'%')\n",
    "print(\"classification report of Random Forest\\n\",classification_report(y_test,y_pred))\n",
    "models.append(\"model_k-NN\")\n",
    "#score.append(accuracy_score(y_test,y_pred))\n",
    "classification_error = (FP + FN) / float(TP + TN + FP + FN)\n",
    "print(classification_error)"
   ]
  },
  {
   "cell_type": "code",
   "execution_count": 161,
   "metadata": {},
   "outputs": [
    {
     "name": "stdout",
     "output_type": "stream",
     "text": [
      "sensitivity of K-NN:-  0.9122807017543859\n",
      "Specificity of K-NN:-  0.9058823529411765\n"
     ]
    }
   ],
   "source": [
    "sensitivity=TP/float(TP+FN)\n",
    "#print(\"precision of logistic regression:- \",precision) \n",
    "print(\"sensitivity of K-NN:- \",sensitivity) #recall\n",
    "sen.append(sensitivity)\n",
    "Specificity=TN/float(TN+FP)\n",
    "print(\"Specificity of K-NN:- \",Specificity) #recall\n",
    "spec2.append(Specificity)"
   ]
  },
  {
   "cell_type": "code",
   "execution_count": 162,
   "metadata": {},
   "outputs": [],
   "source": [
    "#SVM (Step Backward)"
   ]
  },
  {
   "cell_type": "code",
   "execution_count": 163,
   "metadata": {},
   "outputs": [
    {
     "name": "stderr",
     "output_type": "stream",
     "text": [
      "[Parallel(n_jobs=-1)]: Using backend LokyBackend with 4 concurrent workers.\n",
      "[Parallel(n_jobs=-1)]: Done   5 out of  25 | elapsed:    0.1s remaining:    0.5s\n",
      "[Parallel(n_jobs=-1)]: Done  25 out of  25 | elapsed:    0.5s finished\n",
      "\n",
      "[2020-06-23 14:21:34] Features: 24/1 -- score: 0.8988494092752601[Parallel(n_jobs=-1)]: Using backend LokyBackend with 4 concurrent workers.\n",
      "[Parallel(n_jobs=-1)]: Done  24 out of  24 | elapsed:    0.4s finished\n",
      "\n",
      "[2020-06-23 14:21:34] Features: 23/1 -- score: 0.9035223064715218[Parallel(n_jobs=-1)]: Using backend LokyBackend with 4 concurrent workers.\n",
      "[Parallel(n_jobs=-1)]: Done  23 out of  23 | elapsed:    0.4s finished\n",
      "\n",
      "[2020-06-23 14:21:35] Features: 22/1 -- score: 0.910619820137542[Parallel(n_jobs=-1)]: Using backend LokyBackend with 4 concurrent workers.\n",
      "[Parallel(n_jobs=-1)]: Done  22 out of  22 | elapsed:    0.5s finished\n",
      "\n",
      "[2020-06-23 14:21:35] Features: 21/1 -- score: 0.9152927173338035[Parallel(n_jobs=-1)]: Using backend LokyBackend with 4 concurrent workers.\n",
      "[Parallel(n_jobs=-1)]: Done  21 out of  21 | elapsed:    0.4s finished\n",
      "\n",
      "[2020-06-23 14:21:36] Features: 20/1 -- score: 0.9129562687356727[Parallel(n_jobs=-1)]: Using backend LokyBackend with 4 concurrent workers.\n",
      "[Parallel(n_jobs=-1)]: Done  20 out of  20 | elapsed:    0.4s finished\n",
      "\n",
      "[2020-06-23 14:21:36] Features: 19/1 -- score: 0.9152706753658967[Parallel(n_jobs=-1)]: Using backend LokyBackend with 4 concurrent workers.\n",
      "[Parallel(n_jobs=-1)]: Done  19 out of  19 | elapsed:    0.4s finished\n",
      "\n",
      "[2020-06-23 14:21:36] Features: 18/1 -- score: 0.9199876564979721[Parallel(n_jobs=-1)]: Using backend LokyBackend with 4 concurrent workers.\n",
      "[Parallel(n_jobs=-1)]: Done  18 out of  18 | elapsed:    0.4s finished\n",
      "\n",
      "[2020-06-23 14:21:37] Features: 17/1 -- score: 0.9246825956621407[Parallel(n_jobs=-1)]: Using backend LokyBackend with 4 concurrent workers.\n",
      "[Parallel(n_jobs=-1)]: Done  17 out of  17 | elapsed:    0.4s finished\n",
      "\n",
      "[2020-06-23 14:21:37] Features: 16/1 -- score: 0.9246825956621407[Parallel(n_jobs=-1)]: Using backend LokyBackend with 4 concurrent workers.\n",
      "[Parallel(n_jobs=-1)]: Done  16 out of  16 | elapsed:    0.4s finished\n",
      "\n",
      "[2020-06-23 14:21:38] Features: 15/1 -- score: 0.9199656145300653[Parallel(n_jobs=-1)]: Using backend LokyBackend with 4 concurrent workers.\n",
      "[Parallel(n_jobs=-1)]: Done   8 out of  15 | elapsed:    0.2s remaining:    0.1s\n",
      "[Parallel(n_jobs=-1)]: Done  15 out of  15 | elapsed:    0.4s finished\n",
      "\n",
      "[2020-06-23 14:21:38] Features: 14/1 -- score: 0.9199435725621583[Parallel(n_jobs=-1)]: Using backend LokyBackend with 4 concurrent workers.\n",
      "[Parallel(n_jobs=-1)]: Done   7 out of  14 | elapsed:    0.2s remaining:    0.2s\n",
      "[Parallel(n_jobs=-1)]: Done  14 out of  14 | elapsed:    0.3s finished\n",
      "\n",
      "[2020-06-23 14:21:38] Features: 13/1 -- score: 0.9152486333979897[Parallel(n_jobs=-1)]: Using backend LokyBackend with 4 concurrent workers.\n",
      "[Parallel(n_jobs=-1)]: Done   6 out of  13 | elapsed:    0.2s remaining:    0.2s\n",
      "[Parallel(n_jobs=-1)]: Done  13 out of  13 | elapsed:    0.3s remaining:    0.0s\n",
      "[Parallel(n_jobs=-1)]: Done  13 out of  13 | elapsed:    0.3s finished\n",
      "\n",
      "[2020-06-23 14:21:39] Features: 12/1 -- score: 0.9058146711338388[Parallel(n_jobs=-1)]: Using backend LokyBackend with 4 concurrent workers.\n",
      "[Parallel(n_jobs=-1)]: Done   5 out of  12 | elapsed:    0.1s remaining:    0.2s\n",
      "[Parallel(n_jobs=-1)]: Done  12 out of  12 | elapsed:    0.3s remaining:    0.0s\n",
      "[Parallel(n_jobs=-1)]: Done  12 out of  12 | elapsed:    0.3s finished\n",
      "\n",
      "[2020-06-23 14:21:39] Features: 11/1 -- score: 0.9058146711338388[Parallel(n_jobs=-1)]: Using backend LokyBackend with 4 concurrent workers.\n",
      "[Parallel(n_jobs=-1)]: Done   4 out of  11 | elapsed:    0.1s remaining:    0.2s\n",
      "[Parallel(n_jobs=-1)]: Done  11 out of  11 | elapsed:    0.2s finished\n",
      "\n",
      "[2020-06-23 14:21:39] Features: 10/1 -- score: 0.8917298536413331[Parallel(n_jobs=-1)]: Using backend LokyBackend with 4 concurrent workers.\n",
      "[Parallel(n_jobs=-1)]: Done   3 out of  10 | elapsed:    0.1s remaining:    0.2s\n",
      "[Parallel(n_jobs=-1)]: Done  10 out of  10 | elapsed:    0.2s finished\n",
      "\n",
      "[2020-06-23 14:21:39] Features: 9/1 -- score: 0.8940883442073709[Parallel(n_jobs=-1)]: Using backend LokyBackend with 4 concurrent workers.\n",
      "[Parallel(n_jobs=-1)]: Done   7 out of   9 | elapsed:    0.2s remaining:    0.0s\n",
      "[Parallel(n_jobs=-1)]: Done   9 out of   9 | elapsed:    0.2s finished\n",
      "\n",
      "[2020-06-23 14:21:39] Features: 8/1 -- score: 0.8893934050432022[Parallel(n_jobs=-1)]: Using backend LokyBackend with 4 concurrent workers.\n",
      "[Parallel(n_jobs=-1)]: Done   6 out of   8 | elapsed:    0.1s remaining:    0.0s\n",
      "[Parallel(n_jobs=-1)]: Done   8 out of   8 | elapsed:    0.2s finished\n",
      "\n",
      "[2020-06-23 14:21:40] Features: 7/1 -- score: 0.880025568682772[Parallel(n_jobs=-1)]: Using backend LokyBackend with 4 concurrent workers.\n",
      "[Parallel(n_jobs=-1)]: Done   4 out of   7 | elapsed:    0.1s remaining:    0.1s\n",
      "[Parallel(n_jobs=-1)]: Done   7 out of   7 | elapsed:    0.1s finished\n",
      "\n",
      "[2020-06-23 14:21:40] Features: 6/1 -- score: 0.868299241756304[Parallel(n_jobs=-1)]: Using backend LokyBackend with 4 concurrent workers.\n",
      "[Parallel(n_jobs=-1)]: Done   3 out of   6 | elapsed:    0.1s remaining:    0.1s\n",
      "[Parallel(n_jobs=-1)]: Done   6 out of   6 | elapsed:    0.1s finished\n",
      "\n",
      "[2020-06-23 14:21:40] Features: 5/1 -- score: 0.8636263445600424[Parallel(n_jobs=-1)]: Using backend LokyBackend with 4 concurrent workers.\n",
      "[Parallel(n_jobs=-1)]: Done   5 out of   5 | elapsed:    0.1s finished\n",
      "\n",
      "[2020-06-23 14:21:40] Features: 4/1 -- score: 0.8518559336977606[Parallel(n_jobs=-1)]: Using backend LokyBackend with 4 concurrent workers.\n",
      "[Parallel(n_jobs=-1)]: Done   4 out of   4 | elapsed:    0.1s finished\n",
      "\n",
      "[2020-06-23 14:21:40] Features: 3/1 -- score: 0.8400855228354788[Parallel(n_jobs=-1)]: Using backend LokyBackend with 4 concurrent workers.\n",
      "[Parallel(n_jobs=-1)]: Done   3 out of   3 | elapsed:    0.1s finished\n",
      "\n",
      "[2020-06-23 14:21:40] Features: 2/1 -- score: 0.7671266090636573[Parallel(n_jobs=-1)]: Using backend LokyBackend with 4 concurrent workers.\n",
      "[Parallel(n_jobs=-1)]: Done   2 out of   2 | elapsed:    0.0s finished\n",
      "\n",
      "[2020-06-23 14:21:40] Features: 1/1 -- score: 0.7319035443484394"
     ]
    }
   ],
   "source": [
    "sbs=SFS(SVC(C=100, cache_size=200, class_weight=None, coef0=0.0,\n",
    "    decision_function_shape='ovr', degree=3, gamma='auto_deprecated',\n",
    "    kernel='rbf', max_iter=-1, probability=False, random_state=42,\n",
    "    shrinking=True, tol=0.001, verbose=False),\n",
    "        k_features=(1,25), forward=False, floating=False,verbose=2,\n",
    "        scoring='accuracy', cv=4, n_jobs=-1).fit(x_train,y_train)"
   ]
  },
  {
   "cell_type": "code",
   "execution_count": 164,
   "metadata": {},
   "outputs": [
    {
     "name": "stdout",
     "output_type": "stream",
     "text": [
      "('age', 'restbps', 'sex', 'fbs', 'exang', 'cp_1.0', 'cp_2.0', 'cp_4.0', 'restecg_0.0', 'restecg_1.0', 'slope_1.0', 'slope_2.0', 'major_vessels_0.0', 'major_vessels_1.0', 'major_vessels_2.0', 'thal_6.0', 'thal_7.0')\n",
      "[0, 1, 5, 6, 7, 8, 9, 11, 12, 13, 15, 16, 18, 19, 20, 23, 24]\n",
      "0.9246825956621407\n"
     ]
    }
   ],
   "source": [
    "print(sbs.k_feature_names_)\n",
    "feat_cols = list(sbs.k_feature_idx_)\n",
    "print(feat_cols)\n",
    "print(sbs.k_score_)"
   ]
  },
  {
   "cell_type": "code",
   "execution_count": 165,
   "metadata": {},
   "outputs": [],
   "source": [
    "x_train1=x_train.to_numpy()\n",
    "x_test1=x_test.to_numpy()"
   ]
  },
  {
   "cell_type": "code",
   "execution_count": 166,
   "metadata": {},
   "outputs": [
    {
     "data": {
      "text/plain": [
       "(142, 17)"
      ]
     },
     "execution_count": 166,
     "metadata": {},
     "output_type": "execute_result"
    }
   ],
   "source": [
    "x_train2=x_train1[:, feat_cols]\n",
    "x_train2 = pd.DataFrame(x_train2)\n",
    "x_test2=x_test1[:, feat_cols]\n",
    "x_test2.shape"
   ]
  },
  {
   "cell_type": "code",
   "execution_count": 167,
   "metadata": {},
   "outputs": [
    {
     "data": {
      "text/plain": [
       "SVC(C=100, cache_size=200, class_weight=None, coef0=0.0,\n",
       "    decision_function_shape='ovr', degree=3, gamma=0.001, kernel='rbf',\n",
       "    max_iter=-1, probability=False, random_state=42, shrinking=True, tol=0.001,\n",
       "    verbose=False)"
      ]
     },
     "execution_count": 167,
     "metadata": {},
     "output_type": "execute_result"
    }
   ],
   "source": [
    "model_svm=SVC(C=100, cache_size=200, class_weight=None, coef0=0.0,\n",
    "    decision_function_shape='ovr', degree=3, gamma=0.001,\n",
    "    kernel='rbf', max_iter=-1, probability=False, random_state=42,\n",
    "    shrinking=True, tol=0.001, verbose=False)\n",
    "\n",
    "model_svm.fit(x_train2,y_train)"
   ]
  },
  {
   "cell_type": "code",
   "execution_count": 168,
   "metadata": {},
   "outputs": [
    {
     "name": "stdout",
     "output_type": "stream",
     "text": [
      "Confusion matrix:\n",
      " [[72 13]\n",
      " [ 8 49]]\n",
      "Train Accuracy : 86.35300000000001 %\n",
      "Test Accuracy  : 85.211 %\n",
      "classification report of SVM\n",
      "               precision    recall  f1-score   support\n",
      "\n",
      "           0       0.90      0.85      0.87        85\n",
      "           1       0.79      0.86      0.82        57\n",
      "\n",
      "    accuracy                           0.85       142\n",
      "   macro avg       0.85      0.85      0.85       142\n",
      "weighted avg       0.86      0.85      0.85       142\n",
      "\n",
      "0.14788732394366197\n"
     ]
    }
   ],
   "source": [
    "y_pred=model_svm.predict(x_test2)\n",
    "cm=confusion_matrix(y_test,y_pred)\n",
    "TN = cm[0, 0]\n",
    "TP = cm[1, 1]\n",
    "FN = cm[1, 0]\n",
    "FP = cm[0, 1]\n",
    "print(\"Confusion matrix:\\n\",cm)\n",
    "print(\"Train Accuracy :\",round(accuracy_score(y_train,model_svm.predict(x_train2)),5)*100,'%')\n",
    "print(\"Test Accuracy  :\",round(accuracy_score(y_test,y_pred),5)*100,'%')\n",
    "print(\"classification report of SVM\\n\",classification_report(y_test,y_pred))\n",
    "models.append(\"model_svm\")\n",
    "#score.append(accuracy_score(y_test,y_pred))\n",
    "classification_error = (FP + FN) / float(TP + TN + FP + FN)\n",
    "print(classification_error)"
   ]
  },
  {
   "cell_type": "code",
   "execution_count": 169,
   "metadata": {},
   "outputs": [
    {
     "name": "stdout",
     "output_type": "stream",
     "text": [
      "sensitivity of SVM:-  0.8596491228070176\n",
      "Specificity of SVM:-  0.8470588235294118\n"
     ]
    }
   ],
   "source": [
    "sensitivity=TP/float(TP+FN)\n",
    "#print(\"precision of logistic regression:- \",precision) \n",
    "print(\"sensitivity of SVM:- \",sensitivity) #recall\n",
    "sen.append(sensitivity)\n",
    "Specificity=TN/float(TN+FP)\n",
    "print(\"Specificity of SVM:- \",Specificity) #recall\n",
    "spec2.append(Specificity)"
   ]
  },
  {
   "cell_type": "code",
   "execution_count": 170,
   "metadata": {},
   "outputs": [],
   "source": [
    "#Naive Bayes (Step Backward)"
   ]
  },
  {
   "cell_type": "code",
   "execution_count": 171,
   "metadata": {},
   "outputs": [
    {
     "name": "stderr",
     "output_type": "stream",
     "text": [
      "[Parallel(n_jobs=-1)]: Using backend LokyBackend with 4 concurrent workers.\n",
      "[Parallel(n_jobs=-1)]: Done   5 out of  25 | elapsed:    0.1s remaining:    0.3s\n",
      "[Parallel(n_jobs=-1)]: Done  25 out of  25 | elapsed:    0.2s finished\n",
      "\n",
      "[2020-06-23 14:21:41] Features: 24/1 -- score: 0.8470948686298713[Parallel(n_jobs=-1)]: Using backend LokyBackend with 4 concurrent workers.\n",
      "[Parallel(n_jobs=-1)]: Done   4 out of  24 | elapsed:    0.0s remaining:    0.2s\n",
      "[Parallel(n_jobs=-1)]: Done  24 out of  24 | elapsed:    0.2s finished\n",
      "\n",
      "[2020-06-23 14:21:42] Features: 23/1 -- score: 0.8518118497619468[Parallel(n_jobs=-1)]: Using backend LokyBackend with 4 concurrent workers.\n",
      "[Parallel(n_jobs=-1)]: Done   4 out of  23 | elapsed:    0.1s remaining:    0.3s\n",
      "[Parallel(n_jobs=-1)]: Done  23 out of  23 | elapsed:    0.2s finished\n",
      "\n",
      "[2020-06-23 14:21:42] Features: 22/1 -- score: 0.8542364662317051[Parallel(n_jobs=-1)]: Using backend LokyBackend with 4 concurrent workers.\n",
      "[Parallel(n_jobs=-1)]: Done  22 out of  22 | elapsed:    0.2s finished\n",
      "\n",
      "[2020-06-23 14:21:42] Features: 21/1 -- score: 0.8542364662317051[Parallel(n_jobs=-1)]: Using backend LokyBackend with 4 concurrent workers.\n",
      "[Parallel(n_jobs=-1)]: Done   3 out of  21 | elapsed:    0.0s remaining:    0.2s\n",
      "[Parallel(n_jobs=-1)]: Done  21 out of  21 | elapsed:    0.2s finished\n",
      "\n",
      "[2020-06-23 14:21:42] Features: 20/1 -- score: 0.8542364662317051[Parallel(n_jobs=-1)]: Using backend LokyBackend with 4 concurrent workers.\n",
      "[Parallel(n_jobs=-1)]: Done  20 out of  20 | elapsed:    0.2s finished\n",
      "\n",
      "[2020-06-23 14:21:42] Features: 19/1 -- score: 0.8542364662317051[Parallel(n_jobs=-1)]: Using backend LokyBackend with 4 concurrent workers.\n",
      "[Parallel(n_jobs=-1)]: Done  19 out of  19 | elapsed:    0.3s finished\n",
      "\n",
      "[2020-06-23 14:21:43] Features: 18/1 -- score: 0.8542364662317051[Parallel(n_jobs=-1)]: Using backend LokyBackend with 4 concurrent workers.\n",
      "[Parallel(n_jobs=-1)]: Done  18 out of  18 | elapsed:    0.2s finished\n",
      "\n",
      "[2020-06-23 14:21:43] Features: 17/1 -- score: 0.8519220596014813[Parallel(n_jobs=-1)]: Using backend LokyBackend with 4 concurrent workers.\n",
      "[Parallel(n_jobs=-1)]: Done  17 out of  17 | elapsed:    0.2s finished\n",
      "\n",
      "[2020-06-23 14:21:43] Features: 16/1 -- score: 0.8519220596014813[Parallel(n_jobs=-1)]: Using backend LokyBackend with 4 concurrent workers.\n",
      "[Parallel(n_jobs=-1)]: Done  16 out of  16 | elapsed:    0.2s finished\n",
      "\n",
      "[2020-06-23 14:21:43] Features: 15/1 -- score: 0.8519220596014813[Parallel(n_jobs=-1)]: Using backend LokyBackend with 4 concurrent workers.\n",
      "[Parallel(n_jobs=-1)]: Done   8 out of  15 | elapsed:    0.1s remaining:    0.1s\n",
      "[Parallel(n_jobs=-1)]: Done  15 out of  15 | elapsed:    0.2s finished\n",
      "\n",
      "[2020-06-23 14:21:43] Features: 14/1 -- score: 0.8542144242637982[Parallel(n_jobs=-1)]: Using backend LokyBackend with 4 concurrent workers.\n",
      "[Parallel(n_jobs=-1)]: Done   7 out of  14 | elapsed:    0.1s remaining:    0.1s\n",
      "[Parallel(n_jobs=-1)]: Done  14 out of  14 | elapsed:    0.1s finished\n",
      "\n",
      "[2020-06-23 14:21:44] Features: 13/1 -- score: 0.8519000176335744[Parallel(n_jobs=-1)]: Using backend LokyBackend with 4 concurrent workers.\n",
      "[Parallel(n_jobs=-1)]: Done   6 out of  13 | elapsed:    0.1s remaining:    0.1s\n",
      "[Parallel(n_jobs=-1)]: Done  13 out of  13 | elapsed:    0.1s remaining:    0.0s\n",
      "[Parallel(n_jobs=-1)]: Done  13 out of  13 | elapsed:    0.1s finished\n",
      "\n",
      "[2020-06-23 14:21:44] Features: 12/1 -- score: 0.8542144242637983[Parallel(n_jobs=-1)]: Using backend LokyBackend with 4 concurrent workers.\n",
      "[Parallel(n_jobs=-1)]: Done   5 out of  12 | elapsed:    0.1s remaining:    0.1s\n",
      "[Parallel(n_jobs=-1)]: Done  12 out of  12 | elapsed:    0.2s remaining:    0.0s\n",
      "[Parallel(n_jobs=-1)]: Done  12 out of  12 | elapsed:    0.2s finished\n",
      "\n",
      "[2020-06-23 14:21:44] Features: 11/1 -- score: 0.844846587903368[Parallel(n_jobs=-1)]: Using backend LokyBackend with 4 concurrent workers.\n",
      "[Parallel(n_jobs=-1)]: Done   4 out of  11 | elapsed:    0.1s remaining:    0.1s\n",
      "[Parallel(n_jobs=-1)]: Done  11 out of  11 | elapsed:    0.2s finished\n",
      "\n",
      "[2020-06-23 14:21:44] Features: 10/1 -- score: 0.8448465879033681[Parallel(n_jobs=-1)]: Using backend LokyBackend with 4 concurrent workers.\n",
      "[Parallel(n_jobs=-1)]: Done   3 out of  10 | elapsed:    0.1s remaining:    0.2s\n",
      "[Parallel(n_jobs=-1)]: Done  10 out of  10 | elapsed:    0.2s finished\n",
      "\n",
      "[2020-06-23 14:21:44] Features: 9/1 -- score: 0.8448245459354612[Parallel(n_jobs=-1)]: Using backend LokyBackend with 4 concurrent workers.\n",
      "[Parallel(n_jobs=-1)]: Done   7 out of   9 | elapsed:    0.1s remaining:    0.0s\n",
      "[Parallel(n_jobs=-1)]: Done   9 out of   9 | elapsed:    0.1s finished\n",
      "\n",
      "[2020-06-23 14:21:44] Features: 8/1 -- score: 0.8424440134015165[Parallel(n_jobs=-1)]: Using backend LokyBackend with 4 concurrent workers.\n",
      "[Parallel(n_jobs=-1)]: Done   6 out of   8 | elapsed:    0.1s remaining:    0.0s\n",
      "[Parallel(n_jobs=-1)]: Done   8 out of   8 | elapsed:    0.1s finished\n",
      "\n",
      "[2020-06-23 14:21:44] Features: 7/1 -- score: 0.8447804619996473[Parallel(n_jobs=-1)]: Using backend LokyBackend with 4 concurrent workers.\n",
      "[Parallel(n_jobs=-1)]: Done   4 out of   7 | elapsed:    0.1s remaining:    0.0s\n",
      "[Parallel(n_jobs=-1)]: Done   7 out of   7 | elapsed:    0.1s finished\n",
      "\n",
      "[2020-06-23 14:21:44] Features: 6/1 -- score: 0.8400855228354788[Parallel(n_jobs=-1)]: Using backend LokyBackend with 4 concurrent workers.\n",
      "[Parallel(n_jobs=-1)]: Done   3 out of   6 | elapsed:    0.0s remaining:    0.0s\n",
      "[Parallel(n_jobs=-1)]: Done   6 out of   6 | elapsed:    0.1s finished\n",
      "\n",
      "[2020-06-23 14:21:45] Features: 5/1 -- score: 0.8519000176335743[Parallel(n_jobs=-1)]: Using backend LokyBackend with 4 concurrent workers.\n",
      "[Parallel(n_jobs=-1)]: Done   5 out of   5 | elapsed:    0.1s finished\n",
      "\n",
      "[2020-06-23 14:21:45] Features: 4/1 -- score: 0.8424660553694234[Parallel(n_jobs=-1)]: Using backend LokyBackend with 4 concurrent workers.\n",
      "[Parallel(n_jobs=-1)]: Done   4 out of   4 | elapsed:    0.0s finished\n",
      "\n",
      "[2020-06-23 14:21:45] Features: 3/1 -- score: 0.8400855228354788[Parallel(n_jobs=-1)]: Using backend LokyBackend with 4 concurrent workers.\n",
      "[Parallel(n_jobs=-1)]: Done   3 out of   3 | elapsed:    0.0s finished\n",
      "\n",
      "[2020-06-23 14:21:45] Features: 2/1 -- score: 0.7671266090636573[Parallel(n_jobs=-1)]: Using backend LokyBackend with 4 concurrent workers.\n",
      "[Parallel(n_jobs=-1)]: Done   2 out of   2 | elapsed:    0.0s finished\n",
      "\n",
      "[2020-06-23 14:21:45] Features: 1/1 -- score: 0.7319035443484394"
     ]
    }
   ],
   "source": [
    "sbs=SFS(BernoulliNB(alpha=1.0, binarize=0.0, class_prior=None, fit_prior=True),\n",
    "        k_features=(1,25), forward=False, floating=False,verbose=2,\n",
    "        scoring='accuracy', cv=4, n_jobs=-1).fit(x_train,y_train)"
   ]
  },
  {
   "cell_type": "code",
   "execution_count": 172,
   "metadata": {},
   "outputs": [
    {
     "name": "stdout",
     "output_type": "stream",
     "text": [
      "('age', 'restbps', 'chol', 'maximum_heart_rate', 'fbs', 'exang', 'cp_1.0', 'cp_2.0', 'cp_3.0', 'cp_4.0', 'restecg_0.0', 'restecg_1.0', 'restecg_2.0', 'slope_1.0', 'slope_2.0', 'slope_3.0', 'major_vessels_0.0', 'major_vessels_1.0', 'major_vessels_2.0', 'major_vessels_3.0', 'thal_6.0', 'thal_7.0')\n",
      "[0, 1, 2, 3, 6, 7, 8, 9, 10, 11, 12, 13, 14, 15, 16, 17, 18, 19, 20, 21, 23, 24]\n",
      "0.8542364662317051\n"
     ]
    }
   ],
   "source": [
    "print(sbs.k_feature_names_)\n",
    "feat_cols = list(sbs.k_feature_idx_)\n",
    "print(feat_cols)\n",
    "print(sbs.k_score_)"
   ]
  },
  {
   "cell_type": "code",
   "execution_count": 173,
   "metadata": {},
   "outputs": [],
   "source": [
    "x_train1=x_train.to_numpy()\n",
    "x_test1=x_test.to_numpy()"
   ]
  },
  {
   "cell_type": "code",
   "execution_count": 174,
   "metadata": {},
   "outputs": [
    {
     "data": {
      "text/plain": [
       "(142, 22)"
      ]
     },
     "execution_count": 174,
     "metadata": {},
     "output_type": "execute_result"
    }
   ],
   "source": [
    "x_train2=x_train1[:, feat_cols]\n",
    "x_train2 = pd.DataFrame(x_train2)\n",
    "x_test2=x_test1[:, feat_cols]\n",
    "x_test2.shape"
   ]
  },
  {
   "cell_type": "code",
   "execution_count": 175,
   "metadata": {},
   "outputs": [
    {
     "data": {
      "text/plain": [
       "BernoulliNB(alpha=1.0, binarize=0.0, class_prior=None, fit_prior=True)"
      ]
     },
     "execution_count": 175,
     "metadata": {},
     "output_type": "execute_result"
    }
   ],
   "source": [
    "model_nb=BernoulliNB(alpha=1.0, binarize=0.0, class_prior=None, fit_prior=True)\n",
    "model_nb.fit(x_train2,y_train)"
   ]
  },
  {
   "cell_type": "code",
   "execution_count": 176,
   "metadata": {},
   "outputs": [
    {
     "name": "stdout",
     "output_type": "stream",
     "text": [
      "Confusion matrix:\n",
      " [[65 20]\n",
      " [ 8 49]]\n",
      "Train Accuracy : 85.412 %\n",
      "Test Accuracy  : 80.282 %\n",
      "classification report of Naive Bayes\n",
      "               precision    recall  f1-score   support\n",
      "\n",
      "           0       0.89      0.76      0.82        85\n",
      "           1       0.71      0.86      0.78        57\n",
      "\n",
      "    accuracy                           0.80       142\n",
      "   macro avg       0.80      0.81      0.80       142\n",
      "weighted avg       0.82      0.80      0.80       142\n",
      "\n",
      "0.19718309859154928\n"
     ]
    }
   ],
   "source": [
    "y_pred=model_nb.predict(x_test2)\n",
    "cm=confusion_matrix(y_test,y_pred)\n",
    "TN = cm[0, 0]\n",
    "TP = cm[1, 1]\n",
    "FN = cm[1, 0]\n",
    "FP = cm[0, 1]\n",
    "print(\"Confusion matrix:\\n\",cm)\n",
    "print(\"Train Accuracy :\",round(accuracy_score(y_train,model_nb.predict(x_train2)),5)*100,'%')\n",
    "print(\"Test Accuracy  :\",round(accuracy_score(y_test,y_pred),5)*100,'%')\n",
    "print(\"classification report of Naive Bayes\\n\",classification_report(y_test,y_pred))\n",
    "models.append(\"model_nb\")\n",
    "#score.append(accuracy_score(y_test,y_pred))\n",
    "classification_error = (FP + FN) / float(TP + TN + FP + FN)\n",
    "print(classification_error)"
   ]
  },
  {
   "cell_type": "code",
   "execution_count": 177,
   "metadata": {},
   "outputs": [
    {
     "name": "stdout",
     "output_type": "stream",
     "text": [
      "sensitivity of Naive Bayes:-  0.8596491228070176\n",
      "Specificity of Naive Bayes:-  0.7647058823529411\n"
     ]
    }
   ],
   "source": [
    "sensitivity=TP/float(TP+FN)\n",
    "#print(\"precision of logistic regression:- \",precision) \n",
    "print(\"sensitivity of Naive Bayes:- \",sensitivity) #recall\n",
    "sen.append(sensitivity)\n",
    "Specificity=TN/float(TN+FP)\n",
    "print(\"Specificity of Naive Bayes:- \",Specificity) #recall\n",
    "spec2.append(Specificity)"
   ]
  },
  {
   "cell_type": "code",
   "execution_count": 178,
   "metadata": {},
   "outputs": [],
   "source": [
    "#Random Forest Regression (Step Backward)"
   ]
  },
  {
   "cell_type": "code",
   "execution_count": 179,
   "metadata": {},
   "outputs": [
    {
     "name": "stderr",
     "output_type": "stream",
     "text": [
      "[Parallel(n_jobs=-1)]: Using backend LokyBackend with 4 concurrent workers.\n",
      "[Parallel(n_jobs=-1)]: Done  18 out of  25 | elapsed:    1.0s remaining:    0.4s\n",
      "[Parallel(n_jobs=-1)]: Done  25 out of  25 | elapsed:    1.1s finished\n",
      "\n",
      "[2020-06-23 14:21:47] Features: 24/1 -- score: 0.9316919414565332[Parallel(n_jobs=-1)]: Using backend LokyBackend with 4 concurrent workers.\n",
      "[Parallel(n_jobs=-1)]: Done  24 out of  24 | elapsed:    1.3s finished\n",
      "\n",
      "[2020-06-23 14:21:48] Features: 23/1 -- score: 0.931736025392347[Parallel(n_jobs=-1)]: Using backend LokyBackend with 4 concurrent workers.\n",
      "[Parallel(n_jobs=-1)]: Done  16 out of  23 | elapsed:    0.9s remaining:    0.4s\n",
      "[Parallel(n_jobs=-1)]: Done  23 out of  23 | elapsed:    1.2s finished\n",
      "\n",
      "[2020-06-23 14:21:49] Features: 22/1 -- score: 0.9246825956621407[Parallel(n_jobs=-1)]: Using backend LokyBackend with 4 concurrent workers.\n",
      "[Parallel(n_jobs=-1)]: Done  22 out of  22 | elapsed:    1.2s finished\n",
      "\n",
      "[2020-06-23 14:21:51] Features: 21/1 -- score: 0.9223902309998235[Parallel(n_jobs=-1)]: Using backend LokyBackend with 4 concurrent workers.\n",
      "[Parallel(n_jobs=-1)]: Done  14 out of  21 | elapsed:    0.7s remaining:    0.4s\n",
      "[Parallel(n_jobs=-1)]: Done  21 out of  21 | elapsed:    1.0s finished\n",
      "\n",
      "[2020-06-23 14:21:52] Features: 20/1 -- score: 0.9223681890319169[Parallel(n_jobs=-1)]: Using backend LokyBackend with 4 concurrent workers.\n",
      "[Parallel(n_jobs=-1)]: Done  20 out of  20 | elapsed:    1.0s finished\n",
      "\n",
      "[2020-06-23 14:21:53] Features: 19/1 -- score: 0.9364530065244225[Parallel(n_jobs=-1)]: Using backend LokyBackend with 4 concurrent workers.\n",
      "[Parallel(n_jobs=-1)]: Done  12 out of  19 | elapsed:    0.7s remaining:    0.4s\n",
      "[Parallel(n_jobs=-1)]: Done  19 out of  19 | elapsed:    0.9s finished\n",
      "\n",
      "[2020-06-23 14:21:53] Features: 18/1 -- score: 0.9247487215658614[Parallel(n_jobs=-1)]: Using backend LokyBackend with 4 concurrent workers.\n",
      "[Parallel(n_jobs=-1)]: Done  18 out of  18 | elapsed:    0.8s finished\n",
      "\n",
      "[2020-06-23 14:21:54] Features: 17/1 -- score: 0.931736025392347[Parallel(n_jobs=-1)]: Using backend LokyBackend with 4 concurrent workers.\n",
      "[Parallel(n_jobs=-1)]: Done  10 out of  17 | elapsed:    0.9s remaining:    0.6s\n",
      "[Parallel(n_jobs=-1)]: Done  17 out of  17 | elapsed:    1.0s finished\n",
      "\n",
      "[2020-06-23 14:21:55] Features: 16/1 -- score: 0.9247487215658614[Parallel(n_jobs=-1)]: Using backend LokyBackend with 4 concurrent workers.\n",
      "[Parallel(n_jobs=-1)]: Done  16 out of  16 | elapsed:    0.9s finished\n",
      "\n",
      "[2020-06-23 14:21:56] Features: 15/1 -- score: 0.936563216363957[Parallel(n_jobs=-1)]: Using backend LokyBackend with 4 concurrent workers.\n",
      "[Parallel(n_jobs=-1)]: Done   8 out of  15 | elapsed:    0.4s remaining:    0.3s\n",
      "[Parallel(n_jobs=-1)]: Done  15 out of  15 | elapsed:    0.7s finished\n",
      "\n",
      "[2020-06-23 14:21:57] Features: 14/1 -- score: 0.9223902309998236[Parallel(n_jobs=-1)]: Using backend LokyBackend with 4 concurrent workers.\n",
      "[Parallel(n_jobs=-1)]: Done   7 out of  14 | elapsed:    0.4s remaining:    0.4s\n",
      "[Parallel(n_jobs=-1)]: Done  14 out of  14 | elapsed:    0.6s finished\n",
      "\n",
      "[2020-06-23 14:21:58] Features: 13/1 -- score: 0.929421618762123[Parallel(n_jobs=-1)]: Using backend LokyBackend with 4 concurrent workers.\n",
      "[Parallel(n_jobs=-1)]: Done   6 out of  13 | elapsed:    0.4s remaining:    0.4s\n",
      "[Parallel(n_jobs=-1)]: Done  13 out of  13 | elapsed:    0.6s remaining:    0.0s\n",
      "[Parallel(n_jobs=-1)]: Done  13 out of  13 | elapsed:    0.6s finished\n",
      "\n",
      "[2020-06-23 14:21:58] Features: 12/1 -- score: 0.9294436607300299[Parallel(n_jobs=-1)]: Using backend LokyBackend with 4 concurrent workers.\n",
      "[Parallel(n_jobs=-1)]: Done   5 out of  12 | elapsed:    0.3s remaining:    0.4s\n",
      "[Parallel(n_jobs=-1)]: Done  12 out of  12 | elapsed:    0.5s remaining:    0.0s\n",
      "[Parallel(n_jobs=-1)]: Done  12 out of  12 | elapsed:    0.5s finished\n",
      "\n",
      "[2020-06-23 14:21:59] Features: 11/1 -- score: 0.9222800211602892[Parallel(n_jobs=-1)]: Using backend LokyBackend with 4 concurrent workers.\n",
      "[Parallel(n_jobs=-1)]: Done   4 out of  11 | elapsed:    0.2s remaining:    0.4s\n",
      "[Parallel(n_jobs=-1)]: Done  11 out of  11 | elapsed:    0.6s finished\n",
      "\n",
      "[2020-06-23 14:21:59] Features: 10/1 -- score: 0.9152927173338036[Parallel(n_jobs=-1)]: Using backend LokyBackend with 4 concurrent workers.\n",
      "[Parallel(n_jobs=-1)]: Done   3 out of  10 | elapsed:    0.2s remaining:    0.4s\n",
      "[Parallel(n_jobs=-1)]: Done  10 out of  10 | elapsed:    0.5s finished\n",
      "\n",
      "[2020-06-23 14:22:00] Features: 9/1 -- score: 0.9200096984658791[Parallel(n_jobs=-1)]: Using backend LokyBackend with 4 concurrent workers.\n",
      "[Parallel(n_jobs=-1)]: Done   7 out of   9 | elapsed:    0.4s remaining:    0.1s\n",
      "[Parallel(n_jobs=-1)]: Done   9 out of   9 | elapsed:    0.4s finished\n",
      "\n",
      "[2020-06-23 14:22:00] Features: 8/1 -- score: 0.9176512078998413[Parallel(n_jobs=-1)]: Using backend LokyBackend with 4 concurrent workers.\n",
      "[Parallel(n_jobs=-1)]: Done   6 out of   8 | elapsed:    0.3s remaining:    0.1s\n",
      "[Parallel(n_jobs=-1)]: Done   8 out of   8 | elapsed:    0.4s finished\n",
      "\n",
      "[2020-06-23 14:22:01] Features: 7/1 -- score: 0.9059248809733732[Parallel(n_jobs=-1)]: Using backend LokyBackend with 4 concurrent workers.\n",
      "[Parallel(n_jobs=-1)]: Done   4 out of   7 | elapsed:    0.2s remaining:    0.1s\n",
      "[Parallel(n_jobs=-1)]: Done   7 out of   7 | elapsed:    0.3s finished\n",
      "\n",
      "[2020-06-23 14:22:01] Features: 6/1 -- score: 0.9059469229412802[Parallel(n_jobs=-1)]: Using backend LokyBackend with 4 concurrent workers.\n",
      "[Parallel(n_jobs=-1)]: Done   3 out of   6 | elapsed:    0.2s remaining:    0.2s\n",
      "[Parallel(n_jobs=-1)]: Done   6 out of   6 | elapsed:    0.3s finished\n",
      "\n",
      "[2020-06-23 14:22:01] Features: 5/1 -- score: 0.9012740257450185[Parallel(n_jobs=-1)]: Using backend LokyBackend with 4 concurrent workers.\n",
      "[Parallel(n_jobs=-1)]: Done   5 out of   5 | elapsed:    0.3s finished\n",
      "\n",
      "[2020-06-23 14:22:01] Features: 4/1 -- score: 0.8942426379827191[Parallel(n_jobs=-1)]: Using backend LokyBackend with 4 concurrent workers.\n",
      "[Parallel(n_jobs=-1)]: Done   4 out of   4 | elapsed:    0.2s finished\n",
      "\n",
      "[2020-06-23 14:22:02] Features: 3/1 -- score: 0.8683433256921178[Parallel(n_jobs=-1)]: Using backend LokyBackend with 4 concurrent workers.\n",
      "[Parallel(n_jobs=-1)]: Done   3 out of   3 | elapsed:    0.2s finished\n",
      "\n",
      "[2020-06-23 14:22:02] Features: 2/1 -- score: 0.8329659672015518[Parallel(n_jobs=-1)]: Using backend LokyBackend with 4 concurrent workers.\n",
      "[Parallel(n_jobs=-1)]: Done   2 out of   2 | elapsed:    0.1s finished\n",
      "\n",
      "[2020-06-23 14:22:02] Features: 1/1 -- score: 0.7319035443484394"
     ]
    }
   ],
   "source": [
    "sbs=SFS(RandomForestClassifier(random_state=42),\n",
    "        k_features=(1,25), forward=False, floating=False,verbose=2,\n",
    "        scoring='accuracy', cv=4, n_jobs=-1).fit(x_train,y_train)"
   ]
  },
  {
   "cell_type": "code",
   "execution_count": 180,
   "metadata": {},
   "outputs": [
    {
     "name": "stdout",
     "output_type": "stream",
     "text": [
      "('age', 'chol', 'oldpeak', 'sex', 'cp_1.0', 'cp_3.0', 'cp_4.0', 'restecg_0.0', 'slope_2.0', 'slope_3.0', 'major_vessels_0.0', 'major_vessels_1.0', 'major_vessels_2.0', 'major_vessels_3.0', 'thal_7.0')\n",
      "[0, 2, 4, 5, 8, 10, 11, 12, 16, 17, 18, 19, 20, 21, 24]\n",
      "0.936563216363957\n"
     ]
    }
   ],
   "source": [
    "print(sbs.k_feature_names_)\n",
    "feat_cols = list(sbs.k_feature_idx_)\n",
    "print(feat_cols)\n",
    "print(sbs.k_score_)"
   ]
  },
  {
   "cell_type": "code",
   "execution_count": 181,
   "metadata": {},
   "outputs": [],
   "source": [
    "x_train1=x_train.to_numpy()\n",
    "x_test1=x_test.to_numpy()"
   ]
  },
  {
   "cell_type": "code",
   "execution_count": 182,
   "metadata": {},
   "outputs": [
    {
     "data": {
      "text/plain": [
       "(142, 15)"
      ]
     },
     "execution_count": 182,
     "metadata": {},
     "output_type": "execute_result"
    }
   ],
   "source": [
    "x_train2=x_train1[:, feat_cols]\n",
    "x_train2 = pd.DataFrame(x_train2)\n",
    "x_test2=x_test1[:, feat_cols]\n",
    "x_test2.shape"
   ]
  },
  {
   "cell_type": "code",
   "execution_count": 183,
   "metadata": {},
   "outputs": [],
   "source": [
    "# Number of trees in random forest\n",
    "n_estimators = [int(x) for x in np.linspace(start = 200, stop = 2000, num = 10)]\n",
    "max_features = ['auto', 'sqrt'] # Number of features to consider at every split\n",
    "max_depth = [int(x) for x in np.linspace(10, 110, num = 11)] # Maximum number of levels in tree\n",
    "max_depth.append(None)\n",
    "min_samples_split = [2, 5, 10] # Minimum number of samples required to split a node\n",
    "min_samples_leaf = [1, 2, 4] # Minimum number of samples required at each leaf node\n",
    "bootstrap = [True, False]# Method of selecting samples for training each tree"
   ]
  },
  {
   "cell_type": "code",
   "execution_count": 184,
   "metadata": {},
   "outputs": [],
   "source": [
    "random_grid = {'n_estimators': n_estimators, 'max_features': max_features,'max_depth': max_depth,\n",
    "               'min_samples_split': min_samples_split, 'min_samples_leaf': min_samples_leaf,\n",
    "               'bootstrap': bootstrap}"
   ]
  },
  {
   "cell_type": "code",
   "execution_count": 185,
   "metadata": {},
   "outputs": [
    {
     "name": "stdout",
     "output_type": "stream",
     "text": [
      "Fitting 3 folds for each of 100 candidates, totalling 300 fits\n"
     ]
    },
    {
     "name": "stderr",
     "output_type": "stream",
     "text": [
      "[Parallel(n_jobs=-1)]: Using backend LokyBackend with 4 concurrent workers.\n",
      "[Parallel(n_jobs=-1)]: Done  33 tasks      | elapsed:   28.5s\n",
      "[Parallel(n_jobs=-1)]: Done 154 tasks      | elapsed:  2.2min\n",
      "[Parallel(n_jobs=-1)]: Done 300 out of 300 | elapsed:  4.3min finished\n"
     ]
    },
    {
     "data": {
      "text/plain": [
       "RandomizedSearchCV(cv=3, error_score='raise-deprecating',\n",
       "                   estimator=RandomForestClassifier(bootstrap=True,\n",
       "                                                    class_weight=None,\n",
       "                                                    criterion='gini',\n",
       "                                                    max_depth=None,\n",
       "                                                    max_features='auto',\n",
       "                                                    max_leaf_nodes=None,\n",
       "                                                    min_impurity_decrease=0.0,\n",
       "                                                    min_impurity_split=None,\n",
       "                                                    min_samples_leaf=1,\n",
       "                                                    min_samples_split=2,\n",
       "                                                    min_weight_fraction_leaf=0.0,\n",
       "                                                    n_estimators='warn',\n",
       "                                                    n_jobs=None,\n",
       "                                                    oob_sc...\n",
       "                   param_distributions={'bootstrap': [True, False],\n",
       "                                        'max_depth': [10, 20, 30, 40, 50, 60,\n",
       "                                                      70, 80, 90, 100, 110,\n",
       "                                                      None],\n",
       "                                        'max_features': ['auto', 'sqrt'],\n",
       "                                        'min_samples_leaf': [1, 2, 4],\n",
       "                                        'min_samples_split': [2, 5, 10],\n",
       "                                        'n_estimators': [200, 400, 600, 800,\n",
       "                                                         1000, 1200, 1400, 1600,\n",
       "                                                         1800, 2000]},\n",
       "                   pre_dispatch='2*n_jobs', random_state=42, refit=True,\n",
       "                   return_train_score=False, scoring=None, verbose=2)"
      ]
     },
     "execution_count": 185,
     "metadata": {},
     "output_type": "execute_result"
    }
   ],
   "source": [
    "model_rf = RandomizedSearchCV(estimator = RandomForestClassifier(), param_distributions = random_grid, n_iter = 100, cv = 3, verbose=2, random_state=42, n_jobs = -1)# Fit the random search model\n",
    "model_rf.fit(x_train2, y_train)"
   ]
  },
  {
   "cell_type": "code",
   "execution_count": 186,
   "metadata": {},
   "outputs": [
    {
     "name": "stdout",
     "output_type": "stream",
     "text": [
      "Confusion matrix:\n",
      " [[76  9]\n",
      " [ 3 54]]\n",
      "Train Accuracy : 100.0 %\n",
      "Test Accuracy  : 91.549 %\n",
      "classification report of Random Forest\n",
      "               precision    recall  f1-score   support\n",
      "\n",
      "           0       0.96      0.89      0.93        85\n",
      "           1       0.86      0.95      0.90        57\n",
      "\n",
      "    accuracy                           0.92       142\n",
      "   macro avg       0.91      0.92      0.91       142\n",
      "weighted avg       0.92      0.92      0.92       142\n",
      "\n",
      "0.08450704225352113\n"
     ]
    }
   ],
   "source": [
    "y_pred=model_rf.predict(x_test2)\n",
    "cm=confusion_matrix(y_test,y_pred)\n",
    "TN = cm[0, 0]\n",
    "TP = cm[1, 1]\n",
    "FN = cm[1, 0]\n",
    "FP = cm[0, 1]\n",
    "print(\"Confusion matrix:\\n\",cm)\n",
    "print(\"Train Accuracy :\",round(accuracy_score(y_train,model_rf.predict(x_train2)),5)*100,'%')\n",
    "print(\"Test Accuracy  :\",round(accuracy_score(y_test,y_pred),5)*100,'%')\n",
    "print(\"classification report of Random Forest\\n\",classification_report(y_test,y_pred))\n",
    "models.append(\"model_rf\")\n",
    "#score.append(accuracy_score(y_test,y_pred))\n",
    "classification_error = (FP + FN) / float(TP + TN + FP + FN)\n",
    "print(classification_error)"
   ]
  },
  {
   "cell_type": "code",
   "execution_count": 187,
   "metadata": {},
   "outputs": [
    {
     "name": "stdout",
     "output_type": "stream",
     "text": [
      "sensitivity of Random Forest:-  0.9473684210526315\n",
      "Specificity of Random Forest:-  0.8941176470588236\n"
     ]
    }
   ],
   "source": [
    "sensitivity=TP/float(TP+FN)\n",
    "#print(\"precision of logistic regression:- \",precision) \n",
    "print(\"sensitivity of Random Forest:- \",sensitivity) #recall\n",
    "sen.append(sensitivity)\n",
    "Specificity=TN/float(TN+FP)\n",
    "print(\"Specificity of Random Forest:- \",Specificity) #recall\n",
    "spec2.append(Specificity)"
   ]
  },
  {
   "cell_type": "markdown",
   "metadata": {},
   "source": [
    "# Plot Step Backward Selection Result"
   ]
  },
  {
   "cell_type": "code",
   "execution_count": 188,
   "metadata": {},
   "outputs": [
    {
     "data": {
      "text/plain": [
       "Text(0, 0.5, 'Sensitvity% ')"
      ]
     },
     "execution_count": 188,
     "metadata": {},
     "output_type": "execute_result"
    },
    {
     "data": {
      "image/png": "[encoded data removed]",
      "text/plain": [
       "<Figure size 432x288 with 1 Axes>"
      ]
     },
     "metadata": {
      "needs_background": "light"
     },
     "output_type": "display_data"
    }
   ],
   "source": [
    "plt.title(\"Comparison of Sensitvity/Recall of various Models using Step Backward selection\\n\",fontweight=\"bold\")\n",
    "plt.ylim([0.60,1.0])\n",
    "plt.bar(models,sen,width=0.5)\n",
    "plt.xlabel('Model')\n",
    "plt.ylabel('Sensitvity% ')"
   ]
  },
  {
   "cell_type": "code",
   "execution_count": 189,
   "metadata": {},
   "outputs": [
    {
     "data": {
      "text/plain": [
       "Text(0, 0.5, 'Specificity% ')"
      ]
     },
     "execution_count": 189,
     "metadata": {},
     "output_type": "execute_result"
    },
    {
     "data": {
      "image/png": "[encoded data removed]",
      "text/plain": [
       "<Figure size 432x288 with 1 Axes>"
      ]
     },
     "metadata": {
      "needs_background": "light"
     },
     "output_type": "display_data"
    }
   ],
   "source": [
    "plt.title(\"Comparison of Specificity/TNR of various Models using Step Backward selection\\n\",fontweight=\"bold\")\n",
    "plt.ylim([0.70,1.0])\n",
    "plt.bar(models,spec2,width=0.5)\n",
    "plt.xlabel('Model')\n",
    "plt.ylabel('Specificity% ')"
   ]
  }
 ],
 "metadata": {
  "kernelspec": {
   "display_name": "Python 3",
   "language": "python",
   "name": "python3"
  },
  "language_info": {
   "codemirror_mode": {
    "name": "ipython",
    "version": 3
   },
   "file_extension": ".py",
   "mimetype": "text/x-python",
   "name": "python",
   "nbconvert_exporter": "python",
   "pygments_lexer": "ipython3",
   "version": "3.6.12"
  }
 },
 "nbformat": 4,
 "nbformat_minor": 2
}
